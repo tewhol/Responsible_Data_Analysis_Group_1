{
 "cells": [
  {
   "cell_type": "markdown",
   "source": [
    "# Analysing causes of cancer\n",
    "\n",
    "### SEN163B - Responsible Data Analytics\n",
    "\n",
    "Welcome to our code. We are:\n",
    "- Allegra Melli 6104916, \n",
    "- Ann-Kathrin Peitz 6069819, \n",
    "- Julian Jahangir 5176379, \n",
    "- Jurriaan van Lanschot 4929357, \n",
    "- Tim Hol 4487346. \n",
    "\n",
    "We hope it contains everything required. If there are any questions please feel free to contact us. Kind regards, group 1."
   ],
   "metadata": {
    "collapsed": false
   },
   "id": "5ad6ce65721c4bf3"
  },
  {
   "cell_type": "markdown",
   "source": [
    "# 0 - Setting up and importing the dataset"
   ],
   "metadata": {
    "collapsed": false
   },
   "id": "274a77b8c4789366"
  },
  {
   "cell_type": "code",
   "execution_count": 244,
   "id": "initial_id",
   "metadata": {
    "collapsed": true,
    "ExecuteTime": {
     "end_time": "2024-04-15T17:36:13.472249Z",
     "start_time": "2024-04-15T17:36:13.449102Z"
    }
   },
   "outputs": [
    {
     "ename": "ModuleNotFoundError",
     "evalue": "No module named 'pandas'",
     "output_type": "error",
     "traceback": [
      "\u001B[0;31m---------------------------------------------------------------------------\u001B[0m",
      "\u001B[0;31mModuleNotFoundError\u001B[0m                       Traceback (most recent call last)",
      "Cell \u001B[0;32mIn[244], line 1\u001B[0m\n\u001B[0;32m----> 1\u001B[0m \u001B[38;5;28;01mimport\u001B[39;00m \u001B[38;5;21;01mpandas\u001B[39;00m \u001B[38;5;28;01mas\u001B[39;00m \u001B[38;5;21;01mpd\u001B[39;00m\n\u001B[1;32m      2\u001B[0m \u001B[38;5;28;01mimport\u001B[39;00m \u001B[38;5;21;01mnumpy\u001B[39;00m \u001B[38;5;28;01mas\u001B[39;00m \u001B[38;5;21;01mnp\u001B[39;00m\n\u001B[1;32m      3\u001B[0m \u001B[38;5;28;01mimport\u001B[39;00m \u001B[38;5;21;01mmatplotlib\u001B[39;00m\u001B[38;5;21;01m.\u001B[39;00m\u001B[38;5;21;01mpyplot\u001B[39;00m \u001B[38;5;28;01mas\u001B[39;00m \u001B[38;5;21;01mplt\u001B[39;00m\n",
      "\u001B[0;31mModuleNotFoundError\u001B[0m: No module named 'pandas'"
     ]
    }
   ],
   "source": [
    "import pandas as pd\n",
    "import numpy as np\n",
    "import matplotlib.pyplot as plt\n",
    "import scipy.stats as stats\n",
    "import seaborn as sns\n",
    "from scipy.stats import pearsonr\n",
    "import sklearn.model_selection\n",
    "import sklearn.metrics\n",
    "import sklearn.datasets\n",
    "import sklearn.ensemble\n",
    "import sklearn.preprocessing\n",
    "from sklearn.compose import ColumnTransformer\n",
    "from sklearn.preprocessing import OneHotEncoder\n",
    "from sklearn.linear_model import LogisticRegression\n",
    "from sklearn.preprocessing import StandardScaler\n",
    "from sklearn.model_selection import train_test_split\n",
    "from sklearn.tree import DecisionTreeClassifier\n",
    "from sklearn.ensemble import RandomForestClassifier\n",
    "from sklearn.naive_bayes import GaussianNB\n",
    "from sklearn.metrics import accuracy_score, balanced_accuracy_score, f1_score\n",
    "from sklearn.preprocessing import LabelEncoder\n",
    "from sklearn.model_selection import cross_val_score\n",
    "from sklearn.ensemble import VotingClassifier\n",
    "from scipy.cluster.hierarchy import dendrogram, linkage\n",
    "from sklearn.preprocessing import StandardScaler\n",
    "from scipy.cluster import hierarchy\n",
    "from IPython.display import Markdown, display\n",
    "import warnings\n",
    "import lime\n",
    "import lime.lime_tabular\n",
    "import shap\n",
    "from shap.plots import _waterfall\n",
    "import xgboost\n",
    "from xgboost import plot_importance\n",
    "import json\n",
    "from collections import OrderedDict\n",
    "from aequitas.group import Group\n",
    "from aequitas.bias import Bias\n",
    "from aequitas.fairness import Fairness\n",
    "import aequitas.plot as ap\n",
    "\n",
    "cancer_df = pd.read_excel('Project_Data/cancer patient data sets.xlsx')\n",
    "cancer_df_update = pd.read_excel('Project_Data/cancer patient data sets update.xlsx')"
   ]
  },
  {
   "cell_type": "markdown",
   "source": [
    "# 1 - Exploring the Cancer data"
   ],
   "metadata": {
    "collapsed": false
   },
   "id": "5281fe270d569fb6"
  },
  {
   "cell_type": "code",
   "execution_count": 245,
   "outputs": [
    {
     "ename": "NameError",
     "evalue": "name 'cancer_df' is not defined",
     "output_type": "error",
     "traceback": [
      "\u001B[0;31m---------------------------------------------------------------------------\u001B[0m",
      "\u001B[0;31mNameError\u001B[0m                                 Traceback (most recent call last)",
      "Cell \u001B[0;32mIn[245], line 3\u001B[0m\n\u001B[1;32m      1\u001B[0m \u001B[38;5;66;03m# Mapping 'Level' from 'low', 'medium', 'high' to 1, 2, 3\u001B[39;00m\n\u001B[1;32m      2\u001B[0m level_mapping \u001B[38;5;241m=\u001B[39m {\u001B[38;5;124m'\u001B[39m\u001B[38;5;124mLow\u001B[39m\u001B[38;5;124m'\u001B[39m: \u001B[38;5;241m1\u001B[39m, \u001B[38;5;124m'\u001B[39m\u001B[38;5;124mMedium\u001B[39m\u001B[38;5;124m'\u001B[39m: \u001B[38;5;241m2\u001B[39m, \u001B[38;5;124m'\u001B[39m\u001B[38;5;124mHigh\u001B[39m\u001B[38;5;124m'\u001B[39m: \u001B[38;5;241m3\u001B[39m}\n\u001B[0;32m----> 3\u001B[0m cancer_df[\u001B[38;5;124m'\u001B[39m\u001B[38;5;124mLevel\u001B[39m\u001B[38;5;124m'\u001B[39m] \u001B[38;5;241m=\u001B[39m \u001B[43mcancer_df\u001B[49m[\u001B[38;5;124m'\u001B[39m\u001B[38;5;124mLevel\u001B[39m\u001B[38;5;124m'\u001B[39m]\u001B[38;5;241m.\u001B[39mmap(level_mapping)\n\u001B[1;32m      5\u001B[0m \u001B[38;5;66;03m# cancer_df now has the 'Level' variable with values 1, 2, 3\u001B[39;00m\n",
      "\u001B[0;31mNameError\u001B[0m: name 'cancer_df' is not defined"
     ]
    }
   ],
   "source": [
    "# Mapping 'Level' from 'low', 'medium', 'high' to 1, 2, 3\n",
    "level_mapping = {'Low': 1, 'Medium': 2, 'High': 3}\n",
    "cancer_df['Level'] = cancer_df['Level'].map(level_mapping)\n",
    "\n",
    "# cancer_df now has the 'Level' variable with values 1, 2, 3"
   ],
   "metadata": {
    "collapsed": false,
    "ExecuteTime": {
     "end_time": "2024-04-15T17:36:13.541990Z",
     "start_time": "2024-04-15T17:36:13.524026Z"
    }
   },
   "id": "64f66a60a298ccf"
  },
  {
   "cell_type": "code",
   "execution_count": 246,
   "outputs": [
    {
     "ename": "NameError",
     "evalue": "name 'cancer_df' is not defined",
     "output_type": "error",
     "traceback": [
      "\u001B[0;31m---------------------------------------------------------------------------\u001B[0m",
      "\u001B[0;31mNameError\u001B[0m                                 Traceback (most recent call last)",
      "Cell \u001B[0;32mIn[246], line 2\u001B[0m\n\u001B[1;32m      1\u001B[0m \u001B[38;5;66;03m# The imported dataset in a dataframe\u001B[39;00m\n\u001B[0;32m----> 2\u001B[0m \u001B[43mcancer_df\u001B[49m\n",
      "\u001B[0;31mNameError\u001B[0m: name 'cancer_df' is not defined"
     ]
    }
   ],
   "source": [
    "# The imported dataset in a dataframe\n",
    "cancer_df"
   ],
   "metadata": {
    "collapsed": false,
    "ExecuteTime": {
     "end_time": "2024-04-15T17:36:13.678050Z",
     "start_time": "2024-04-15T17:36:13.662838Z"
    }
   },
   "id": "53daaf9640b25b23"
  },
  {
   "cell_type": "code",
   "execution_count": 247,
   "outputs": [
    {
     "ename": "NameError",
     "evalue": "name 'cancer_df' is not defined",
     "output_type": "error",
     "traceback": [
      "\u001B[0;31m---------------------------------------------------------------------------\u001B[0m",
      "\u001B[0;31mNameError\u001B[0m                                 Traceback (most recent call last)",
      "Cell \u001B[0;32mIn[247], line 2\u001B[0m\n\u001B[1;32m      1\u001B[0m \u001B[38;5;66;03m# Exploring all columns\u001B[39;00m\n\u001B[0;32m----> 2\u001B[0m \u001B[43mcancer_df\u001B[49m\u001B[38;5;241m.\u001B[39mcolumns\n",
      "\u001B[0;31mNameError\u001B[0m: name 'cancer_df' is not defined"
     ]
    }
   ],
   "source": [
    "# Exploring all columns\n",
    "cancer_df.columns"
   ],
   "metadata": {
    "collapsed": false,
    "ExecuteTime": {
     "end_time": "2024-04-15T17:36:13.932983Z",
     "start_time": "2024-04-15T17:36:13.917221Z"
    }
   },
   "id": "b40a713222db26ce"
  },
  {
   "cell_type": "markdown",
   "source": [
    "# 2 - Descriptive Analytics\n",
    "\n",
    "For the descriptive analytics some fundamental lifestyle and demographic characteristics are investigated, which are considered important by literature. Both because these characteristics might serve later as good predictors, but also because these characteristics can be considered as variables that are potentially sensitive to biases. Therefore, it is important to study their prevalence in the dataset, so the potential impacts and later potential relations with other variables can be accounted for."
   ],
   "metadata": {
    "collapsed": false
   },
   "id": "3937c811f968225a"
  },
  {
   "cell_type": "markdown",
   "source": [
    "### 2.1 Age and gender distributions"
   ],
   "metadata": {
    "collapsed": false
   },
   "id": "d4fdf41a11b29562"
  },
  {
   "cell_type": "code",
   "execution_count": 248,
   "outputs": [
    {
     "ename": "NameError",
     "evalue": "name 'sns' is not defined",
     "output_type": "error",
     "traceback": [
      "\u001B[0;31m---------------------------------------------------------------------------\u001B[0m",
      "\u001B[0;31mNameError\u001B[0m                                 Traceback (most recent call last)",
      "Cell \u001B[0;32mIn[248], line 2\u001B[0m\n\u001B[1;32m      1\u001B[0m \u001B[38;5;66;03m# Observing the age distribution within the dataset\u001B[39;00m\n\u001B[0;32m----> 2\u001B[0m \u001B[43msns\u001B[49m\u001B[38;5;241m.\u001B[39mhistplot(cancer_df[\u001B[38;5;124m'\u001B[39m\u001B[38;5;124mAge\u001B[39m\u001B[38;5;124m'\u001B[39m], bins\u001B[38;5;241m=\u001B[39m\u001B[38;5;241m10\u001B[39m, kde\u001B[38;5;241m=\u001B[39m\u001B[38;5;28;01mTrue\u001B[39;00m)\n\u001B[1;32m      3\u001B[0m plt\u001B[38;5;241m.\u001B[39mtitle(\u001B[38;5;124m'\u001B[39m\u001B[38;5;124mAge Distribution\u001B[39m\u001B[38;5;124m'\u001B[39m)\n\u001B[1;32m      4\u001B[0m plt\u001B[38;5;241m.\u001B[39mxlabel(\u001B[38;5;124m'\u001B[39m\u001B[38;5;124mAge\u001B[39m\u001B[38;5;124m'\u001B[39m)\n",
      "\u001B[0;31mNameError\u001B[0m: name 'sns' is not defined"
     ]
    }
   ],
   "source": [
    "# Observing the age distribution within the dataset\n",
    "sns.histplot(cancer_df['Age'], bins=10, kde=True)\n",
    "plt.title('Age Distribution')\n",
    "plt.xlabel('Age')\n",
    "plt.ylabel('Frequency')\n",
    "plt.show()"
   ],
   "metadata": {
    "collapsed": false,
    "ExecuteTime": {
     "end_time": "2024-04-15T17:36:14.038173Z",
     "start_time": "2024-04-15T17:36:14.021108Z"
    }
   },
   "id": "9703d563a1171ce9"
  },
  {
   "cell_type": "code",
   "execution_count": 249,
   "outputs": [
    {
     "ename": "NameError",
     "evalue": "name 'sns' is not defined",
     "output_type": "error",
     "traceback": [
      "\u001B[0;31m---------------------------------------------------------------------------\u001B[0m",
      "\u001B[0;31mNameError\u001B[0m                                 Traceback (most recent call last)",
      "Cell \u001B[0;32mIn[249], line 2\u001B[0m\n\u001B[1;32m      1\u001B[0m \u001B[38;5;66;03m# The Gender distribution of the dataset\u001B[39;00m\n\u001B[0;32m----> 2\u001B[0m \u001B[43msns\u001B[49m\u001B[38;5;241m.\u001B[39mcountplot(x\u001B[38;5;241m=\u001B[39m\u001B[38;5;124m'\u001B[39m\u001B[38;5;124mGender\u001B[39m\u001B[38;5;124m'\u001B[39m, data\u001B[38;5;241m=\u001B[39mcancer_df)\n\u001B[1;32m      3\u001B[0m plt\u001B[38;5;241m.\u001B[39mtitle(\u001B[38;5;124m'\u001B[39m\u001B[38;5;124mGender Distribution\u001B[39m\u001B[38;5;124m'\u001B[39m)\n\u001B[1;32m      4\u001B[0m plt\u001B[38;5;241m.\u001B[39mxticks([\u001B[38;5;241m0\u001B[39m, \u001B[38;5;241m1\u001B[39m], [\u001B[38;5;124m'\u001B[39m\u001B[38;5;124mMale\u001B[39m\u001B[38;5;124m'\u001B[39m, \u001B[38;5;124m'\u001B[39m\u001B[38;5;124mFemale\u001B[39m\u001B[38;5;124m'\u001B[39m], rotation\u001B[38;5;241m=\u001B[39m\u001B[38;5;241m0\u001B[39m)  \u001B[38;5;66;03m# Adjust as necessary\u001B[39;00m\n",
      "\u001B[0;31mNameError\u001B[0m: name 'sns' is not defined"
     ]
    }
   ],
   "source": [
    "# The Gender distribution of the dataset\n",
    "sns.countplot(x='Gender', data=cancer_df)\n",
    "plt.title('Gender Distribution')\n",
    "plt.xticks([0, 1], ['Male', 'Female'], rotation=0)  # Adjust as necessary\n",
    "plt.xlabel('Gender')\n",
    "plt.ylabel('Count')\n",
    "plt.show()"
   ],
   "metadata": {
    "collapsed": false,
    "ExecuteTime": {
     "end_time": "2024-04-15T17:36:14.332517Z",
     "start_time": "2024-04-15T17:36:14.313250Z"
    }
   },
   "id": "45af12b7d04d8f00"
  },
  {
   "cell_type": "code",
   "execution_count": 250,
   "outputs": [
    {
     "ename": "NameError",
     "evalue": "name 'sns' is not defined",
     "output_type": "error",
     "traceback": [
      "\u001B[0;31m---------------------------------------------------------------------------\u001B[0m",
      "\u001B[0;31mNameError\u001B[0m                                 Traceback (most recent call last)",
      "Cell \u001B[0;32mIn[250], line 2\u001B[0m\n\u001B[1;32m      1\u001B[0m \u001B[38;5;66;03m# Observing the age and gender distribution within the dataset\u001B[39;00m\n\u001B[0;32m----> 2\u001B[0m age_gender_plot \u001B[38;5;241m=\u001B[39m \u001B[43msns\u001B[49m\u001B[38;5;241m.\u001B[39mhistplot(data\u001B[38;5;241m=\u001B[39mcancer_df, x\u001B[38;5;241m=\u001B[39m\u001B[38;5;124m'\u001B[39m\u001B[38;5;124mAge\u001B[39m\u001B[38;5;124m'\u001B[39m, hue\u001B[38;5;241m=\u001B[39m\u001B[38;5;124m'\u001B[39m\u001B[38;5;124mGender\u001B[39m\u001B[38;5;124m'\u001B[39m, multiple\u001B[38;5;241m=\u001B[39m\u001B[38;5;124m'\u001B[39m\u001B[38;5;124mdodge\u001B[39m\u001B[38;5;124m'\u001B[39m, bins\u001B[38;5;241m=\u001B[39m\u001B[38;5;241m10\u001B[39m, kde\u001B[38;5;241m=\u001B[39m\u001B[38;5;28;01mTrue\u001B[39;00m, palette\u001B[38;5;241m=\u001B[39m\u001B[38;5;124m'\u001B[39m\u001B[38;5;124mSet2\u001B[39m\u001B[38;5;124m'\u001B[39m)\n\u001B[1;32m      3\u001B[0m plt\u001B[38;5;241m.\u001B[39mtitle(\u001B[38;5;124m'\u001B[39m\u001B[38;5;124mAge Distribution, gender split\u001B[39m\u001B[38;5;124m'\u001B[39m)\n\u001B[1;32m      4\u001B[0m plt\u001B[38;5;241m.\u001B[39mxlabel(\u001B[38;5;124m'\u001B[39m\u001B[38;5;124mAge\u001B[39m\u001B[38;5;124m'\u001B[39m)\n",
      "\u001B[0;31mNameError\u001B[0m: name 'sns' is not defined"
     ]
    }
   ],
   "source": [
    "# Observing the age and gender distribution within the dataset\n",
    "age_gender_plot = sns.histplot(data=cancer_df, x='Age', hue='Gender', multiple='dodge', bins=10, kde=True, palette='Set2')\n",
    "plt.title('Age Distribution, gender split')\n",
    "plt.xlabel('Age')\n",
    "plt.ylabel('Frequency')\n",
    "age_gender_plot.legend(title='Gender', labels=['Female', 'Male'])\n",
    "plt.show()"
   ],
   "metadata": {
    "collapsed": false,
    "ExecuteTime": {
     "end_time": "2024-04-15T17:36:14.399046Z",
     "start_time": "2024-04-15T17:36:14.380685Z"
    }
   },
   "id": "4d1bb535a91f9aeb"
  },
  {
   "cell_type": "markdown",
   "source": [
    "### 2.2 - Disease Severity"
   ],
   "metadata": {
    "collapsed": false
   },
   "id": "41beec254ee640f2"
  },
  {
   "cell_type": "code",
   "execution_count": 251,
   "outputs": [
    {
     "ename": "NameError",
     "evalue": "name 'pd' is not defined",
     "output_type": "error",
     "traceback": [
      "\u001B[0;31m---------------------------------------------------------------------------\u001B[0m",
      "\u001B[0;31mNameError\u001B[0m                                 Traceback (most recent call last)",
      "Cell \u001B[0;32mIn[251], line 2\u001B[0m\n\u001B[1;32m      1\u001B[0m \u001B[38;5;66;03m# Amount of cases and their severity vs the gender division\u001B[39;00m\n\u001B[0;32m----> 2\u001B[0m \u001B[43mpd\u001B[49m\u001B[38;5;241m.\u001B[39mcrosstab(cancer_df[\u001B[38;5;124m'\u001B[39m\u001B[38;5;124mGender\u001B[39m\u001B[38;5;124m'\u001B[39m], cancer_df[\u001B[38;5;124m'\u001B[39m\u001B[38;5;124mLevel\u001B[39m\u001B[38;5;124m'\u001B[39m])\u001B[38;5;241m.\u001B[39mplot(kind\u001B[38;5;241m=\u001B[39m\u001B[38;5;124m'\u001B[39m\u001B[38;5;124mbar\u001B[39m\u001B[38;5;124m'\u001B[39m, stacked\u001B[38;5;241m=\u001B[39m\u001B[38;5;28;01mTrue\u001B[39;00m)\n\u001B[1;32m      3\u001B[0m plt\u001B[38;5;241m.\u001B[39mtitle(\u001B[38;5;124m'\u001B[39m\u001B[38;5;124mDisease Severity by Gender\u001B[39m\u001B[38;5;124m'\u001B[39m)\n\u001B[1;32m      4\u001B[0m plt\u001B[38;5;241m.\u001B[39mxlabel(\u001B[38;5;124m'\u001B[39m\u001B[38;5;124mGender\u001B[39m\u001B[38;5;124m'\u001B[39m)\n",
      "\u001B[0;31mNameError\u001B[0m: name 'pd' is not defined"
     ]
    }
   ],
   "source": [
    "# Amount of cases and their severity vs the gender division\n",
    "pd.crosstab(cancer_df['Gender'], cancer_df['Level']).plot(kind='bar', stacked=True)\n",
    "plt.title('Disease Severity by Gender')\n",
    "plt.xlabel('Gender')\n",
    "plt.ylabel('Number of Cases')\n",
    "plt.xticks([0, 1], ['Male', 'Female'], rotation=0)  # Adjust as necessary\n",
    "plt.legend(title='Disease Severity Level', labels=['Mild', 'Average', 'Severe'])"
   ],
   "metadata": {
    "collapsed": false,
    "ExecuteTime": {
     "end_time": "2024-04-15T17:36:14.589973Z",
     "start_time": "2024-04-15T17:36:14.570870Z"
    }
   },
   "id": "21b834dbd5ffec8d"
  },
  {
   "cell_type": "code",
   "execution_count": 252,
   "outputs": [
    {
     "ename": "NameError",
     "evalue": "name 'sns' is not defined",
     "output_type": "error",
     "traceback": [
      "\u001B[0;31m---------------------------------------------------------------------------\u001B[0m",
      "\u001B[0;31mNameError\u001B[0m                                 Traceback (most recent call last)",
      "Cell \u001B[0;32mIn[252], line 3\u001B[0m\n\u001B[1;32m      1\u001B[0m \u001B[38;5;66;03m# Level of disease severity by gender, split per level\u001B[39;00m\n\u001B[1;32m      2\u001B[0m \u001B[38;5;66;03m# Assuming cancer_df is your DataFrame\u001B[39;00m\n\u001B[0;32m----> 3\u001B[0m \u001B[43msns\u001B[49m\u001B[38;5;241m.\u001B[39mset(style\u001B[38;5;241m=\u001B[39m\u001B[38;5;124m\"\u001B[39m\u001B[38;5;124mwhitegrid\u001B[39m\u001B[38;5;124m\"\u001B[39m)\n\u001B[1;32m      4\u001B[0m plt\u001B[38;5;241m.\u001B[39mfigure(figsize\u001B[38;5;241m=\u001B[39m(\u001B[38;5;241m10\u001B[39m, \u001B[38;5;241m6\u001B[39m))\n\u001B[1;32m      6\u001B[0m \u001B[38;5;66;03m# Making a countplot for the different disease levels per gender\u001B[39;00m\n",
      "\u001B[0;31mNameError\u001B[0m: name 'sns' is not defined"
     ]
    }
   ],
   "source": [
    "# Level of disease severity by gender, split per level\n",
    "# Assuming cancer_df is your DataFrame\n",
    "sns.set(style=\"whitegrid\")\n",
    "plt.figure(figsize=(10, 6))\n",
    "\n",
    "# Making a countplot for the different disease levels per gender\n",
    "level_gender_plot = sns.countplot(data=cancer_df, x='Level', hue='Gender', palette='Set2')\n",
    "\n",
    "plt.title('Disease Severity by Gender')\n",
    "plt.xlabel('Disease Severity Level', labelpad=20)\n",
    "level_gender_plot.set_xticklabels(['Mild', 'Average', 'Severe'])\n",
    "plt.ylabel('Number of Cases')\n",
    "plt.legend(title='Gender', labels=['Male', 'Female'])\n",
    "plt.show()"
   ],
   "metadata": {
    "collapsed": false,
    "ExecuteTime": {
     "end_time": "2024-04-15T17:36:14.776906Z",
     "start_time": "2024-04-15T17:36:14.758587Z"
    }
   },
   "id": "ad9fd1be87011f4"
  },
  {
   "cell_type": "code",
   "execution_count": 253,
   "outputs": [
    {
     "ename": "NameError",
     "evalue": "name 'sns' is not defined",
     "output_type": "error",
     "traceback": [
      "\u001B[0;31m---------------------------------------------------------------------------\u001B[0m",
      "\u001B[0;31mNameError\u001B[0m                                 Traceback (most recent call last)",
      "Cell \u001B[0;32mIn[253], line 2\u001B[0m\n\u001B[1;32m      1\u001B[0m \u001B[38;5;66;03m# Disease Severity by age\u001B[39;00m\n\u001B[0;32m----> 2\u001B[0m \u001B[43msns\u001B[49m\u001B[38;5;241m.\u001B[39mset(style\u001B[38;5;241m=\u001B[39m\u001B[38;5;124m\"\u001B[39m\u001B[38;5;124mwhitegrid\u001B[39m\u001B[38;5;124m\"\u001B[39m)\n\u001B[1;32m      3\u001B[0m plt\u001B[38;5;241m.\u001B[39mfigure(figsize\u001B[38;5;241m=\u001B[39m(\u001B[38;5;241m6\u001B[39m, \u001B[38;5;241m6\u001B[39m))\n\u001B[1;32m      5\u001B[0m \u001B[38;5;66;03m# Creating a box plot per disease level for the ages\u001B[39;00m\n",
      "\u001B[0;31mNameError\u001B[0m: name 'sns' is not defined"
     ]
    }
   ],
   "source": [
    "# Disease Severity by age\n",
    "sns.set(style=\"whitegrid\")\n",
    "plt.figure(figsize=(6, 6))\n",
    "\n",
    "# Creating a box plot per disease level for the ages\n",
    "age_level_plot = sns.boxplot(data=cancer_df, x = 'Level', y = 'Age')\n",
    "plt.title('Disease Severity by Age')\n",
    "age_level_plot.set_xticklabels(['Mild', 'Average', 'Severe'])\n",
    "plt.xlabel('Disease Severity Level', labelpad=20)\n",
    "plt.ylabel('Age')\n",
    "plt.show()"
   ],
   "metadata": {
    "collapsed": false,
    "ExecuteTime": {
     "end_time": "2024-04-15T17:36:14.902082Z",
     "start_time": "2024-04-15T17:36:14.883705Z"
    }
   },
   "id": "7adf748aa7a2713d"
  },
  {
   "cell_type": "code",
   "execution_count": 254,
   "outputs": [
    {
     "ename": "NameError",
     "evalue": "name 'sns' is not defined",
     "output_type": "error",
     "traceback": [
      "\u001B[0;31m---------------------------------------------------------------------------\u001B[0m",
      "\u001B[0;31mNameError\u001B[0m                                 Traceback (most recent call last)",
      "Cell \u001B[0;32mIn[254], line 2\u001B[0m\n\u001B[1;32m      1\u001B[0m \u001B[38;5;66;03m# Disease Severity by gender and age\u001B[39;00m\n\u001B[0;32m----> 2\u001B[0m \u001B[43msns\u001B[49m\u001B[38;5;241m.\u001B[39mset(style\u001B[38;5;241m=\u001B[39m\u001B[38;5;124m\"\u001B[39m\u001B[38;5;124mwhitegrid\u001B[39m\u001B[38;5;124m\"\u001B[39m)\n\u001B[1;32m      3\u001B[0m plt\u001B[38;5;241m.\u001B[39mfigure(figsize\u001B[38;5;241m=\u001B[39m(\u001B[38;5;241m8\u001B[39m, \u001B[38;5;241m8\u001B[39m))\n\u001B[1;32m      5\u001B[0m \u001B[38;5;66;03m# Creating the plot\u001B[39;00m\n",
      "\u001B[0;31mNameError\u001B[0m: name 'sns' is not defined"
     ]
    }
   ],
   "source": [
    "# Disease Severity by gender and age\n",
    "sns.set(style=\"whitegrid\")\n",
    "plt.figure(figsize=(8, 8))\n",
    "\n",
    "# Creating the plot\n",
    "age_gender_level_plot = sns.boxplot(data=cancer_df, x = 'Level', y = 'Age', hue='Gender', palette='Set2', legend='full')\n",
    "plt.title('Disease Severity by Age and Gender')\n",
    "age_gender_level_plot.set_xticklabels(['Mild', 'Average', 'Severe'])\n",
    "plt.xlabel('Disease Severity Level', labelpad=20)\n",
    "plt.ylabel('Age')\n",
    "age_gender_level_plot.legend(title='Gender', labels=['Male', 'Female'])\n",
    "plt.show()"
   ],
   "metadata": {
    "collapsed": false,
    "ExecuteTime": {
     "end_time": "2024-04-15T17:36:15.065581Z",
     "start_time": "2024-04-15T17:36:15.043938Z"
    }
   },
   "id": "a12ccfc14a7aca8d"
  },
  {
   "cell_type": "markdown",
   "source": [
    "### 2.3 Smoking distributions"
   ],
   "metadata": {
    "collapsed": false
   },
   "id": "f90dc06aee04dfce"
  },
  {
   "cell_type": "code",
   "execution_count": 255,
   "outputs": [
    {
     "ename": "NameError",
     "evalue": "name 'cancer_df' is not defined",
     "output_type": "error",
     "traceback": [
      "\u001B[0;31m---------------------------------------------------------------------------\u001B[0m",
      "\u001B[0;31mNameError\u001B[0m                                 Traceback (most recent call last)",
      "Cell \u001B[0;32mIn[255], line 2\u001B[0m\n\u001B[1;32m      1\u001B[0m \u001B[38;5;66;03m# Count occurrences of each unique value in the 'Smoking' column\u001B[39;00m\n\u001B[0;32m----> 2\u001B[0m smoking_counts \u001B[38;5;241m=\u001B[39m \u001B[43mcancer_df\u001B[49m[\u001B[38;5;124m'\u001B[39m\u001B[38;5;124mSmoking\u001B[39m\u001B[38;5;124m'\u001B[39m]\u001B[38;5;241m.\u001B[39mvalue_counts()\n\u001B[1;32m      4\u001B[0m \u001B[38;5;66;03m# Plotting\u001B[39;00m\n\u001B[1;32m      5\u001B[0m plt\u001B[38;5;241m.\u001B[39mbar(smoking_counts\u001B[38;5;241m.\u001B[39mindex, smoking_counts\u001B[38;5;241m.\u001B[39mvalues)\n",
      "\u001B[0;31mNameError\u001B[0m: name 'cancer_df' is not defined"
     ]
    }
   ],
   "source": [
    "# Count occurrences of each unique value in the 'Smoking' column\n",
    "smoking_counts = cancer_df['Smoking'].value_counts()\n",
    "\n",
    "# Plotting\n",
    "plt.bar(smoking_counts.index, smoking_counts.values)\n",
    "plt.xlabel('Smoking category')\n",
    "plt.ylabel('Count')\n",
    "plt.title('Count per smoking category')\n",
    "plt.show()"
   ],
   "metadata": {
    "collapsed": false,
    "ExecuteTime": {
     "end_time": "2024-04-15T17:36:15.169070Z",
     "start_time": "2024-04-15T17:36:15.150518Z"
    }
   },
   "id": "eefb32d8f8844095"
  },
  {
   "cell_type": "code",
   "execution_count": 256,
   "outputs": [
    {
     "ename": "NameError",
     "evalue": "name 'sns' is not defined",
     "output_type": "error",
     "traceback": [
      "\u001B[0;31m---------------------------------------------------------------------------\u001B[0m",
      "\u001B[0;31mNameError\u001B[0m                                 Traceback (most recent call last)",
      "Cell \u001B[0;32mIn[256], line 2\u001B[0m\n\u001B[1;32m      1\u001B[0m \u001B[38;5;66;03m# Smoking category per gender\u001B[39;00m\n\u001B[0;32m----> 2\u001B[0m \u001B[43msns\u001B[49m\u001B[38;5;241m.\u001B[39mset(style\u001B[38;5;241m=\u001B[39m\u001B[38;5;124m\"\u001B[39m\u001B[38;5;124mwhitegrid\u001B[39m\u001B[38;5;124m\"\u001B[39m)\n\u001B[1;32m      3\u001B[0m plt\u001B[38;5;241m.\u001B[39mfigure(figsize\u001B[38;5;241m=\u001B[39m(\u001B[38;5;241m12\u001B[39m, \u001B[38;5;241m6\u001B[39m))\n\u001B[1;32m      5\u001B[0m \u001B[38;5;66;03m# Creating a count plot for the smoking values per catagory split for Gender\u001B[39;00m\n",
      "\u001B[0;31mNameError\u001B[0m: name 'sns' is not defined"
     ]
    }
   ],
   "source": [
    "# Smoking category per gender\n",
    "sns.set(style=\"whitegrid\")\n",
    "plt.figure(figsize=(12, 6))\n",
    "\n",
    "# Creating a count plot for the smoking values per catagory split for Gender\n",
    "sns.countplot(data=cancer_df, x='Smoking', hue='Gender', palette='Set2')\n",
    "plt.xlabel('Smoking category')\n",
    "plt.ylabel('Count')\n",
    "plt.title('Count per Smoking category for Men and Women')\n",
    "plt.legend(title='Gender', labels=['Male', 'Female'])\n",
    "plt.xticks()\n",
    "plt.show()"
   ],
   "metadata": {
    "collapsed": false,
    "ExecuteTime": {
     "end_time": "2024-04-15T17:36:15.354852Z",
     "start_time": "2024-04-15T17:36:15.336963Z"
    }
   },
   "id": "5cf195ea4af8399a"
  },
  {
   "cell_type": "code",
   "execution_count": 257,
   "outputs": [
    {
     "ename": "NameError",
     "evalue": "name 'sns' is not defined",
     "output_type": "error",
     "traceback": [
      "\u001B[0;31m---------------------------------------------------------------------------\u001B[0m",
      "\u001B[0;31mNameError\u001B[0m                                 Traceback (most recent call last)",
      "Cell \u001B[0;32mIn[257], line 2\u001B[0m\n\u001B[1;32m      1\u001B[0m \u001B[38;5;66;03m# Smoking level vs Disease Severity\u001B[39;00m\n\u001B[0;32m----> 2\u001B[0m \u001B[43msns\u001B[49m\u001B[38;5;241m.\u001B[39mcountplot(data\u001B[38;5;241m=\u001B[39mcancer_df, x \u001B[38;5;241m=\u001B[39m \u001B[38;5;124m'\u001B[39m\u001B[38;5;124mSmoking\u001B[39m\u001B[38;5;124m'\u001B[39m, hue \u001B[38;5;241m=\u001B[39m \u001B[38;5;124m'\u001B[39m\u001B[38;5;124mLevel\u001B[39m\u001B[38;5;124m'\u001B[39m)\n\u001B[1;32m      3\u001B[0m plt\u001B[38;5;241m.\u001B[39mtitle(\u001B[38;5;124m'\u001B[39m\u001B[38;5;124mLevels of smoking vs disease severity\u001B[39m\u001B[38;5;124m'\u001B[39m)\n\u001B[1;32m      4\u001B[0m plt\u001B[38;5;241m.\u001B[39mlegend(title\u001B[38;5;241m=\u001B[39m\u001B[38;5;124m'\u001B[39m\u001B[38;5;124mDisease Severity Level\u001B[39m\u001B[38;5;124m'\u001B[39m, labels\u001B[38;5;241m=\u001B[39m[\u001B[38;5;124m'\u001B[39m\u001B[38;5;124mMild\u001B[39m\u001B[38;5;124m'\u001B[39m, \u001B[38;5;124m'\u001B[39m\u001B[38;5;124mAverage\u001B[39m\u001B[38;5;124m'\u001B[39m, \u001B[38;5;124m'\u001B[39m\u001B[38;5;124mSevere\u001B[39m\u001B[38;5;124m'\u001B[39m, ])\n",
      "\u001B[0;31mNameError\u001B[0m: name 'sns' is not defined"
     ]
    }
   ],
   "source": [
    "# Smoking level vs Disease Severity\n",
    "sns.countplot(data=cancer_df, x = 'Smoking', hue = 'Level')\n",
    "plt.title('Levels of smoking vs disease severity')\n",
    "plt.legend(title='Disease Severity Level', labels=['Mild', 'Average', 'Severe', ])\n",
    "plt.xlabel('Smoking category (from low to high)')\n",
    "plt.ylabel('Smokers count')\n",
    "plt.show()"
   ],
   "metadata": {
    "collapsed": false,
    "ExecuteTime": {
     "end_time": "2024-04-15T17:36:15.666892Z",
     "start_time": "2024-04-15T17:36:15.648634Z"
    }
   },
   "id": "1a5e5d9569d0a529"
  },
  {
   "cell_type": "code",
   "execution_count": 258,
   "outputs": [
    {
     "ename": "NameError",
     "evalue": "name 'sns' is not defined",
     "output_type": "error",
     "traceback": [
      "\u001B[0;31m---------------------------------------------------------------------------\u001B[0m",
      "\u001B[0;31mNameError\u001B[0m                                 Traceback (most recent call last)",
      "Cell \u001B[0;32mIn[258], line 2\u001B[0m\n\u001B[1;32m      1\u001B[0m \u001B[38;5;66;03m# Smoking level vs age\u001B[39;00m\n\u001B[0;32m----> 2\u001B[0m smoke_age_plot \u001B[38;5;241m=\u001B[39m \u001B[43msns\u001B[49m\u001B[38;5;241m.\u001B[39mboxplot(data\u001B[38;5;241m=\u001B[39mcancer_df, x\u001B[38;5;241m=\u001B[39m\u001B[38;5;124m'\u001B[39m\u001B[38;5;124mSmoking\u001B[39m\u001B[38;5;124m'\u001B[39m, y\u001B[38;5;241m=\u001B[39m\u001B[38;5;124m'\u001B[39m\u001B[38;5;124mAge\u001B[39m\u001B[38;5;124m'\u001B[39m)\n\u001B[1;32m      3\u001B[0m plt\u001B[38;5;241m.\u001B[39mtitle(\u001B[38;5;124m'\u001B[39m\u001B[38;5;124mDistribution of smokers vs age\u001B[39m\u001B[38;5;124m'\u001B[39m)\n\u001B[1;32m      4\u001B[0m plt\u001B[38;5;241m.\u001B[39mxlabel(\u001B[38;5;124m'\u001B[39m\u001B[38;5;124mSmoking category\u001B[39m\u001B[38;5;124m'\u001B[39m)\n",
      "\u001B[0;31mNameError\u001B[0m: name 'sns' is not defined"
     ]
    }
   ],
   "source": [
    "# Smoking level vs age\n",
    "smoke_age_plot = sns.boxplot(data=cancer_df, x='Smoking', y='Age')\n",
    "plt.title('Distribution of smokers vs age')\n",
    "plt.xlabel('Smoking category')\n",
    "plt.show()"
   ],
   "metadata": {
    "collapsed": false,
    "ExecuteTime": {
     "end_time": "2024-04-15T17:36:15.775677Z",
     "start_time": "2024-04-15T17:36:15.757214Z"
    }
   },
   "id": "850cd9fbc244e410"
  },
  {
   "cell_type": "code",
   "execution_count": 259,
   "outputs": [
    {
     "ename": "NameError",
     "evalue": "name 'sns' is not defined",
     "output_type": "error",
     "traceback": [
      "\u001B[0;31m---------------------------------------------------------------------------\u001B[0m",
      "\u001B[0;31mNameError\u001B[0m                                 Traceback (most recent call last)",
      "Cell \u001B[0;32mIn[259], line 2\u001B[0m\n\u001B[1;32m      1\u001B[0m \u001B[38;5;66;03m# Smoking level vs age and gender\u001B[39;00m\n\u001B[0;32m----> 2\u001B[0m smoke_age_gender_plot \u001B[38;5;241m=\u001B[39m \u001B[43msns\u001B[49m\u001B[38;5;241m.\u001B[39mboxplot(data\u001B[38;5;241m=\u001B[39mcancer_df, x\u001B[38;5;241m=\u001B[39m\u001B[38;5;124m'\u001B[39m\u001B[38;5;124mSmoking\u001B[39m\u001B[38;5;124m'\u001B[39m, y\u001B[38;5;241m=\u001B[39m\u001B[38;5;124m'\u001B[39m\u001B[38;5;124mAge\u001B[39m\u001B[38;5;124m'\u001B[39m, hue\u001B[38;5;241m=\u001B[39m\u001B[38;5;124m'\u001B[39m\u001B[38;5;124mGender\u001B[39m\u001B[38;5;124m'\u001B[39m, palette\u001B[38;5;241m=\u001B[39m\u001B[38;5;124m'\u001B[39m\u001B[38;5;124mSet2\u001B[39m\u001B[38;5;124m'\u001B[39m)\n\u001B[1;32m      3\u001B[0m plt\u001B[38;5;241m.\u001B[39mtitle(\u001B[38;5;124m'\u001B[39m\u001B[38;5;124mDistribution of smokers vs age and gender\u001B[39m\u001B[38;5;124m'\u001B[39m)\n\u001B[1;32m      4\u001B[0m plt\u001B[38;5;241m.\u001B[39mxlabel(\u001B[38;5;124m'\u001B[39m\u001B[38;5;124mSmoking category\u001B[39m\u001B[38;5;124m'\u001B[39m)\n",
      "\u001B[0;31mNameError\u001B[0m: name 'sns' is not defined"
     ]
    }
   ],
   "source": [
    "# Smoking level vs age and gender\n",
    "smoke_age_gender_plot = sns.boxplot(data=cancer_df, x='Smoking', y='Age', hue='Gender', palette='Set2')\n",
    "plt.title('Distribution of smokers vs age and gender')\n",
    "plt.xlabel('Smoking category')\n",
    "plt.legend(title='Gender', labels=['Male', 'Female'])\n",
    "plt.show()"
   ],
   "metadata": {
    "collapsed": false,
    "ExecuteTime": {
     "end_time": "2024-04-15T17:36:15.970146Z",
     "start_time": "2024-04-15T17:36:15.951413Z"
    }
   },
   "id": "a0a40e4edb65355a"
  },
  {
   "cell_type": "code",
   "execution_count": 260,
   "outputs": [
    {
     "ename": "NameError",
     "evalue": "name 'cancer_df' is not defined",
     "output_type": "error",
     "traceback": [
      "\u001B[0;31m---------------------------------------------------------------------------\u001B[0m",
      "\u001B[0;31mNameError\u001B[0m                                 Traceback (most recent call last)",
      "Cell \u001B[0;32mIn[260], line 3\u001B[0m\n\u001B[1;32m      1\u001B[0m \u001B[38;5;66;03m# Visualizing the same data in a catplot\u001B[39;00m\n\u001B[1;32m      2\u001B[0m \u001B[38;5;66;03m# The dataframe needs to be copied before recoding\u001B[39;00m\n\u001B[0;32m----> 3\u001B[0m cancer_df_gender \u001B[38;5;241m=\u001B[39m \u001B[43mcancer_df\u001B[49m\u001B[38;5;241m.\u001B[39mcopy()\n\u001B[1;32m      5\u001B[0m \u001B[38;5;66;03m# Replace numeric values with string labels in the copied dataset\u001B[39;00m\n\u001B[1;32m      6\u001B[0m cancer_df_gender\u001B[38;5;241m.\u001B[39mloc[cancer_df_gender[\u001B[38;5;124m'\u001B[39m\u001B[38;5;124mGender\u001B[39m\u001B[38;5;124m'\u001B[39m] \u001B[38;5;241m==\u001B[39m \u001B[38;5;241m1\u001B[39m, \u001B[38;5;124m'\u001B[39m\u001B[38;5;124mGender\u001B[39m\u001B[38;5;124m'\u001B[39m] \u001B[38;5;241m=\u001B[39m \u001B[38;5;124m'\u001B[39m\u001B[38;5;124mMale\u001B[39m\u001B[38;5;124m'\u001B[39m\n",
      "\u001B[0;31mNameError\u001B[0m: name 'cancer_df' is not defined"
     ]
    }
   ],
   "source": [
    "# Visualizing the same data in a catplot\n",
    "# The dataframe needs to be copied before recoding\n",
    "cancer_df_gender = cancer_df.copy()\n",
    "\n",
    "# Replace numeric values with string labels in the copied dataset\n",
    "cancer_df_gender.loc[cancer_df_gender['Gender'] == 1, 'Gender'] = 'Male'\n",
    "cancer_df_gender.loc[cancer_df_gender['Gender'] == 2, 'Gender'] = 'Female'\n",
    "catplot_smokes_age_gender = sns.catplot(data=cancer_df_gender, x = 'Age', y = 'Gender', hue='Smoking')\n",
    "catplot_smokes_age_gender._legend.remove()\n",
    "plt.title('Distribution of smokers vs age and gender')\n",
    "plt.xlabel('Age')\n",
    "plt.ylabel('Gender')\n",
    "plt.legend(title='Smoking Category', labels=['cat 1', 'cat 2', 'cat 3', 'cat 4', 'cat 5', 'cat 6', 'cat 7'], bbox_to_anchor=(1.05, 1), loc='upper left')\n",
    "plt.show()"
   ],
   "metadata": {
    "collapsed": false,
    "ExecuteTime": {
     "end_time": "2024-04-15T17:36:16.283430Z",
     "start_time": "2024-04-15T17:36:16.258489Z"
    }
   },
   "id": "b677a35d97873612"
  },
  {
   "cell_type": "markdown",
   "source": [
    "### 2.4 Air pollution"
   ],
   "metadata": {
    "collapsed": false
   },
   "id": "72c4e36c84ebdfd7"
  },
  {
   "cell_type": "code",
   "execution_count": 261,
   "outputs": [
    {
     "ename": "NameError",
     "evalue": "name 'sns' is not defined",
     "output_type": "error",
     "traceback": [
      "\u001B[0;31m---------------------------------------------------------------------------\u001B[0m",
      "\u001B[0;31mNameError\u001B[0m                                 Traceback (most recent call last)",
      "Cell \u001B[0;32mIn[261], line 2\u001B[0m\n\u001B[1;32m      1\u001B[0m \u001B[38;5;66;03m# Making a Air pollution histogram\u001B[39;00m\n\u001B[0;32m----> 2\u001B[0m \u001B[43msns\u001B[49m\u001B[38;5;241m.\u001B[39mcountplot(data\u001B[38;5;241m=\u001B[39mcancer_df, x\u001B[38;5;241m=\u001B[39m\u001B[38;5;124m'\u001B[39m\u001B[38;5;124mAir Pollution\u001B[39m\u001B[38;5;124m'\u001B[39m)\n\u001B[1;32m      3\u001B[0m plt\u001B[38;5;241m.\u001B[39mtitle(\u001B[38;5;124m'\u001B[39m\u001B[38;5;124mAir Pollution categories\u001B[39m\u001B[38;5;124m'\u001B[39m)\n\u001B[1;32m      4\u001B[0m plt\u001B[38;5;241m.\u001B[39mxlabel(\u001B[38;5;124m'\u001B[39m\u001B[38;5;124mCategories\u001B[39m\u001B[38;5;124m'\u001B[39m)\n",
      "\u001B[0;31mNameError\u001B[0m: name 'sns' is not defined"
     ]
    }
   ],
   "source": [
    "# Making a Air pollution histogram\n",
    "sns.countplot(data=cancer_df, x='Air Pollution')\n",
    "plt.title('Air Pollution categories')\n",
    "plt.xlabel('Categories')\n",
    "plt.show()"
   ],
   "metadata": {
    "collapsed": false,
    "ExecuteTime": {
     "end_time": "2024-04-15T17:36:16.348572Z",
     "start_time": "2024-04-15T17:36:16.330229Z"
    }
   },
   "id": "1571c147325d1600"
  },
  {
   "cell_type": "code",
   "execution_count": 262,
   "outputs": [
    {
     "ename": "NameError",
     "evalue": "name 'sns' is not defined",
     "output_type": "error",
     "traceback": [
      "\u001B[0;31m---------------------------------------------------------------------------\u001B[0m",
      "\u001B[0;31mNameError\u001B[0m                                 Traceback (most recent call last)",
      "Cell \u001B[0;32mIn[262], line 2\u001B[0m\n\u001B[1;32m      1\u001B[0m \u001B[38;5;66;03m# Air pollution category per gender\u001B[39;00m\n\u001B[0;32m----> 2\u001B[0m \u001B[43msns\u001B[49m\u001B[38;5;241m.\u001B[39mset(style\u001B[38;5;241m=\u001B[39m\u001B[38;5;124m\"\u001B[39m\u001B[38;5;124mwhitegrid\u001B[39m\u001B[38;5;124m\"\u001B[39m)\n\u001B[1;32m      3\u001B[0m plt\u001B[38;5;241m.\u001B[39mfigure(figsize\u001B[38;5;241m=\u001B[39m(\u001B[38;5;241m12\u001B[39m, \u001B[38;5;241m6\u001B[39m))\n\u001B[1;32m      5\u001B[0m \u001B[38;5;66;03m# Assuming 'Gender' is the column name for gender\u001B[39;00m\n",
      "\u001B[0;31mNameError\u001B[0m: name 'sns' is not defined"
     ]
    }
   ],
   "source": [
    "# Air pollution category per gender\n",
    "sns.set(style=\"whitegrid\")\n",
    "plt.figure(figsize=(12, 6))\n",
    "\n",
    "# Assuming 'Gender' is the column name for gender\n",
    "sns.countplot(data=cancer_df, x='Air Pollution', hue='Gender', palette='Set2')\n",
    "plt.xlabel('Air Pollution category')\n",
    "plt.ylabel('Count')\n",
    "plt.title('Count per Air Pollution category for Men and Women')\n",
    "plt.legend(title='Gender', labels=['Male', 'Female'])\n",
    "plt.xticks()\n",
    "plt.show()"
   ],
   "metadata": {
    "collapsed": false,
    "ExecuteTime": {
     "end_time": "2024-04-15T17:36:16.574326Z",
     "start_time": "2024-04-15T17:36:16.555752Z"
    }
   },
   "id": "86a475a16637ee8d"
  },
  {
   "cell_type": "code",
   "execution_count": 263,
   "outputs": [
    {
     "ename": "NameError",
     "evalue": "name 'sns' is not defined",
     "output_type": "error",
     "traceback": [
      "\u001B[0;31m---------------------------------------------------------------------------\u001B[0m",
      "\u001B[0;31mNameError\u001B[0m                                 Traceback (most recent call last)",
      "Cell \u001B[0;32mIn[263], line 2\u001B[0m\n\u001B[1;32m      1\u001B[0m \u001B[38;5;66;03m# air pollution level vs Disease Severity\u001B[39;00m\n\u001B[0;32m----> 2\u001B[0m \u001B[43msns\u001B[49m\u001B[38;5;241m.\u001B[39mcountplot(data\u001B[38;5;241m=\u001B[39mcancer_df, x \u001B[38;5;241m=\u001B[39m \u001B[38;5;124m'\u001B[39m\u001B[38;5;124mAir Pollution\u001B[39m\u001B[38;5;124m'\u001B[39m, hue \u001B[38;5;241m=\u001B[39m \u001B[38;5;124m'\u001B[39m\u001B[38;5;124mLevel\u001B[39m\u001B[38;5;124m'\u001B[39m)\n\u001B[1;32m      3\u001B[0m plt\u001B[38;5;241m.\u001B[39mtitle(\u001B[38;5;124m'\u001B[39m\u001B[38;5;124mLevels of Air Pollution vs Disease severity\u001B[39m\u001B[38;5;124m'\u001B[39m)\n\u001B[1;32m      4\u001B[0m plt\u001B[38;5;241m.\u001B[39mlegend(title\u001B[38;5;241m=\u001B[39m\u001B[38;5;124m'\u001B[39m\u001B[38;5;124mDisease Severity Level\u001B[39m\u001B[38;5;124m'\u001B[39m, labels\u001B[38;5;241m=\u001B[39m[\u001B[38;5;124m'\u001B[39m\u001B[38;5;124mMild\u001B[39m\u001B[38;5;124m'\u001B[39m, \u001B[38;5;124m'\u001B[39m\u001B[38;5;124mAverage\u001B[39m\u001B[38;5;124m'\u001B[39m, \u001B[38;5;124m'\u001B[39m\u001B[38;5;124mSevere\u001B[39m\u001B[38;5;124m'\u001B[39m])\n",
      "\u001B[0;31mNameError\u001B[0m: name 'sns' is not defined"
     ]
    }
   ],
   "source": [
    "# air pollution level vs Disease Severity\n",
    "sns.countplot(data=cancer_df, x = 'Air Pollution', hue = 'Level')\n",
    "plt.title('Levels of Air Pollution vs Disease severity')\n",
    "plt.legend(title='Disease Severity Level', labels=['Mild', 'Average', 'Severe'])\n",
    "plt.xlabel('Air Pollution category (from low to high)')\n",
    "plt.ylabel('Air Pollution count')\n",
    "plt.show()"
   ],
   "metadata": {
    "collapsed": false,
    "ExecuteTime": {
     "end_time": "2024-04-15T17:36:16.848964Z",
     "start_time": "2024-04-15T17:36:16.829787Z"
    }
   },
   "id": "ac52deddc3309a76"
  },
  {
   "cell_type": "code",
   "execution_count": 264,
   "outputs": [
    {
     "ename": "NameError",
     "evalue": "name 'sns' is not defined",
     "output_type": "error",
     "traceback": [
      "\u001B[0;31m---------------------------------------------------------------------------\u001B[0m",
      "\u001B[0;31mNameError\u001B[0m                                 Traceback (most recent call last)",
      "Cell \u001B[0;32mIn[264], line 2\u001B[0m\n\u001B[1;32m      1\u001B[0m \u001B[38;5;66;03m# Air pollution level vs age\u001B[39;00m\n\u001B[0;32m----> 2\u001B[0m air_age_plot \u001B[38;5;241m=\u001B[39m \u001B[43msns\u001B[49m\u001B[38;5;241m.\u001B[39mboxplot(data\u001B[38;5;241m=\u001B[39mcancer_df, x\u001B[38;5;241m=\u001B[39m\u001B[38;5;124m'\u001B[39m\u001B[38;5;124mAir Pollution\u001B[39m\u001B[38;5;124m'\u001B[39m, y\u001B[38;5;241m=\u001B[39m\u001B[38;5;124m'\u001B[39m\u001B[38;5;124mAge\u001B[39m\u001B[38;5;124m'\u001B[39m, hue\u001B[38;5;241m=\u001B[39m\u001B[38;5;124m'\u001B[39m\u001B[38;5;124mLevel\u001B[39m\u001B[38;5;124m'\u001B[39m, palette\u001B[38;5;241m=\u001B[39m\u001B[38;5;124m'\u001B[39m\u001B[38;5;124mSet2\u001B[39m\u001B[38;5;124m'\u001B[39m)\n\u001B[1;32m      3\u001B[0m plt\u001B[38;5;241m.\u001B[39mtitle(\u001B[38;5;124m'\u001B[39m\u001B[38;5;124mDistribution of Air Pollution vs age and Disease level\u001B[39m\u001B[38;5;124m'\u001B[39m)\n\u001B[1;32m      4\u001B[0m plt\u001B[38;5;241m.\u001B[39mxlabel(\u001B[38;5;124m'\u001B[39m\u001B[38;5;124mAir Pollution category\u001B[39m\u001B[38;5;124m'\u001B[39m)\n",
      "\u001B[0;31mNameError\u001B[0m: name 'sns' is not defined"
     ]
    }
   ],
   "source": [
    "# Air pollution level vs age\n",
    "air_age_plot = sns.boxplot(data=cancer_df, x='Air Pollution', y='Age', hue='Level', palette='Set2')\n",
    "plt.title('Distribution of Air Pollution vs age and Disease level')\n",
    "plt.xlabel('Air Pollution category')\n",
    "plt.legend(title='Disease Level', labels=['Mild', 'Average', 'Severe'])\n",
    "plt.show()"
   ],
   "metadata": {
    "collapsed": false,
    "ExecuteTime": {
     "end_time": "2024-04-15T17:36:16.924027Z",
     "start_time": "2024-04-15T17:36:16.905125Z"
    }
   },
   "id": "ef486ac4369866e9"
  },
  {
   "cell_type": "code",
   "execution_count": 265,
   "outputs": [
    {
     "ename": "NameError",
     "evalue": "name 'sns' is not defined",
     "output_type": "error",
     "traceback": [
      "\u001B[0;31m---------------------------------------------------------------------------\u001B[0m",
      "\u001B[0;31mNameError\u001B[0m                                 Traceback (most recent call last)",
      "Cell \u001B[0;32mIn[265], line 2\u001B[0m\n\u001B[1;32m      1\u001B[0m \u001B[38;5;66;03m# Air pollution level vs dry cough\u001B[39;00m\n\u001B[0;32m----> 2\u001B[0m air_cough_plot \u001B[38;5;241m=\u001B[39m \u001B[43msns\u001B[49m\u001B[38;5;241m.\u001B[39mcountplot(data\u001B[38;5;241m=\u001B[39mcancer_df, x\u001B[38;5;241m=\u001B[39m\u001B[38;5;124m'\u001B[39m\u001B[38;5;124mAir Pollution\u001B[39m\u001B[38;5;124m'\u001B[39m, hue\u001B[38;5;241m=\u001B[39m\u001B[38;5;124m'\u001B[39m\u001B[38;5;124mDry Cough\u001B[39m\u001B[38;5;124m'\u001B[39m)\n\u001B[1;32m      3\u001B[0m plt\u001B[38;5;241m.\u001B[39mtitle(\u001B[38;5;124m'\u001B[39m\u001B[38;5;124mAir Pollution per category vs Dry cough\u001B[39m\u001B[38;5;124m'\u001B[39m)\n\u001B[1;32m      4\u001B[0m plt\u001B[38;5;241m.\u001B[39mxlabel(\u001B[38;5;124m'\u001B[39m\u001B[38;5;124mAir Pollution category\u001B[39m\u001B[38;5;124m'\u001B[39m)\n",
      "\u001B[0;31mNameError\u001B[0m: name 'sns' is not defined"
     ]
    }
   ],
   "source": [
    "# Air pollution level vs dry cough\n",
    "air_cough_plot = sns.countplot(data=cancer_df, x='Air Pollution', hue='Dry Cough')\n",
    "plt.title('Air Pollution per category vs Dry cough')\n",
    "plt.xlabel('Air Pollution category')\n",
    "plt.legend(title='Dry cough', labels=['cat 1', 'cat 2', 'cat 3', 'cat 4', 'cat 5', 'cat 6', 'cat 7'])\n",
    "plt.show()"
   ],
   "metadata": {
    "collapsed": false,
    "ExecuteTime": {
     "end_time": "2024-04-15T17:36:17.108165Z",
     "start_time": "2024-04-15T17:36:17.087637Z"
    }
   },
   "id": "fa2aa95d9cc52fd7"
  },
  {
   "cell_type": "code",
   "execution_count": 266,
   "outputs": [
    {
     "ename": "NameError",
     "evalue": "name 'sns' is not defined",
     "output_type": "error",
     "traceback": [
      "\u001B[0;31m---------------------------------------------------------------------------\u001B[0m",
      "\u001B[0;31mNameError\u001B[0m                                 Traceback (most recent call last)",
      "Cell \u001B[0;32mIn[266], line 2\u001B[0m\n\u001B[1;32m      1\u001B[0m \u001B[38;5;66;03m# Air pollution level vs dry cough\u001B[39;00m\n\u001B[0;32m----> 2\u001B[0m air_lung_plot \u001B[38;5;241m=\u001B[39m \u001B[43msns\u001B[49m\u001B[38;5;241m.\u001B[39mcountplot(data\u001B[38;5;241m=\u001B[39mcancer_df, x\u001B[38;5;241m=\u001B[39m\u001B[38;5;124m'\u001B[39m\u001B[38;5;124mAir Pollution\u001B[39m\u001B[38;5;124m'\u001B[39m, hue\u001B[38;5;241m=\u001B[39m\u001B[38;5;124m'\u001B[39m\u001B[38;5;124mchronic Lung Disease\u001B[39m\u001B[38;5;124m'\u001B[39m)\n\u001B[1;32m      3\u001B[0m plt\u001B[38;5;241m.\u001B[39mtitle(\u001B[38;5;124m'\u001B[39m\u001B[38;5;124mAir Pollution per category vs lung disease\u001B[39m\u001B[38;5;124m'\u001B[39m)\n\u001B[1;32m      4\u001B[0m plt\u001B[38;5;241m.\u001B[39mxlabel(\u001B[38;5;124m'\u001B[39m\u001B[38;5;124mAir Pollution category\u001B[39m\u001B[38;5;124m'\u001B[39m)\n",
      "\u001B[0;31mNameError\u001B[0m: name 'sns' is not defined"
     ]
    }
   ],
   "source": [
    "# Air pollution level vs dry cough\n",
    "air_lung_plot = sns.countplot(data=cancer_df, x='Air Pollution', hue='chronic Lung Disease')\n",
    "plt.title('Air Pollution per category vs lung disease')\n",
    "plt.xlabel('Air Pollution category')\n",
    "plt.legend(title='Lung Disease', labels=['cat 1', 'cat 2', 'cat 3', 'cat 4', 'cat 5', 'cat 6', 'cat 7'])\n",
    "plt.show()"
   ],
   "metadata": {
    "collapsed": false,
    "ExecuteTime": {
     "end_time": "2024-04-15T17:36:17.288972Z",
     "start_time": "2024-04-15T17:36:17.270919Z"
    }
   },
   "id": "c73b210e494cb0d2"
  },
  {
   "cell_type": "markdown",
   "source": [
    "### 2.5 Obesity"
   ],
   "metadata": {
    "collapsed": false
   },
   "id": "2c5664a39367d104"
  },
  {
   "cell_type": "code",
   "execution_count": 267,
   "outputs": [
    {
     "ename": "NameError",
     "evalue": "name 'sns' is not defined",
     "output_type": "error",
     "traceback": [
      "\u001B[0;31m---------------------------------------------------------------------------\u001B[0m",
      "\u001B[0;31mNameError\u001B[0m                                 Traceback (most recent call last)",
      "Cell \u001B[0;32mIn[267], line 2\u001B[0m\n\u001B[1;32m      1\u001B[0m \u001B[38;5;66;03m# Count occurrences of each unique value in the 'Smoking' column\u001B[39;00m\n\u001B[0;32m----> 2\u001B[0m obesity_counts \u001B[38;5;241m=\u001B[39m \u001B[43msns\u001B[49m\u001B[38;5;241m.\u001B[39mcountplot(data\u001B[38;5;241m=\u001B[39mcancer_df, x\u001B[38;5;241m=\u001B[39m\u001B[38;5;124m'\u001B[39m\u001B[38;5;124mObesity\u001B[39m\u001B[38;5;124m'\u001B[39m)\n\u001B[1;32m      4\u001B[0m \u001B[38;5;66;03m# Plotting\u001B[39;00m\n\u001B[1;32m      5\u001B[0m plt\u001B[38;5;241m.\u001B[39mxlabel(\u001B[38;5;124m'\u001B[39m\u001B[38;5;124mObesity category\u001B[39m\u001B[38;5;124m'\u001B[39m)\n",
      "\u001B[0;31mNameError\u001B[0m: name 'sns' is not defined"
     ]
    }
   ],
   "source": [
    "# Count occurrences of each unique value in the 'Smoking' column\n",
    "obesity_counts = sns.countplot(data=cancer_df, x='Obesity')\n",
    "\n",
    "# Plotting\n",
    "plt.xlabel('Obesity category')\n",
    "plt.ylabel('Count')\n",
    "plt.title('Count per Obesity category')\n",
    "plt.show()"
   ],
   "metadata": {
    "collapsed": false,
    "ExecuteTime": {
     "end_time": "2024-04-15T17:36:17.399381Z",
     "start_time": "2024-04-15T17:36:17.381552Z"
    }
   },
   "id": "f846b8e57ec4ef08"
  },
  {
   "cell_type": "code",
   "execution_count": 268,
   "outputs": [
    {
     "ename": "NameError",
     "evalue": "name 'sns' is not defined",
     "output_type": "error",
     "traceback": [
      "\u001B[0;31m---------------------------------------------------------------------------\u001B[0m",
      "\u001B[0;31mNameError\u001B[0m                                 Traceback (most recent call last)",
      "Cell \u001B[0;32mIn[268], line 2\u001B[0m\n\u001B[1;32m      1\u001B[0m \u001B[38;5;66;03m# Obesity category per gender\u001B[39;00m\n\u001B[0;32m----> 2\u001B[0m \u001B[43msns\u001B[49m\u001B[38;5;241m.\u001B[39mset(style\u001B[38;5;241m=\u001B[39m\u001B[38;5;124m\"\u001B[39m\u001B[38;5;124mwhitegrid\u001B[39m\u001B[38;5;124m\"\u001B[39m)\n\u001B[1;32m      3\u001B[0m plt\u001B[38;5;241m.\u001B[39mfigure(figsize\u001B[38;5;241m=\u001B[39m(\u001B[38;5;241m12\u001B[39m, \u001B[38;5;241m6\u001B[39m))\n\u001B[1;32m      5\u001B[0m \u001B[38;5;66;03m# Assuming 'Gender' is the column name for gender\u001B[39;00m\n",
      "\u001B[0;31mNameError\u001B[0m: name 'sns' is not defined"
     ]
    }
   ],
   "source": [
    "# Obesity category per gender\n",
    "sns.set(style=\"whitegrid\")\n",
    "plt.figure(figsize=(12, 6))\n",
    "\n",
    "# Assuming 'Gender' is the column name for gender\n",
    "sns.countplot(data=cancer_df, x='Obesity', hue='Gender', palette='Set2')\n",
    "plt.xlabel('Obesity category')\n",
    "plt.ylabel('Count')\n",
    "plt.title('Count per Obesity category for Men and Women')\n",
    "plt.legend(title='Gender', labels=['Male', 'Female'])\n",
    "plt.xticks()\n",
    "plt.show()"
   ],
   "metadata": {
    "collapsed": false,
    "ExecuteTime": {
     "end_time": "2024-04-15T17:36:17.640372Z",
     "start_time": "2024-04-15T17:36:17.618660Z"
    }
   },
   "id": "77ecbb0ce79ca816"
  },
  {
   "cell_type": "code",
   "execution_count": 269,
   "outputs": [
    {
     "ename": "NameError",
     "evalue": "name 'sns' is not defined",
     "output_type": "error",
     "traceback": [
      "\u001B[0;31m---------------------------------------------------------------------------\u001B[0m",
      "\u001B[0;31mNameError\u001B[0m                                 Traceback (most recent call last)",
      "Cell \u001B[0;32mIn[269], line 2\u001B[0m\n\u001B[1;32m      1\u001B[0m \u001B[38;5;66;03m# Obesity level vs Disease Severity\u001B[39;00m\n\u001B[0;32m----> 2\u001B[0m \u001B[43msns\u001B[49m\u001B[38;5;241m.\u001B[39mcountplot(data\u001B[38;5;241m=\u001B[39mcancer_df, x\u001B[38;5;241m=\u001B[39m\u001B[38;5;124m'\u001B[39m\u001B[38;5;124mObesity\u001B[39m\u001B[38;5;124m'\u001B[39m, hue\u001B[38;5;241m=\u001B[39m\u001B[38;5;124m'\u001B[39m\u001B[38;5;124mLevel\u001B[39m\u001B[38;5;124m'\u001B[39m)\n\u001B[1;32m      3\u001B[0m plt\u001B[38;5;241m.\u001B[39mtitle(\u001B[38;5;124m'\u001B[39m\u001B[38;5;124mLevels of Obesity vs disease severity\u001B[39m\u001B[38;5;124m'\u001B[39m)\n\u001B[1;32m      4\u001B[0m plt\u001B[38;5;241m.\u001B[39mlegend(title\u001B[38;5;241m=\u001B[39m\u001B[38;5;124m'\u001B[39m\u001B[38;5;124mDisease Severity Level\u001B[39m\u001B[38;5;124m'\u001B[39m, labels\u001B[38;5;241m=\u001B[39m[\u001B[38;5;124m'\u001B[39m\u001B[38;5;124mMild\u001B[39m\u001B[38;5;124m'\u001B[39m, \u001B[38;5;124m'\u001B[39m\u001B[38;5;124mAverage\u001B[39m\u001B[38;5;124m'\u001B[39m, \u001B[38;5;124m'\u001B[39m\u001B[38;5;124mSevere\u001B[39m\u001B[38;5;124m'\u001B[39m, ])\n",
      "\u001B[0;31mNameError\u001B[0m: name 'sns' is not defined"
     ]
    }
   ],
   "source": [
    "# Obesity level vs Disease Severity\n",
    "sns.countplot(data=cancer_df, x='Obesity', hue='Level')\n",
    "plt.title('Levels of Obesity vs disease severity')\n",
    "plt.legend(title='Disease Severity Level', labels=['Mild', 'Average', 'Severe', ])\n",
    "plt.xlabel('Obesity category (from low to high)')\n",
    "plt.ylabel('Obesity count')\n",
    "plt.show()"
   ],
   "metadata": {
    "collapsed": false,
    "ExecuteTime": {
     "end_time": "2024-04-15T17:36:17.861263Z",
     "start_time": "2024-04-15T17:36:17.842569Z"
    }
   },
   "id": "8f60b9f52960db79"
  },
  {
   "cell_type": "code",
   "execution_count": 270,
   "outputs": [
    {
     "ename": "NameError",
     "evalue": "name 'sns' is not defined",
     "output_type": "error",
     "traceback": [
      "\u001B[0;31m---------------------------------------------------------------------------\u001B[0m",
      "\u001B[0;31mNameError\u001B[0m                                 Traceback (most recent call last)",
      "Cell \u001B[0;32mIn[270], line 2\u001B[0m\n\u001B[1;32m      1\u001B[0m \u001B[38;5;66;03m# Obesity level vs age\u001B[39;00m\n\u001B[0;32m----> 2\u001B[0m obesity_age_plot \u001B[38;5;241m=\u001B[39m \u001B[43msns\u001B[49m\u001B[38;5;241m.\u001B[39mboxplot(data\u001B[38;5;241m=\u001B[39mcancer_df, x\u001B[38;5;241m=\u001B[39m\u001B[38;5;124m'\u001B[39m\u001B[38;5;124mObesity\u001B[39m\u001B[38;5;124m'\u001B[39m, y\u001B[38;5;241m=\u001B[39m\u001B[38;5;124m'\u001B[39m\u001B[38;5;124mAge\u001B[39m\u001B[38;5;124m'\u001B[39m)\n\u001B[1;32m      3\u001B[0m plt\u001B[38;5;241m.\u001B[39mtitle(\u001B[38;5;124m'\u001B[39m\u001B[38;5;124mDistribution of Obesity vs age\u001B[39m\u001B[38;5;124m'\u001B[39m)\n\u001B[1;32m      4\u001B[0m plt\u001B[38;5;241m.\u001B[39mxlabel(\u001B[38;5;124m'\u001B[39m\u001B[38;5;124mObesity category\u001B[39m\u001B[38;5;124m'\u001B[39m)\n",
      "\u001B[0;31mNameError\u001B[0m: name 'sns' is not defined"
     ]
    }
   ],
   "source": [
    "# Obesity level vs age\n",
    "obesity_age_plot = sns.boxplot(data=cancer_df, x='Obesity', y='Age')\n",
    "plt.title('Distribution of Obesity vs age')\n",
    "plt.xlabel('Obesity category')\n",
    "plt.show()"
   ],
   "metadata": {
    "collapsed": false,
    "ExecuteTime": {
     "end_time": "2024-04-15T17:36:17.985472Z",
     "start_time": "2024-04-15T17:36:17.967828Z"
    }
   },
   "id": "6b339d6ad108f888"
  },
  {
   "cell_type": "code",
   "execution_count": 271,
   "outputs": [
    {
     "ename": "NameError",
     "evalue": "name 'sns' is not defined",
     "output_type": "error",
     "traceback": [
      "\u001B[0;31m---------------------------------------------------------------------------\u001B[0m",
      "\u001B[0;31mNameError\u001B[0m                                 Traceback (most recent call last)",
      "Cell \u001B[0;32mIn[271], line 2\u001B[0m\n\u001B[1;32m      1\u001B[0m \u001B[38;5;66;03m# Obesity level vs age and gender\u001B[39;00m\n\u001B[0;32m----> 2\u001B[0m obesity_age_gender_plot \u001B[38;5;241m=\u001B[39m \u001B[43msns\u001B[49m\u001B[38;5;241m.\u001B[39mboxplot(data\u001B[38;5;241m=\u001B[39mcancer_df, x\u001B[38;5;241m=\u001B[39m\u001B[38;5;124m'\u001B[39m\u001B[38;5;124mObesity\u001B[39m\u001B[38;5;124m'\u001B[39m, y\u001B[38;5;241m=\u001B[39m\u001B[38;5;124m'\u001B[39m\u001B[38;5;124mAge\u001B[39m\u001B[38;5;124m'\u001B[39m, hue\u001B[38;5;241m=\u001B[39m\u001B[38;5;124m'\u001B[39m\u001B[38;5;124mGender\u001B[39m\u001B[38;5;124m'\u001B[39m, palette\u001B[38;5;241m=\u001B[39m\u001B[38;5;124m'\u001B[39m\u001B[38;5;124mSet2\u001B[39m\u001B[38;5;124m'\u001B[39m)\n\u001B[1;32m      3\u001B[0m plt\u001B[38;5;241m.\u001B[39mtitle(\u001B[38;5;124m'\u001B[39m\u001B[38;5;124mDistribution of Obesity vs age and gender\u001B[39m\u001B[38;5;124m'\u001B[39m)\n\u001B[1;32m      4\u001B[0m plt\u001B[38;5;241m.\u001B[39mxlabel(\u001B[38;5;124m'\u001B[39m\u001B[38;5;124mObesity category\u001B[39m\u001B[38;5;124m'\u001B[39m)\n",
      "\u001B[0;31mNameError\u001B[0m: name 'sns' is not defined"
     ]
    }
   ],
   "source": [
    "# Obesity level vs age and gender\n",
    "obesity_age_gender_plot = sns.boxplot(data=cancer_df, x='Obesity', y='Age', hue='Gender', palette='Set2')\n",
    "plt.title('Distribution of Obesity vs age and gender')\n",
    "plt.xlabel('Obesity category')\n",
    "plt.legend(title='Gender', labels=['Male', 'Female'])\n",
    "plt.show()"
   ],
   "metadata": {
    "collapsed": false,
    "ExecuteTime": {
     "end_time": "2024-04-15T17:36:18.167897Z",
     "start_time": "2024-04-15T17:36:18.150199Z"
    }
   },
   "id": "87c340bcfd6c95e2"
  },
  {
   "cell_type": "code",
   "execution_count": 272,
   "outputs": [
    {
     "ename": "NameError",
     "evalue": "name 'sns' is not defined",
     "output_type": "error",
     "traceback": [
      "\u001B[0;31m---------------------------------------------------------------------------\u001B[0m",
      "\u001B[0;31mNameError\u001B[0m                                 Traceback (most recent call last)",
      "Cell \u001B[0;32mIn[272], line 2\u001B[0m\n\u001B[1;32m      1\u001B[0m \u001B[38;5;66;03m# Obesity level vs balanced diet\u001B[39;00m\n\u001B[0;32m----> 2\u001B[0m obesity_age_diet_plot \u001B[38;5;241m=\u001B[39m \u001B[43msns\u001B[49m\u001B[38;5;241m.\u001B[39mcountplot(data\u001B[38;5;241m=\u001B[39mcancer_df, x\u001B[38;5;241m=\u001B[39m\u001B[38;5;124m'\u001B[39m\u001B[38;5;124mObesity\u001B[39m\u001B[38;5;124m'\u001B[39m, hue\u001B[38;5;241m=\u001B[39m\u001B[38;5;124m'\u001B[39m\u001B[38;5;124mBalanced Diet\u001B[39m\u001B[38;5;124m'\u001B[39m)\n\u001B[1;32m      3\u001B[0m plt\u001B[38;5;241m.\u001B[39mtitle(\u001B[38;5;124m'\u001B[39m\u001B[38;5;124mDistribution of Obesity vs Balanced Diet\u001B[39m\u001B[38;5;124m'\u001B[39m)\n\u001B[1;32m      4\u001B[0m plt\u001B[38;5;241m.\u001B[39mxlabel(\u001B[38;5;124m'\u001B[39m\u001B[38;5;124mObesity category\u001B[39m\u001B[38;5;124m'\u001B[39m)\n",
      "\u001B[0;31mNameError\u001B[0m: name 'sns' is not defined"
     ]
    }
   ],
   "source": [
    "# Obesity level vs balanced diet\n",
    "obesity_age_diet_plot = sns.countplot(data=cancer_df, x='Obesity', hue='Balanced Diet')\n",
    "plt.title('Distribution of Obesity vs Balanced Diet')\n",
    "plt.xlabel('Obesity category')\n",
    "plt.legend(title='Balanced Diet', labels=['cat 1', 'cat 2', 'cat 3', 'cat 4', 'cat 5', 'cat 6', 'cat 7'])\n",
    "plt.show()"
   ],
   "metadata": {
    "collapsed": false,
    "ExecuteTime": {
     "end_time": "2024-04-15T17:36:18.365465Z",
     "start_time": "2024-04-15T17:36:18.344903Z"
    }
   },
   "id": "9b0df4a1f32e90e7"
  },
  {
   "cell_type": "markdown",
   "source": [
    "### 2.6 Genetic Risk"
   ],
   "metadata": {
    "collapsed": false
   },
   "id": "63461565c4b3b2d7"
  },
  {
   "cell_type": "code",
   "execution_count": 273,
   "outputs": [
    {
     "ename": "NameError",
     "evalue": "name 'sns' is not defined",
     "output_type": "error",
     "traceback": [
      "\u001B[0;31m---------------------------------------------------------------------------\u001B[0m",
      "\u001B[0;31mNameError\u001B[0m                                 Traceback (most recent call last)",
      "Cell \u001B[0;32mIn[273], line 2\u001B[0m\n\u001B[1;32m      1\u001B[0m \u001B[38;5;66;03m# Count occurrences of each unique value in the Genetic Risk column\u001B[39;00m\n\u001B[0;32m----> 2\u001B[0m genetic_risk_counts \u001B[38;5;241m=\u001B[39m \u001B[43msns\u001B[49m\u001B[38;5;241m.\u001B[39mcountplot(data\u001B[38;5;241m=\u001B[39mcancer_df, x\u001B[38;5;241m=\u001B[39m\u001B[38;5;124m'\u001B[39m\u001B[38;5;124mGenetic Risk\u001B[39m\u001B[38;5;124m'\u001B[39m)\n\u001B[1;32m      4\u001B[0m \u001B[38;5;66;03m# Plotting\u001B[39;00m\n\u001B[1;32m      5\u001B[0m plt\u001B[38;5;241m.\u001B[39mxlabel(\u001B[38;5;124m'\u001B[39m\u001B[38;5;124mGenetic Risk category\u001B[39m\u001B[38;5;124m'\u001B[39m)\n",
      "\u001B[0;31mNameError\u001B[0m: name 'sns' is not defined"
     ]
    }
   ],
   "source": [
    "# Count occurrences of each unique value in the Genetic Risk column\n",
    "genetic_risk_counts = sns.countplot(data=cancer_df, x='Genetic Risk')\n",
    "\n",
    "# Plotting\n",
    "plt.xlabel('Genetic Risk category')\n",
    "plt.ylabel('Count')\n",
    "plt.title('Count per Genetic Risk category')\n",
    "plt.show()"
   ],
   "metadata": {
    "collapsed": false,
    "ExecuteTime": {
     "end_time": "2024-04-15T17:36:18.445501Z",
     "start_time": "2024-04-15T17:36:18.427338Z"
    }
   },
   "id": "caf706a519e98c51"
  },
  {
   "cell_type": "code",
   "execution_count": 274,
   "outputs": [
    {
     "ename": "NameError",
     "evalue": "name 'sns' is not defined",
     "output_type": "error",
     "traceback": [
      "\u001B[0;31m---------------------------------------------------------------------------\u001B[0m",
      "\u001B[0;31mNameError\u001B[0m                                 Traceback (most recent call last)",
      "Cell \u001B[0;32mIn[274], line 2\u001B[0m\n\u001B[1;32m      1\u001B[0m \u001B[38;5;66;03m# Genetic Risk category per gender\u001B[39;00m\n\u001B[0;32m----> 2\u001B[0m \u001B[43msns\u001B[49m\u001B[38;5;241m.\u001B[39mset(style\u001B[38;5;241m=\u001B[39m\u001B[38;5;124m\"\u001B[39m\u001B[38;5;124mwhitegrid\u001B[39m\u001B[38;5;124m\"\u001B[39m)\n\u001B[1;32m      3\u001B[0m plt\u001B[38;5;241m.\u001B[39mfigure(figsize\u001B[38;5;241m=\u001B[39m(\u001B[38;5;241m12\u001B[39m, \u001B[38;5;241m6\u001B[39m))\n\u001B[1;32m      5\u001B[0m \u001B[38;5;66;03m# Countplot Genetic Risk and Gender\u001B[39;00m\n",
      "\u001B[0;31mNameError\u001B[0m: name 'sns' is not defined"
     ]
    }
   ],
   "source": [
    "# Genetic Risk category per gender\n",
    "sns.set(style=\"whitegrid\")\n",
    "plt.figure(figsize=(12, 6))\n",
    "\n",
    "# Countplot Genetic Risk and Gender\n",
    "sns.countplot(data=cancer_df, x='Genetic Risk', hue='Gender', palette='Set2')\n",
    "plt.xlabel('Genetic Risk category')\n",
    "plt.ylabel('Count')\n",
    "plt.title('Count per Genetic Risk category for Men and Women')\n",
    "plt.legend(title='Gender', labels=['Male', 'Female'])\n",
    "plt.xticks()\n",
    "plt.show()"
   ],
   "metadata": {
    "collapsed": false,
    "ExecuteTime": {
     "end_time": "2024-04-15T17:36:18.689452Z",
     "start_time": "2024-04-15T17:36:18.668703Z"
    }
   },
   "id": "71307d980d2f2b19"
  },
  {
   "cell_type": "code",
   "execution_count": 275,
   "outputs": [
    {
     "ename": "NameError",
     "evalue": "name 'sns' is not defined",
     "output_type": "error",
     "traceback": [
      "\u001B[0;31m---------------------------------------------------------------------------\u001B[0m",
      "\u001B[0;31mNameError\u001B[0m                                 Traceback (most recent call last)",
      "Cell \u001B[0;32mIn[275], line 2\u001B[0m\n\u001B[1;32m      1\u001B[0m \u001B[38;5;66;03m# Genetic Risk level vs Disease Severity\u001B[39;00m\n\u001B[0;32m----> 2\u001B[0m \u001B[43msns\u001B[49m\u001B[38;5;241m.\u001B[39mcountplot(data\u001B[38;5;241m=\u001B[39mcancer_df, x\u001B[38;5;241m=\u001B[39m\u001B[38;5;124m'\u001B[39m\u001B[38;5;124mGenetic Risk\u001B[39m\u001B[38;5;124m'\u001B[39m, hue\u001B[38;5;241m=\u001B[39m\u001B[38;5;124m'\u001B[39m\u001B[38;5;124mLevel\u001B[39m\u001B[38;5;124m'\u001B[39m)\n\u001B[1;32m      3\u001B[0m plt\u001B[38;5;241m.\u001B[39mtitle(\u001B[38;5;124m'\u001B[39m\u001B[38;5;124mLevels of Genetic Risk vs disease severity\u001B[39m\u001B[38;5;124m'\u001B[39m)\n\u001B[1;32m      4\u001B[0m plt\u001B[38;5;241m.\u001B[39mlegend(title\u001B[38;5;241m=\u001B[39m\u001B[38;5;124m'\u001B[39m\u001B[38;5;124mDisease Severity Level\u001B[39m\u001B[38;5;124m'\u001B[39m, labels\u001B[38;5;241m=\u001B[39m[\u001B[38;5;124m'\u001B[39m\u001B[38;5;124mMild\u001B[39m\u001B[38;5;124m'\u001B[39m, \u001B[38;5;124m'\u001B[39m\u001B[38;5;124mAverage\u001B[39m\u001B[38;5;124m'\u001B[39m, \u001B[38;5;124m'\u001B[39m\u001B[38;5;124mSevere\u001B[39m\u001B[38;5;124m'\u001B[39m, ])\n",
      "\u001B[0;31mNameError\u001B[0m: name 'sns' is not defined"
     ]
    }
   ],
   "source": [
    "# Genetic Risk level vs Disease Severity\n",
    "sns.countplot(data=cancer_df, x='Genetic Risk', hue='Level')\n",
    "plt.title('Levels of Genetic Risk vs disease severity')\n",
    "plt.legend(title='Disease Severity Level', labels=['Mild', 'Average', 'Severe', ])\n",
    "plt.xlabel('Genetic Risk category (from low to high)')\n",
    "plt.ylabel('Genetic Risk count')\n",
    "plt.show()"
   ],
   "metadata": {
    "collapsed": false,
    "ExecuteTime": {
     "end_time": "2024-04-15T17:36:18.918136Z",
     "start_time": "2024-04-15T17:36:18.899238Z"
    }
   },
   "id": "92c094e98f44dbc1"
  },
  {
   "cell_type": "code",
   "execution_count": 276,
   "outputs": [
    {
     "ename": "NameError",
     "evalue": "name 'sns' is not defined",
     "output_type": "error",
     "traceback": [
      "\u001B[0;31m---------------------------------------------------------------------------\u001B[0m",
      "\u001B[0;31mNameError\u001B[0m                                 Traceback (most recent call last)",
      "Cell \u001B[0;32mIn[276], line 2\u001B[0m\n\u001B[1;32m      1\u001B[0m \u001B[38;5;66;03m# Genetic Risk level vs age\u001B[39;00m\n\u001B[0;32m----> 2\u001B[0m genetic_risk_age_plot \u001B[38;5;241m=\u001B[39m \u001B[43msns\u001B[49m\u001B[38;5;241m.\u001B[39mboxplot(data\u001B[38;5;241m=\u001B[39mcancer_df, x\u001B[38;5;241m=\u001B[39m\u001B[38;5;124m'\u001B[39m\u001B[38;5;124mGenetic Risk\u001B[39m\u001B[38;5;124m'\u001B[39m, y\u001B[38;5;241m=\u001B[39m\u001B[38;5;124m'\u001B[39m\u001B[38;5;124mAge\u001B[39m\u001B[38;5;124m'\u001B[39m)\n\u001B[1;32m      3\u001B[0m plt\u001B[38;5;241m.\u001B[39mtitle(\u001B[38;5;124m'\u001B[39m\u001B[38;5;124mDistribution of Genetic Risk vs age\u001B[39m\u001B[38;5;124m'\u001B[39m)\n\u001B[1;32m      4\u001B[0m plt\u001B[38;5;241m.\u001B[39mxlabel(\u001B[38;5;124m'\u001B[39m\u001B[38;5;124mGenetic Risk category\u001B[39m\u001B[38;5;124m'\u001B[39m)\n",
      "\u001B[0;31mNameError\u001B[0m: name 'sns' is not defined"
     ]
    }
   ],
   "source": [
    "# Genetic Risk level vs age\n",
    "genetic_risk_age_plot = sns.boxplot(data=cancer_df, x='Genetic Risk', y='Age')\n",
    "plt.title('Distribution of Genetic Risk vs age')\n",
    "plt.xlabel('Genetic Risk category')\n",
    "plt.show()"
   ],
   "metadata": {
    "collapsed": false,
    "ExecuteTime": {
     "end_time": "2024-04-15T17:36:19.051695Z",
     "start_time": "2024-04-15T17:36:19.033536Z"
    }
   },
   "id": "10555184b9e50d93"
  },
  {
   "cell_type": "code",
   "execution_count": 277,
   "outputs": [
    {
     "ename": "NameError",
     "evalue": "name 'sns' is not defined",
     "output_type": "error",
     "traceback": [
      "\u001B[0;31m---------------------------------------------------------------------------\u001B[0m",
      "\u001B[0;31mNameError\u001B[0m                                 Traceback (most recent call last)",
      "Cell \u001B[0;32mIn[277], line 2\u001B[0m\n\u001B[1;32m      1\u001B[0m \u001B[38;5;66;03m# Genetic Risk level vs age and gender\u001B[39;00m\n\u001B[0;32m----> 2\u001B[0m genetic_risk_age_gender_plot \u001B[38;5;241m=\u001B[39m \u001B[43msns\u001B[49m\u001B[38;5;241m.\u001B[39mboxplot(data\u001B[38;5;241m=\u001B[39mcancer_df, x\u001B[38;5;241m=\u001B[39m\u001B[38;5;124m'\u001B[39m\u001B[38;5;124mGenetic Risk\u001B[39m\u001B[38;5;124m'\u001B[39m, y\u001B[38;5;241m=\u001B[39m\u001B[38;5;124m'\u001B[39m\u001B[38;5;124mAge\u001B[39m\u001B[38;5;124m'\u001B[39m, hue\u001B[38;5;241m=\u001B[39m\u001B[38;5;124m'\u001B[39m\u001B[38;5;124mGender\u001B[39m\u001B[38;5;124m'\u001B[39m, palette\u001B[38;5;241m=\u001B[39m\u001B[38;5;124m'\u001B[39m\u001B[38;5;124mSet2\u001B[39m\u001B[38;5;124m'\u001B[39m)\n\u001B[1;32m      3\u001B[0m plt\u001B[38;5;241m.\u001B[39mtitle(\u001B[38;5;124m'\u001B[39m\u001B[38;5;124mDistribution of Genetic Risk vs age and gender\u001B[39m\u001B[38;5;124m'\u001B[39m)\n\u001B[1;32m      4\u001B[0m plt\u001B[38;5;241m.\u001B[39mxlabel(\u001B[38;5;124m'\u001B[39m\u001B[38;5;124mGenetic Risk category\u001B[39m\u001B[38;5;124m'\u001B[39m)\n",
      "\u001B[0;31mNameError\u001B[0m: name 'sns' is not defined"
     ]
    }
   ],
   "source": [
    "# Genetic Risk level vs age and gender\n",
    "genetic_risk_age_gender_plot = sns.boxplot(data=cancer_df, x='Genetic Risk', y='Age', hue='Gender', palette='Set2')\n",
    "plt.title('Distribution of Genetic Risk vs age and gender')\n",
    "plt.xlabel('Genetic Risk category')\n",
    "plt.legend(title='Gender', labels=['Male', 'Female'])\n",
    "plt.show()"
   ],
   "metadata": {
    "collapsed": false,
    "ExecuteTime": {
     "end_time": "2024-04-15T17:36:19.268080Z",
     "start_time": "2024-04-15T17:36:19.250248Z"
    }
   },
   "id": "4f33485ef841a845"
  },
  {
   "cell_type": "code",
   "execution_count": 278,
   "outputs": [
    {
     "ename": "NameError",
     "evalue": "name 'sns' is not defined",
     "output_type": "error",
     "traceback": [
      "\u001B[0;31m---------------------------------------------------------------------------\u001B[0m",
      "\u001B[0;31mNameError\u001B[0m                                 Traceback (most recent call last)",
      "Cell \u001B[0;32mIn[278], line 2\u001B[0m\n\u001B[1;32m      1\u001B[0m \u001B[38;5;66;03m# Genetic Risk level vs balanced diet\u001B[39;00m\n\u001B[0;32m----> 2\u001B[0m genetic_risk_age_diet_plot \u001B[38;5;241m=\u001B[39m \u001B[43msns\u001B[49m\u001B[38;5;241m.\u001B[39mcountplot(data\u001B[38;5;241m=\u001B[39mcancer_df, x\u001B[38;5;241m=\u001B[39m\u001B[38;5;124m'\u001B[39m\u001B[38;5;124mGenetic Risk\u001B[39m\u001B[38;5;124m'\u001B[39m, hue\u001B[38;5;241m=\u001B[39m\u001B[38;5;124m'\u001B[39m\u001B[38;5;124mObesity\u001B[39m\u001B[38;5;124m'\u001B[39m)\n\u001B[1;32m      3\u001B[0m plt\u001B[38;5;241m.\u001B[39mtitle(\u001B[38;5;124m'\u001B[39m\u001B[38;5;124mDistribution of Genetic Risk vs Obesity\u001B[39m\u001B[38;5;124m'\u001B[39m)\n\u001B[1;32m      4\u001B[0m plt\u001B[38;5;241m.\u001B[39mxlabel(\u001B[38;5;124m'\u001B[39m\u001B[38;5;124mGenetic Risk category\u001B[39m\u001B[38;5;124m'\u001B[39m)\n",
      "\u001B[0;31mNameError\u001B[0m: name 'sns' is not defined"
     ]
    }
   ],
   "source": [
    "# Genetic Risk level vs balanced diet\n",
    "genetic_risk_age_diet_plot = sns.countplot(data=cancer_df, x='Genetic Risk', hue='Obesity')\n",
    "plt.title('Distribution of Genetic Risk vs Obesity')\n",
    "plt.xlabel('Genetic Risk category')\n",
    "plt.legend(title='Obesity', labels=['cat 1', 'cat 2', 'cat 3', 'cat 4', 'cat 5', 'cat 6', 'cat 7'])\n",
    "plt.show()"
   ],
   "metadata": {
    "collapsed": false,
    "ExecuteTime": {
     "end_time": "2024-04-15T17:36:19.355987Z",
     "start_time": "2024-04-15T17:36:19.338590Z"
    }
   },
   "id": "7e9ec47ebef52872"
  },
  {
   "cell_type": "markdown",
   "source": [
    "# Diagnostic Analysis\n",
    "Diagnostic Analytics After having performed the description of the dataset, you will be running a diagnostic analysis on the dataset. The goal of diagnostic analytics is to determine the causes of trends and correlations between variables. Required activities\n",
    "Analyze missing data and determine relevant causes.\n",
    "Perform correlation analysis among variables and between variables and the target variable for prediction (and corresponding statistical testing).\n",
    "Perform statistical testing between subgroups of features.\n",
    "Analyse the dataset and identify potential risks and bias.\n",
    "Reflect on the analysis you carried and identity possible negative implications.\n",
    "Propose, explore, and implement bias mitigation (reflect on the limitations)"
   ],
   "metadata": {
    "collapsed": false
   },
   "id": "eecd70deb95aaff8"
  },
  {
   "cell_type": "code",
   "execution_count": 279,
   "outputs": [
    {
     "ename": "NameError",
     "evalue": "name 'cancer_df' is not defined",
     "output_type": "error",
     "traceback": [
      "\u001B[0;31m---------------------------------------------------------------------------\u001B[0m",
      "\u001B[0;31mNameError\u001B[0m                                 Traceback (most recent call last)",
      "Cell \u001B[0;32mIn[279], line 1\u001B[0m\n\u001B[0;32m----> 1\u001B[0m \u001B[38;5;28mprint\u001B[39m(\u001B[43mcancer_df\u001B[49m\u001B[38;5;241m.\u001B[39misnull()\u001B[38;5;241m.\u001B[39mvalues\u001B[38;5;241m.\u001B[39many())\n",
      "\u001B[0;31mNameError\u001B[0m: name 'cancer_df' is not defined"
     ]
    }
   ],
   "source": [
    "print(cancer_df.isnull().values.any())"
   ],
   "metadata": {
    "collapsed": false,
    "ExecuteTime": {
     "end_time": "2024-04-15T17:36:19.523917Z",
     "start_time": "2024-04-15T17:36:19.507480Z"
    }
   },
   "id": "f29837ea41ab8084"
  },
  {
   "cell_type": "code",
   "execution_count": 280,
   "outputs": [
    {
     "ename": "NameError",
     "evalue": "name 'cancer_df' is not defined",
     "output_type": "error",
     "traceback": [
      "\u001B[0;31m---------------------------------------------------------------------------\u001B[0m",
      "\u001B[0;31mNameError\u001B[0m                                 Traceback (most recent call last)",
      "Cell \u001B[0;32mIn[280], line 1\u001B[0m\n\u001B[0;32m----> 1\u001B[0m \u001B[38;5;28mprint\u001B[39m(\u001B[43mcancer_df\u001B[49m\u001B[38;5;241m.\u001B[39misnull()\u001B[38;5;241m.\u001B[39msum())\n",
      "\u001B[0;31mNameError\u001B[0m: name 'cancer_df' is not defined"
     ]
    }
   ],
   "source": [
    "print(cancer_df.isnull().sum())"
   ],
   "metadata": {
    "collapsed": false,
    "ExecuteTime": {
     "end_time": "2024-04-15T17:36:19.675470Z",
     "start_time": "2024-04-15T17:36:19.660149Z"
    }
   },
   "id": "8f358a8ef9d403a3"
  },
  {
   "cell_type": "code",
   "execution_count": 281,
   "outputs": [
    {
     "ename": "NameError",
     "evalue": "name 'plt' is not defined",
     "output_type": "error",
     "traceback": [
      "\u001B[0;31m---------------------------------------------------------------------------\u001B[0m",
      "\u001B[0;31mNameError\u001B[0m                                 Traceback (most recent call last)",
      "Cell \u001B[0;32mIn[281], line 1\u001B[0m\n\u001B[0;32m----> 1\u001B[0m \u001B[43mplt\u001B[49m\u001B[38;5;241m.\u001B[39mfigure(figsize\u001B[38;5;241m=\u001B[39m(\u001B[38;5;241m10\u001B[39m, \u001B[38;5;241m8\u001B[39m))\n\u001B[1;32m      2\u001B[0m corr \u001B[38;5;241m=\u001B[39m cancer_df[[\u001B[38;5;124m'\u001B[39m\u001B[38;5;124mAge\u001B[39m\u001B[38;5;124m'\u001B[39m, \u001B[38;5;124m'\u001B[39m\u001B[38;5;124mAir Pollution\u001B[39m\u001B[38;5;124m'\u001B[39m, \u001B[38;5;124m'\u001B[39m\u001B[38;5;124mAlcohol use\u001B[39m\u001B[38;5;124m'\u001B[39m, \u001B[38;5;124m'\u001B[39m\u001B[38;5;124mDust Allergy\u001B[39m\u001B[38;5;124m'\u001B[39m, \u001B[38;5;124m'\u001B[39m\u001B[38;5;124mOccuPational Hazards\u001B[39m\u001B[38;5;124m'\u001B[39m, \u001B[38;5;124m'\u001B[39m\u001B[38;5;124mGenetic Risk\u001B[39m\u001B[38;5;124m'\u001B[39m,\n\u001B[1;32m      3\u001B[0m                    \u001B[38;5;124m'\u001B[39m\u001B[38;5;124mchronic Lung Disease\u001B[39m\u001B[38;5;124m'\u001B[39m, \u001B[38;5;124m'\u001B[39m\u001B[38;5;124mBalanced Diet\u001B[39m\u001B[38;5;124m'\u001B[39m, \u001B[38;5;124m'\u001B[39m\u001B[38;5;124mObesity\u001B[39m\u001B[38;5;124m'\u001B[39m, \u001B[38;5;124m'\u001B[39m\u001B[38;5;124mSmoking\u001B[39m\u001B[38;5;124m'\u001B[39m]]\u001B[38;5;241m.\u001B[39mcorr()\n\u001B[1;32m      4\u001B[0m sns\u001B[38;5;241m.\u001B[39mheatmap(corr, annot\u001B[38;5;241m=\u001B[39m\u001B[38;5;28;01mTrue\u001B[39;00m, cmap\u001B[38;5;241m=\u001B[39m\u001B[38;5;124m'\u001B[39m\u001B[38;5;124mcoolwarm\u001B[39m\u001B[38;5;124m'\u001B[39m)\n",
      "\u001B[0;31mNameError\u001B[0m: name 'plt' is not defined"
     ]
    }
   ],
   "source": [
    "\n",
    "plt.figure(figsize=(10, 8))\n",
    "corr = cancer_df[['Age', 'Air Pollution', 'Alcohol use', 'Dust Allergy', 'OccuPational Hazards', 'Genetic Risk',\n",
    "                   'chronic Lung Disease', 'Balanced Diet', 'Obesity', 'Smoking']].corr()\n",
    "sns.heatmap(corr, annot=True, cmap='coolwarm')\n",
    "plt.title('Correlation Among Various Health Factors')\n",
    "plt.xticks(rotation=45, ha='right')  # Improve readability of x-axis labels\n",
    "plt.yticks(rotation=45)  # Improve readability of y-axis labels\n",
    "plt.show()\n"
   ],
   "metadata": {
    "collapsed": false,
    "ExecuteTime": {
     "end_time": "2024-04-15T17:36:19.882778Z",
     "start_time": "2024-04-15T17:36:19.864518Z"
    }
   },
   "id": "49d1c6f948c026c0"
  },
  {
   "cell_type": "code",
   "execution_count": 282,
   "outputs": [
    {
     "ename": "NameError",
     "evalue": "name 'cancer_df' is not defined",
     "output_type": "error",
     "traceback": [
      "\u001B[0;31m---------------------------------------------------------------------------\u001B[0m",
      "\u001B[0;31mNameError\u001B[0m                                 Traceback (most recent call last)",
      "Cell \u001B[0;32mIn[282], line 1\u001B[0m\n\u001B[0;32m----> 1\u001B[0m \u001B[38;5;28mprint\u001B[39m(\u001B[43mcancer_df\u001B[49m[\u001B[38;5;124m'\u001B[39m\u001B[38;5;124mLevel\u001B[39m\u001B[38;5;124m'\u001B[39m])\n",
      "\u001B[0;31mNameError\u001B[0m: name 'cancer_df' is not defined"
     ]
    }
   ],
   "source": [
    "print(cancer_df['Level'])"
   ],
   "metadata": {
    "collapsed": false,
    "ExecuteTime": {
     "end_time": "2024-04-15T17:36:19.976054Z",
     "start_time": "2024-04-15T17:36:19.958037Z"
    }
   },
   "id": "1b8cd326242997e7"
  },
  {
   "cell_type": "code",
   "execution_count": 283,
   "outputs": [
    {
     "ename": "NameError",
     "evalue": "name 'plt' is not defined",
     "output_type": "error",
     "traceback": [
      "\u001B[0;31m---------------------------------------------------------------------------\u001B[0m",
      "\u001B[0;31mNameError\u001B[0m                                 Traceback (most recent call last)",
      "Cell \u001B[0;32mIn[283], line 1\u001B[0m\n\u001B[0;32m----> 1\u001B[0m \u001B[43mplt\u001B[49m\u001B[38;5;241m.\u001B[39mfigure(figsize\u001B[38;5;241m=\u001B[39m(\u001B[38;5;241m16\u001B[39m, \u001B[38;5;241m12\u001B[39m))  \u001B[38;5;66;03m# Increased figure size for readability with more variables\u001B[39;00m\n\u001B[1;32m      2\u001B[0m corr \u001B[38;5;241m=\u001B[39m cancer_df[[\u001B[38;5;124m'\u001B[39m\u001B[38;5;124mDust Allergy\u001B[39m\u001B[38;5;124m'\u001B[39m, \u001B[38;5;124m'\u001B[39m\u001B[38;5;124mOccuPational Hazards\u001B[39m\u001B[38;5;124m'\u001B[39m, \u001B[38;5;124m'\u001B[39m\u001B[38;5;124mGenetic Risk\u001B[39m\u001B[38;5;124m'\u001B[39m,\n\u001B[1;32m      3\u001B[0m                    \u001B[38;5;124m'\u001B[39m\u001B[38;5;124mchronic Lung Disease\u001B[39m\u001B[38;5;124m'\u001B[39m, \u001B[38;5;124m'\u001B[39m\u001B[38;5;124mBalanced Diet\u001B[39m\u001B[38;5;124m'\u001B[39m, \u001B[38;5;124m'\u001B[39m\u001B[38;5;124mObesity\u001B[39m\u001B[38;5;124m'\u001B[39m, \u001B[38;5;124m'\u001B[39m\u001B[38;5;124mSmoking\u001B[39m\u001B[38;5;124m'\u001B[39m,\n\u001B[1;32m      4\u001B[0m                    \u001B[38;5;124m'\u001B[39m\u001B[38;5;124mPassive Smoker\u001B[39m\u001B[38;5;124m'\u001B[39m, \u001B[38;5;124m'\u001B[39m\u001B[38;5;124mChest Pain\u001B[39m\u001B[38;5;124m'\u001B[39m, \u001B[38;5;124m'\u001B[39m\u001B[38;5;124mCoughing of Blood\u001B[39m\u001B[38;5;124m'\u001B[39m, \u001B[38;5;124m'\u001B[39m\u001B[38;5;124mFatigue\u001B[39m\u001B[38;5;124m'\u001B[39m,\n\u001B[1;32m      5\u001B[0m                    \u001B[38;5;124m'\u001B[39m\u001B[38;5;124mWeight Loss\u001B[39m\u001B[38;5;124m'\u001B[39m, \u001B[38;5;124m'\u001B[39m\u001B[38;5;124mShortness of Breath\u001B[39m\u001B[38;5;124m'\u001B[39m, \u001B[38;5;124m'\u001B[39m\u001B[38;5;124mWheezing\u001B[39m\u001B[38;5;124m'\u001B[39m,\n\u001B[1;32m      6\u001B[0m                    \u001B[38;5;124m'\u001B[39m\u001B[38;5;124mSwallowing Difficulty\u001B[39m\u001B[38;5;124m'\u001B[39m, \u001B[38;5;124m'\u001B[39m\u001B[38;5;124mClubbing of Finger Nails\u001B[39m\u001B[38;5;124m'\u001B[39m, \u001B[38;5;124m'\u001B[39m\u001B[38;5;124mFrequent Cold\u001B[39m\u001B[38;5;124m'\u001B[39m,\n\u001B[1;32m      7\u001B[0m                    \u001B[38;5;124m'\u001B[39m\u001B[38;5;124mDry Cough\u001B[39m\u001B[38;5;124m'\u001B[39m, \u001B[38;5;124m'\u001B[39m\u001B[38;5;124mSnoring\u001B[39m\u001B[38;5;124m'\u001B[39m, \u001B[38;5;124m\"\u001B[39m\u001B[38;5;124mLevel\u001B[39m\u001B[38;5;124m\"\u001B[39m]]\u001B[38;5;241m.\u001B[39mcorr()  \u001B[38;5;66;03m# Selected all listed attributes\u001B[39;00m\n\u001B[1;32m      8\u001B[0m sns\u001B[38;5;241m.\u001B[39mheatmap(corr, annot\u001B[38;5;241m=\u001B[39m\u001B[38;5;28;01mTrue\u001B[39;00m, fmt\u001B[38;5;241m=\u001B[39m\u001B[38;5;124m'\u001B[39m\u001B[38;5;124m.1f\u001B[39m\u001B[38;5;124m'\u001B[39m, cmap\u001B[38;5;241m=\u001B[39m\u001B[38;5;124m'\u001B[39m\u001B[38;5;124mcoolwarm\u001B[39m\u001B[38;5;124m'\u001B[39m, square\u001B[38;5;241m=\u001B[39m\u001B[38;5;28;01mTrue\u001B[39;00m)\n",
      "\u001B[0;31mNameError\u001B[0m: name 'plt' is not defined"
     ]
    }
   ],
   "source": [
    "plt.figure(figsize=(16, 12))  # Increased figure size for readability with more variables\n",
    "corr = cancer_df[['Dust Allergy', 'OccuPational Hazards', 'Genetic Risk',\n",
    "                   'chronic Lung Disease', 'Balanced Diet', 'Obesity', 'Smoking',\n",
    "                   'Passive Smoker', 'Chest Pain', 'Coughing of Blood', 'Fatigue',\n",
    "                   'Weight Loss', 'Shortness of Breath', 'Wheezing',\n",
    "                   'Swallowing Difficulty', 'Clubbing of Finger Nails', 'Frequent Cold',\n",
    "                   'Dry Cough', 'Snoring', \"Level\"]].corr()  # Selected all listed attributes\n",
    "sns.heatmap(corr, annot=True, fmt='.1f', cmap='coolwarm', square=True)\n",
    "plt.title('Correlation Among Various Health Factors')\n",
    "plt.xticks(rotation=45, ha='right')  # Improve readability of x-axis labels\n",
    "plt.yticks(rotation=45)  # Improve readability of y-axis labels\n",
    "plt.show()"
   ],
   "metadata": {
    "collapsed": false,
    "ExecuteTime": {
     "end_time": "2024-04-15T17:36:20.173863Z",
     "start_time": "2024-04-15T17:36:20.154270Z"
    }
   },
   "id": "c0292b96b6f32589"
  },
  {
   "cell_type": "code",
   "execution_count": 284,
   "outputs": [
    {
     "ename": "NameError",
     "evalue": "name 'sns' is not defined",
     "output_type": "error",
     "traceback": [
      "\u001B[0;31m---------------------------------------------------------------------------\u001B[0m",
      "\u001B[0;31mNameError\u001B[0m                                 Traceback (most recent call last)",
      "Cell \u001B[0;32mIn[284], line 1\u001B[0m\n\u001B[0;32m----> 1\u001B[0m \u001B[43msns\u001B[49m\u001B[38;5;241m.\u001B[39mlmplot(x\u001B[38;5;241m=\u001B[39m\u001B[38;5;124m'\u001B[39m\u001B[38;5;124mOccuPational Hazards\u001B[39m\u001B[38;5;124m'\u001B[39m, y\u001B[38;5;241m=\u001B[39m\u001B[38;5;124m'\u001B[39m\u001B[38;5;124mGenetic Risk\u001B[39m\u001B[38;5;124m'\u001B[39m, data\u001B[38;5;241m=\u001B[39mcancer_df, aspect\u001B[38;5;241m=\u001B[39m\u001B[38;5;241m1.5\u001B[39m, scatter_kws\u001B[38;5;241m=\u001B[39m{\u001B[38;5;124m'\u001B[39m\u001B[38;5;124malpha\u001B[39m\u001B[38;5;124m'\u001B[39m:\u001B[38;5;241m0.5\u001B[39m})\n\u001B[1;32m      2\u001B[0m plt\u001B[38;5;241m.\u001B[39mtitle(\u001B[38;5;124m'\u001B[39m\u001B[38;5;124mScatter Plot of Occupational Hazards vs Genetic Risk\u001B[39m\u001B[38;5;124m'\u001B[39m)\n\u001B[1;32m      3\u001B[0m plt\u001B[38;5;241m.\u001B[39mshow()\n",
      "\u001B[0;31mNameError\u001B[0m: name 'sns' is not defined"
     ]
    }
   ],
   "source": [
    "sns.lmplot(x='OccuPational Hazards', y='Genetic Risk', data=cancer_df, aspect=1.5, scatter_kws={'alpha':0.5})\n",
    "plt.title('Scatter Plot of Occupational Hazards vs Genetic Risk')\n",
    "plt.show()"
   ],
   "metadata": {
    "collapsed": false,
    "ExecuteTime": {
     "end_time": "2024-04-15T17:36:20.419520Z",
     "start_time": "2024-04-15T17:36:20.401125Z"
    }
   },
   "id": "3825e1700373fbc9"
  },
  {
   "cell_type": "code",
   "execution_count": 285,
   "outputs": [
    {
     "ename": "NameError",
     "evalue": "name 'sns' is not defined",
     "output_type": "error",
     "traceback": [
      "\u001B[0;31m---------------------------------------------------------------------------\u001B[0m",
      "\u001B[0;31mNameError\u001B[0m                                 Traceback (most recent call last)",
      "Cell \u001B[0;32mIn[285], line 1\u001B[0m\n\u001B[0;32m----> 1\u001B[0m \u001B[43msns\u001B[49m\u001B[38;5;241m.\u001B[39mlmplot(x\u001B[38;5;241m=\u001B[39m\u001B[38;5;124m'\u001B[39m\u001B[38;5;124mOccuPational Hazards\u001B[39m\u001B[38;5;124m'\u001B[39m, y\u001B[38;5;241m=\u001B[39m\u001B[38;5;124m'\u001B[39m\u001B[38;5;124mchronic Lung Disease\u001B[39m\u001B[38;5;124m'\u001B[39m, data\u001B[38;5;241m=\u001B[39mcancer_df, aspect\u001B[38;5;241m=\u001B[39m\u001B[38;5;241m1.5\u001B[39m, scatter_kws\u001B[38;5;241m=\u001B[39m{\u001B[38;5;124m'\u001B[39m\u001B[38;5;124malpha\u001B[39m\u001B[38;5;124m'\u001B[39m: \u001B[38;5;241m0.5\u001B[39m})\n\u001B[1;32m      2\u001B[0m plt\u001B[38;5;241m.\u001B[39mtitle(\u001B[38;5;124m'\u001B[39m\u001B[38;5;124mScatter Plot of Occupational Hazards vs Genetic Risk\u001B[39m\u001B[38;5;124m'\u001B[39m)\n\u001B[1;32m      3\u001B[0m plt\u001B[38;5;241m.\u001B[39mshow()\n",
      "\u001B[0;31mNameError\u001B[0m: name 'sns' is not defined"
     ]
    }
   ],
   "source": [
    "sns.lmplot(x='OccuPational Hazards', y='chronic Lung Disease', data=cancer_df, aspect=1.5, scatter_kws={'alpha': 0.5})\n",
    "plt.title('Scatter Plot of Occupational Hazards vs Genetic Risk')\n",
    "plt.show()"
   ],
   "metadata": {
    "collapsed": false,
    "ExecuteTime": {
     "end_time": "2024-04-15T17:36:20.481143Z",
     "start_time": "2024-04-15T17:36:20.464625Z"
    }
   },
   "id": "25fa7d80f9d91134"
  },
  {
   "cell_type": "code",
   "execution_count": 286,
   "outputs": [
    {
     "ename": "NameError",
     "evalue": "name 'sns' is not defined",
     "output_type": "error",
     "traceback": [
      "\u001B[0;31m---------------------------------------------------------------------------\u001B[0m",
      "\u001B[0;31mNameError\u001B[0m                                 Traceback (most recent call last)",
      "Cell \u001B[0;32mIn[286], line 1\u001B[0m\n\u001B[0;32m----> 1\u001B[0m \u001B[43msns\u001B[49m\u001B[38;5;241m.\u001B[39mlmplot(x\u001B[38;5;241m=\u001B[39m\u001B[38;5;124m'\u001B[39m\u001B[38;5;124mAlcohol use\u001B[39m\u001B[38;5;124m'\u001B[39m, y\u001B[38;5;241m=\u001B[39m\u001B[38;5;124m'\u001B[39m\u001B[38;5;124mGenetic Risk\u001B[39m\u001B[38;5;124m'\u001B[39m, data\u001B[38;5;241m=\u001B[39mcancer_df, aspect\u001B[38;5;241m=\u001B[39m\u001B[38;5;241m1.5\u001B[39m, scatter_kws\u001B[38;5;241m=\u001B[39m{\u001B[38;5;124m'\u001B[39m\u001B[38;5;124malpha\u001B[39m\u001B[38;5;124m'\u001B[39m: \u001B[38;5;241m0.5\u001B[39m})\n\u001B[1;32m      2\u001B[0m plt\u001B[38;5;241m.\u001B[39mtitle(\u001B[38;5;124m'\u001B[39m\u001B[38;5;124mScatter Plot of Alcohol use and Genetic risk\u001B[39m\u001B[38;5;124m'\u001B[39m)\n\u001B[1;32m      3\u001B[0m plt\u001B[38;5;241m.\u001B[39mshow()\n",
      "\u001B[0;31mNameError\u001B[0m: name 'sns' is not defined"
     ]
    }
   ],
   "source": [
    "sns.lmplot(x='Alcohol use', y='Genetic Risk', data=cancer_df, aspect=1.5, scatter_kws={'alpha': 0.5})\n",
    "plt.title('Scatter Plot of Alcohol use and Genetic risk')\n",
    "plt.show()"
   ],
   "metadata": {
    "collapsed": false,
    "ExecuteTime": {
     "end_time": "2024-04-15T17:36:20.679542Z",
     "start_time": "2024-04-15T17:36:20.662618Z"
    }
   },
   "id": "e0f887014279cfbc"
  },
  {
   "cell_type": "code",
   "execution_count": 287,
   "outputs": [
    {
     "ename": "NameError",
     "evalue": "name 'sns' is not defined",
     "output_type": "error",
     "traceback": [
      "\u001B[0;31m---------------------------------------------------------------------------\u001B[0m",
      "\u001B[0;31mNameError\u001B[0m                                 Traceback (most recent call last)",
      "Cell \u001B[0;32mIn[287], line 2\u001B[0m\n\u001B[1;32m      1\u001B[0m \u001B[38;5;66;03m# Violin plot for 'Genetic Risk' by 'Level'\u001B[39;00m\n\u001B[0;32m----> 2\u001B[0m \u001B[43msns\u001B[49m\u001B[38;5;241m.\u001B[39mviolinplot(x\u001B[38;5;241m=\u001B[39m\u001B[38;5;124m'\u001B[39m\u001B[38;5;124mLevel\u001B[39m\u001B[38;5;124m'\u001B[39m, y\u001B[38;5;241m=\u001B[39m\u001B[38;5;124m'\u001B[39m\u001B[38;5;124mGenetic Risk\u001B[39m\u001B[38;5;124m'\u001B[39m, data\u001B[38;5;241m=\u001B[39mcancer_df_update)\n\u001B[1;32m      3\u001B[0m plt\u001B[38;5;241m.\u001B[39mtitle(\u001B[38;5;124m'\u001B[39m\u001B[38;5;124mGenetic Risk Levels\u001B[39m\u001B[38;5;124m'\u001B[39m)\n\u001B[1;32m      4\u001B[0m plt\u001B[38;5;241m.\u001B[39mshow()\n",
      "\u001B[0;31mNameError\u001B[0m: name 'sns' is not defined"
     ]
    }
   ],
   "source": [
    "# Violin plot for 'Genetic Risk' by 'Level'\n",
    "sns.violinplot(x='Level', y='Genetic Risk', data=cancer_df_update)\n",
    "plt.title('Genetic Risk Levels')\n",
    "plt.show()\n",
    "\n",
    "# Violin plot for 'Obesity' by 'Level'\n",
    "sns.violinplot(x='Level', y='Obesity', data=cancer_df_update)\n",
    "plt.title('Obesity Levels')\n",
    "plt.show()\n",
    "\n",
    "# Violin plot for 'Smoking' by 'Level'\n",
    "sns.violinplot(x='Level', y='Smoking', data=cancer_df_update)\n",
    "plt.title('Smoking Levels')\n",
    "plt.show()"
   ],
   "metadata": {
    "collapsed": false,
    "ExecuteTime": {
     "end_time": "2024-04-15T17:36:20.751801Z",
     "start_time": "2024-04-15T17:36:20.733407Z"
    }
   },
   "id": "2ff45351a54747ff"
  },
  {
   "cell_type": "code",
   "execution_count": 288,
   "outputs": [
    {
     "ename": "NameError",
     "evalue": "name 'sns' is not defined",
     "output_type": "error",
     "traceback": [
      "\u001B[0;31m---------------------------------------------------------------------------\u001B[0m",
      "\u001B[0;31mNameError\u001B[0m                                 Traceback (most recent call last)",
      "Cell \u001B[0;32mIn[288], line 2\u001B[0m\n\u001B[1;32m      1\u001B[0m \u001B[38;5;66;03m# Bar plot for the mean 'Genetic Risk' by 'Level'\u001B[39;00m\n\u001B[0;32m----> 2\u001B[0m \u001B[43msns\u001B[49m\u001B[38;5;241m.\u001B[39mbarplot(x\u001B[38;5;241m=\u001B[39m\u001B[38;5;124m'\u001B[39m\u001B[38;5;124mLevel\u001B[39m\u001B[38;5;124m'\u001B[39m, y\u001B[38;5;241m=\u001B[39m\u001B[38;5;124m'\u001B[39m\u001B[38;5;124mGenetic Risk\u001B[39m\u001B[38;5;124m'\u001B[39m, data\u001B[38;5;241m=\u001B[39mcancer_df_update, estimator\u001B[38;5;241m=\u001B[39mnp\u001B[38;5;241m.\u001B[39mmean)\n\u001B[1;32m      3\u001B[0m plt\u001B[38;5;241m.\u001B[39mtitle(\u001B[38;5;124m'\u001B[39m\u001B[38;5;124mMean Genetic Risk by Disease Level\u001B[39m\u001B[38;5;124m'\u001B[39m)\n\u001B[1;32m      4\u001B[0m plt\u001B[38;5;241m.\u001B[39mshow()\n",
      "\u001B[0;31mNameError\u001B[0m: name 'sns' is not defined"
     ]
    }
   ],
   "source": [
    "# Bar plot for the mean 'Genetic Risk' by 'Level'\n",
    "sns.barplot(x='Level', y='Genetic Risk', data=cancer_df_update, estimator=np.mean)\n",
    "plt.title('Mean Genetic Risk by Disease Level')\n",
    "plt.show()\n",
    "\n",
    "# Bar plot for the mean 'Obesity' by 'Level'\n",
    "sns.barplot(x='Level', y='Obesity', data=cancer_df_update, estimator=np.mean)\n",
    "plt.title('Mean Obesity by Disease Level')\n",
    "plt.show()\n",
    "\n",
    "# Bar plot for the mean 'Smoking' by 'Level'\n",
    "sns.barplot(x='Level', y='Smoking', data=cancer_df_update, estimator=np.mean)\n",
    "plt.title('Mean Smoking by Disease Level')\n",
    "plt.show()\n"
   ],
   "metadata": {
    "collapsed": false,
    "ExecuteTime": {
     "end_time": "2024-04-15T17:36:20.945708Z",
     "start_time": "2024-04-15T17:36:20.926964Z"
    }
   },
   "id": "92c265881301a35a"
  },
  {
   "cell_type": "code",
   "execution_count": 289,
   "outputs": [
    {
     "ename": "NameError",
     "evalue": "name 'stats' is not defined",
     "output_type": "error",
     "traceback": [
      "\u001B[0;31m---------------------------------------------------------------------------\u001B[0m",
      "\u001B[0;31mNameError\u001B[0m                                 Traceback (most recent call last)",
      "Cell \u001B[0;32mIn[289], line 2\u001B[0m\n\u001B[1;32m      1\u001B[0m \u001B[38;5;66;03m# ANOVA for 'Genetic Risk' across the different levels\u001B[39;00m\n\u001B[0;32m----> 2\u001B[0m f_value, p_value \u001B[38;5;241m=\u001B[39m \u001B[43mstats\u001B[49m\u001B[38;5;241m.\u001B[39mf_oneway(cancer_df_update[\u001B[38;5;124m'\u001B[39m\u001B[38;5;124mGenetic Risk\u001B[39m\u001B[38;5;124m'\u001B[39m][cancer_df_update[\u001B[38;5;124m'\u001B[39m\u001B[38;5;124mLevel\u001B[39m\u001B[38;5;124m'\u001B[39m] \u001B[38;5;241m==\u001B[39m \u001B[38;5;241m1\u001B[39m],\n\u001B[1;32m      3\u001B[0m                                    cancer_df_update[\u001B[38;5;124m'\u001B[39m\u001B[38;5;124mGenetic Risk\u001B[39m\u001B[38;5;124m'\u001B[39m][cancer_df_update[\u001B[38;5;124m'\u001B[39m\u001B[38;5;124mLevel\u001B[39m\u001B[38;5;124m'\u001B[39m] \u001B[38;5;241m==\u001B[39m \u001B[38;5;241m2\u001B[39m],\n\u001B[1;32m      4\u001B[0m                                    cancer_df_update[\u001B[38;5;124m'\u001B[39m\u001B[38;5;124mGenetic Risk\u001B[39m\u001B[38;5;124m'\u001B[39m][cancer_df_update[\u001B[38;5;124m'\u001B[39m\u001B[38;5;124mLevel\u001B[39m\u001B[38;5;124m'\u001B[39m] \u001B[38;5;241m==\u001B[39m \u001B[38;5;241m3\u001B[39m])\n\u001B[1;32m      5\u001B[0m \u001B[38;5;28mprint\u001B[39m(\u001B[38;5;124m'\u001B[39m\u001B[38;5;124mANOVA for Genetic Risk by Level:\u001B[39m\u001B[38;5;124m'\u001B[39m, f_value, p_value)\n",
      "\u001B[0;31mNameError\u001B[0m: name 'stats' is not defined"
     ]
    }
   ],
   "source": [
    "# ANOVA for 'Genetic Risk' across the different levels\n",
    "f_value, p_value = stats.f_oneway(cancer_df_update['Genetic Risk'][cancer_df_update['Level'] == 1],\n",
    "                                   cancer_df_update['Genetic Risk'][cancer_df_update['Level'] == 2],\n",
    "                                   cancer_df_update['Genetic Risk'][cancer_df_update['Level'] == 3])\n",
    "print('ANOVA for Genetic Risk by Level:', f_value, p_value)"
   ],
   "metadata": {
    "collapsed": false,
    "ExecuteTime": {
     "end_time": "2024-04-15T17:36:21.128718Z",
     "start_time": "2024-04-15T17:36:21.111040Z"
    }
   },
   "id": "2899615b5fc2ca60"
  },
  {
   "cell_type": "code",
   "execution_count": 290,
   "outputs": [
    {
     "ename": "NameError",
     "evalue": "name 'stats' is not defined",
     "output_type": "error",
     "traceback": [
      "\u001B[0;31m---------------------------------------------------------------------------\u001B[0m",
      "\u001B[0;31mNameError\u001B[0m                                 Traceback (most recent call last)",
      "Cell \u001B[0;32mIn[290], line 2\u001B[0m\n\u001B[1;32m      1\u001B[0m \u001B[38;5;66;03m# Kruskal-Wallis H-test for 'Genetic Risk' across different 'Levels'\u001B[39;00m\n\u001B[0;32m----> 2\u001B[0m stat, p \u001B[38;5;241m=\u001B[39m \u001B[43mstats\u001B[49m\u001B[38;5;241m.\u001B[39mkruskal(cancer_df_update[cancer_df_update[\u001B[38;5;124m'\u001B[39m\u001B[38;5;124mLevel\u001B[39m\u001B[38;5;124m'\u001B[39m] \u001B[38;5;241m==\u001B[39m \u001B[38;5;241m1\u001B[39m][\u001B[38;5;124m'\u001B[39m\u001B[38;5;124mGenetic Risk\u001B[39m\u001B[38;5;124m'\u001B[39m],\n\u001B[1;32m      3\u001B[0m                         cancer_df_update[cancer_df_update[\u001B[38;5;124m'\u001B[39m\u001B[38;5;124mLevel\u001B[39m\u001B[38;5;124m'\u001B[39m] \u001B[38;5;241m==\u001B[39m \u001B[38;5;241m2\u001B[39m][\u001B[38;5;124m'\u001B[39m\u001B[38;5;124mGenetic Risk\u001B[39m\u001B[38;5;124m'\u001B[39m],\n\u001B[1;32m      4\u001B[0m                         cancer_df_update[cancer_df_update[\u001B[38;5;124m'\u001B[39m\u001B[38;5;124mLevel\u001B[39m\u001B[38;5;124m'\u001B[39m] \u001B[38;5;241m==\u001B[39m \u001B[38;5;241m3\u001B[39m][\u001B[38;5;124m'\u001B[39m\u001B[38;5;124mGenetic Risk\u001B[39m\u001B[38;5;124m'\u001B[39m])\n\u001B[1;32m      5\u001B[0m \u001B[38;5;28mprint\u001B[39m(\u001B[38;5;124m'\u001B[39m\u001B[38;5;124mKruskal-Wallis H-test for Genetic Risk across Levels: Statistic:\u001B[39m\u001B[38;5;124m'\u001B[39m, stat, \u001B[38;5;124m'\u001B[39m\u001B[38;5;124mP-value:\u001B[39m\u001B[38;5;124m'\u001B[39m, p)\n",
      "\u001B[0;31mNameError\u001B[0m: name 'stats' is not defined"
     ]
    }
   ],
   "source": [
    "# Kruskal-Wallis H-test for 'Genetic Risk' across different 'Levels'\n",
    "stat, p = stats.kruskal(cancer_df_update[cancer_df_update['Level'] == 1]['Genetic Risk'],\n",
    "                        cancer_df_update[cancer_df_update['Level'] == 2]['Genetic Risk'],\n",
    "                        cancer_df_update[cancer_df_update['Level'] == 3]['Genetic Risk'])\n",
    "print('Kruskal-Wallis H-test for Genetic Risk across Levels: Statistic:', stat, 'P-value:', p)"
   ],
   "metadata": {
    "collapsed": false,
    "ExecuteTime": {
     "end_time": "2024-04-15T17:36:21.215463Z",
     "start_time": "2024-04-15T17:36:21.196678Z"
    }
   },
   "id": "5af248346484fb68"
  },
  {
   "cell_type": "code",
   "execution_count": 291,
   "outputs": [
    {
     "ename": "NameError",
     "evalue": "name 'stats' is not defined",
     "output_type": "error",
     "traceback": [
      "\u001B[0;31m---------------------------------------------------------------------------\u001B[0m",
      "\u001B[0;31mNameError\u001B[0m                                 Traceback (most recent call last)",
      "Cell \u001B[0;32mIn[291], line 2\u001B[0m\n\u001B[1;32m      1\u001B[0m \u001B[38;5;66;03m# Pearson correlation for 'Genetic Risk' and 'Occupational Hazards'\u001B[39;00m\n\u001B[0;32m----> 2\u001B[0m corr_coefficient, p_value \u001B[38;5;241m=\u001B[39m \u001B[43mstats\u001B[49m\u001B[38;5;241m.\u001B[39mpearsonr(cancer_df_update[\u001B[38;5;124m'\u001B[39m\u001B[38;5;124mGenetic Risk\u001B[39m\u001B[38;5;124m'\u001B[39m], cancer_df_update[\u001B[38;5;124m'\u001B[39m\u001B[38;5;124mOccuPational Hazards\u001B[39m\u001B[38;5;124m'\u001B[39m])\n\u001B[1;32m      3\u001B[0m \u001B[38;5;28mprint\u001B[39m(\u001B[38;5;124m'\u001B[39m\u001B[38;5;124mCorrelation between Genetic Risk and Occupational Hazards:\u001B[39m\u001B[38;5;124m'\u001B[39m, corr_coefficient, p_value)\n\u001B[1;32m      5\u001B[0m \u001B[38;5;66;03m# Pearson correlation for 'Alcohol Use' and 'Genetic Risk'\u001B[39;00m\n",
      "\u001B[0;31mNameError\u001B[0m: name 'stats' is not defined"
     ]
    }
   ],
   "source": [
    "# Pearson correlation for 'Genetic Risk' and 'Occupational Hazards'\n",
    "corr_coefficient, p_value = stats.pearsonr(cancer_df_update['Genetic Risk'], cancer_df_update['OccuPational Hazards'])\n",
    "print('Correlation between Genetic Risk and Occupational Hazards:', corr_coefficient, p_value)\n",
    "\n",
    "# Pearson correlation for 'Alcohol Use' and 'Genetic Risk'\n",
    "corr_coefficient, p_value = stats.pearsonr(cancer_df_update['Alcohol use'], cancer_df_update['Genetic Risk'])\n",
    "print('Correlation between Alcohol Use and Genetic Risk:', corr_coefficient, p_value)"
   ],
   "metadata": {
    "collapsed": false,
    "ExecuteTime": {
     "end_time": "2024-04-15T17:36:21.368082Z",
     "start_time": "2024-04-15T17:36:21.348931Z"
    }
   },
   "id": "33104ed4dba89767"
  },
  {
   "cell_type": "code",
   "execution_count": 292,
   "outputs": [
    {
     "ename": "NameError",
     "evalue": "name 'stats' is not defined",
     "output_type": "error",
     "traceback": [
      "\u001B[0;31m---------------------------------------------------------------------------\u001B[0m",
      "\u001B[0;31mNameError\u001B[0m                                 Traceback (most recent call last)",
      "Cell \u001B[0;32mIn[292], line 2\u001B[0m\n\u001B[1;32m      1\u001B[0m \u001B[38;5;66;03m# Spearman's rank correlation for 'Alcohol Use' and 'Genetic Risk'\u001B[39;00m\n\u001B[0;32m----> 2\u001B[0m spearman_coeff, p_val \u001B[38;5;241m=\u001B[39m \u001B[43mstats\u001B[49m\u001B[38;5;241m.\u001B[39mspearmanr(cancer_df_update[\u001B[38;5;124m'\u001B[39m\u001B[38;5;124mAlcohol use\u001B[39m\u001B[38;5;124m'\u001B[39m], cancer_df_update[\u001B[38;5;124m'\u001B[39m\u001B[38;5;124mGenetic Risk\u001B[39m\u001B[38;5;124m'\u001B[39m])\n\u001B[1;32m      3\u001B[0m \u001B[38;5;28mprint\u001B[39m(\u001B[38;5;124m\"\u001B[39m\u001B[38;5;124mSpearman\u001B[39m\u001B[38;5;124m'\u001B[39m\u001B[38;5;124ms Rank Correlation Coefficient between Alcohol use and Genetic Risk:\u001B[39m\u001B[38;5;124m\"\u001B[39m, spearman_coeff, \u001B[38;5;124m'\u001B[39m\u001B[38;5;124mP-value:\u001B[39m\u001B[38;5;124m'\u001B[39m, p_val)\n",
      "\u001B[0;31mNameError\u001B[0m: name 'stats' is not defined"
     ]
    }
   ],
   "source": [
    "# Spearman's rank correlation for 'Alcohol Use' and 'Genetic Risk'\n",
    "spearman_coeff, p_val = stats.spearmanr(cancer_df_update['Alcohol use'], cancer_df_update['Genetic Risk'])\n",
    "print(\"Spearman's Rank Correlation Coefficient between Alcohol use and Genetic Risk:\", spearman_coeff, 'P-value:', p_val)"
   ],
   "metadata": {
    "collapsed": false,
    "ExecuteTime": {
     "end_time": "2024-04-15T17:36:21.754366Z",
     "start_time": "2024-04-15T17:36:21.571053Z"
    }
   },
   "id": "4213293c48658188"
  },
  {
   "cell_type": "code",
   "execution_count": null,
   "outputs": [],
   "source": [
    "# Create a DataFrame to hold the results\n",
    "test_results = pd.DataFrame({\n",
    "    'Test': ['ANOVA', 'Kruskal-Wallis', 'Pearson Correlation (Genetic Risk & Occupational Hazards)',\n",
    "             'Pearson Correlation (Alcohol Use & Genetic Risk)', \"Spearman's Rank Correlation (Alcohol use & Genetic Risk)\"],\n",
    "    'Statistic': [488.98, 456.46, 0.893, 0.877, 0.848],\n",
    "    'P-Value': [1.03169e-148, 7.59884e-100, 0.0, 2.7193e-320, 8.24777e-278],\n",
    "    'Comments': ['Significant difference across Levels',\n",
    "                 'Significant distribution difference across Levels',\n",
    "                 'Strong positive relationship',\n",
    "                 'Strong positive relationship',\n",
    "                 'Strong positive association']\n",
    "})\n",
    "\n",
    "# Display the DataFrame\n",
    "print(test_results)\n",
    "\n",
    "# Output to LaTeX format - useful for LaTeX documents\n",
    "latex_output = test_results.to_latex(index=False)\n",
    "print(latex_output)\n",
    "\n",
    "# Save to Excel format - useful for Word or other document editors\n",
    "test_results.to_excel('statistical_test_results.xlsx', index=False)\n",
    "\n",
    "# Save to CSV format - alternative for importing into various programs\n",
    "test_results.to_csv('statistical_test_results.csv', index=False)"
   ],
   "metadata": {
    "collapsed": false
   },
   "id": "6fc4308281dfd255"
  },
  {
   "cell_type": "markdown",
   "source": [
    "# Predictive Analytics\n",
    "Once the problem you want to tackle has been assessed and refined, you can proceed with the predictive analytics part. As a reminder, the main goal of predictive analytics is to build a predictive model in order to be able to make predictions on unseen data, based on the informative content of the existing data.\n",
    "Required activities\n",
    "- Identify the target variable y for the predictive problem at hand\n",
    "- Analyze the distribution of the target variable y: Is it balanced or unbalanced?\n",
    "- Split the available data into a training-testing-validation set.\n",
    "o The training set will be used to train the predictive model.\n",
    "o The testing set will be used to assess the model performance.\n",
    "o The validation set is a subset of data which will be set aside (unseen from the\n",
    "model) and used to simulate the future data that the model will need to predict.\n",
    "- According to the defined problem (regression/binary classification/multiclass classification)\n",
    "o Select at least two different appropriate performance metrics\n",
    "o Assess one baseline model and at least three different supervised predictive\n",
    "models using the aforementioned performance metric\n",
    "- (Optionally) Employ unsupervised techniques to further extract insights from the data\n",
    "- Critically discuss the modeling choices and the outcomes of the previous steps.\n",
    "Note: Please note that developing a prototype is, by definition, an iterative process, so don’t be afraid to\n",
    "go back to problem definition and adjust it as you gain a better understanding of the problem at hand."
   ],
   "metadata": {
    "collapsed": false
   },
   "id": "1b94aebb8da9acb5"
  },
  {
   "cell_type": "code",
   "outputs": [
    {
     "ename": "NameError",
     "evalue": "name 'pd' is not defined",
     "output_type": "error",
     "traceback": [
      "\u001B[0;31m---------------------------------------------------------------------------\u001B[0m",
      "\u001B[0;31mNameError\u001B[0m                                 Traceback (most recent call last)",
      "Cell \u001B[0;32mIn[293], line 2\u001B[0m\n\u001B[1;32m      1\u001B[0m \u001B[38;5;66;03m# Load the dataset\u001B[39;00m\n\u001B[0;32m----> 2\u001B[0m data \u001B[38;5;241m=\u001B[39m \u001B[43mpd\u001B[49m\u001B[38;5;241m.\u001B[39mread_excel(\u001B[38;5;124m'\u001B[39m\u001B[38;5;124mProject_Data/cancer patient data sets.xlsx\u001B[39m\u001B[38;5;124m'\u001B[39m)\n\u001B[1;32m      4\u001B[0m \u001B[38;5;66;03m# Assuming 'Level' is the target variable\u001B[39;00m\n\u001B[1;32m      5\u001B[0m target_counts \u001B[38;5;241m=\u001B[39m data[\u001B[38;5;124m'\u001B[39m\u001B[38;5;124mLevel\u001B[39m\u001B[38;5;124m'\u001B[39m]\u001B[38;5;241m.\u001B[39mvalue_counts()\n",
      "\u001B[0;31mNameError\u001B[0m: name 'pd' is not defined"
     ]
    }
   ],
   "source": [
    "# Load the dataset\n",
    "data = pd.read_excel('Project_Data/cancer patient data sets.xlsx')\n",
    "\n",
    "# Assuming 'Level' is the target variable\n",
    "target_counts = data['Level'].value_counts()\n",
    "\n",
    "# Check if the target variable is balanced or unbalanced\n",
    "if len(target_counts) == 2:\n",
    "    # If there are exactly two classes, we consider it balanced if the ratio between the classes is within a certain threshold\n",
    "    class_ratio = target_counts.iloc[0] / target_counts.iloc[1]\n",
    "    threshold = 0.5  # You can adjust this threshold based on your requirements\n",
    "    if 1 - threshold <= class_ratio <= 1 + threshold:\n",
    "        print(\"The target variable 'Level' is balanced.\")\n",
    "    else:\n",
    "        print(\"The target variable 'Level' is unbalanced.\")\n",
    "else:\n",
    "    # If there are more than two classes, we consider it balanced if each class has approximately the same number of samples\n",
    "    min_samples = target_counts.min()\n",
    "    max_samples = target_counts.max()\n",
    "    threshold = 0.8\n",
    "    if min_samples / max_samples >= threshold:\n",
    "        print(\"The target variable 'Level' is balanced.\")\n",
    "    else:\n",
    "        print(\"The target variable 'Level' is unbalanced.\")\n",
    "\n",
    "names = [\n",
    "    \"Logistic Regression\",\n",
    "    \"Decision Tree\",\n",
    "    \"Random Forest\"]\n",
    "\n",
    "classifiers = [\n",
    "    LogisticRegression(random_state=0),\n",
    "    DecisionTreeClassifier(max_depth=5),\n",
    "    RandomForestClassifier(max_depth=5, n_estimators=10, max_features=1)\n",
    "]\n",
    "\n",
    "# Step 1: Load the dataset\n",
    "data = pd.read_excel('Project_Data/cancer patient data sets.xlsx')\n",
    "\n",
    "# Step 2: Data preprocessing\n",
    "# Assuming 'Level' is the target variable\n",
    "X = data.drop(['Patient Id', 'Level'], axis=1)  # Features\n",
    "y = data['Level']  # Target\n",
    "\n",
    "# Step 3: Feature selection (you can replace this with your own feature selection technique)\n",
    "# For demonstration, let's use all features\n",
    "selected_features = X.columns\n",
    "\n",
    "# Step 4: Split the dataset into training, validation and testing sets\n",
    "\n",
    "# First, split the data into training and temporary (remaining) data\n",
    "X_train, X_remaining, y_train, y_remaining = train_test_split(X, y, test_size=0.7, random_state=42)\n",
    "\n",
    "# Then, split the remaining data into validation and test sets\n",
    "X_valid, X_test, y_valid, y_test = train_test_split(X_remaining, y_remaining, test_size=0.5, random_state=42)\n",
    "\n",
    "# Now we have X_train_temp, X_val, X_test for features and y_train_temp, y_val, y_test for targets\n",
    "# X_train_temp is the training data, X_val is the validation data, and X_test is the test data\n",
    "\n",
    "# Now you have X_train, X_valid for features and y_train, y_valid for targets\n",
    "# X_train is your finalized training data, and X_valid is your validation data\n",
    "\n",
    "# You can print the sizes of the datasets to confirm the splits\n",
    "print(\"Training data size:\", X_train.shape)\n",
    "print(\"Validation data size:\", X_valid.shape)\n",
    "print(\"Test data size:\", X_test.shape)\n",
    "\n",
    "# Step 5: Model selection and training\n",
    "gnb = GaussianNB()\n",
    "gnb.fit(X_train, y_train)\n",
    "y_pred = gnb.predict(X_test)\n",
    "print(\"Accuracy for Naive Bayesian Model: \", accuracy_score(y_test, y_pred))\n",
    "print(\"F1 for Naive Bayesian Model: \", f1_score(y_test, y_pred, average=None))\n",
    "\n",
    "# Creating empty DFs\n",
    "accuracy_per_dataset_df = pd.DataFrame(columns=[\"Dataset Name\"] + names)\n",
    "balanced_accuracy_per_dataset_df = pd.DataFrame(columns=[\"Dataset Name\"] + names)\n",
    "f1_score_per_dataset_df = pd.DataFrame(columns=[\"Dataset Name\"] + names)\n",
    "\n",
    "# Concatenating the DataFrames\n",
    "accuracy_per_dataset_df = pd.concat([accuracy_per_dataset_df] * len(names), ignore_index=True)\n",
    "balanced_accuracy_per_dataset_df = pd.concat([balanced_accuracy_per_dataset_df] * len(names), ignore_index=True)\n",
    "f1_score_per_dataset_df = pd.concat([f1_score_per_dataset_df] * len(names), ignore_index=True)\n",
    "\n",
    "# For each dataset split, train the classifiers and evaluate\n",
    "for technique in [\"Ordinal Encoding\"]:\n",
    "    print(\"[INFO] - Categorical technique: \", technique)\n",
    "    accuracy_line = {\"Dataset Name\": technique}\n",
    "    balanced_accuracy_line = {\"Dataset Name\": technique}\n",
    "    f1_score_line = {\"Dataset Name\": technique}\n",
    "\n",
    "    for classifier, method_name in zip(classifiers, names):\n",
    "        print(\"[INFO] - Classifier: \", method_name)\n",
    "        classifier.fit(X_train, y_train)\n",
    "        y_pred = classifier.predict(X_test)\n",
    "        accuracy_line[method_name] = accuracy_score(y_test, y_pred)\n",
    "        balanced_accuracy_line[method_name] = balanced_accuracy_score(y_test, y_pred)\n",
    "        f1_score_line[method_name] = f1_score(y_test, y_pred, average=None)\n",
    "\n",
    "    # Append the lines to the DataFrames\n",
    "    accuracy_per_dataset_df = pd.concat([accuracy_per_dataset_df, pd.DataFrame([accuracy_line])], ignore_index=True)\n",
    "    balanced_accuracy_per_dataset_df = pd.concat(\n",
    "        [balanced_accuracy_per_dataset_df, pd.DataFrame([balanced_accuracy_line])], ignore_index=True)\n",
    "    f1_score_per_dataset_df = pd.concat([f1_score_per_dataset_df, pd.DataFrame([f1_score_line])], ignore_index=True)\n",
    "\n",
    "# Step 6: Model evaluation\n",
    "model = RandomForestClassifier(random_state=42)\n",
    "model.fit(X_train, y_train)\n",
    "y_pred = model.predict(X_test)\n",
    "accuracy = accuracy_score(y_test, y_pred)\n",
    "print(\"Accuracy:\", accuracy)\n",
    "\n",
    "# Example new data (replace this with your own new data)\n",
    "new_data = pd.DataFrame({\n",
    "    'Age': [45],\n",
    "    'Gender': [1],\n",
    "    'Air Pollution': [3],\n",
    "    'Alcohol use': [2],\n",
    "    'Dust Allergy': [4],\n",
    "    'OccuPational Hazards': [5],\n",
    "    'Genetic Risk': [6],\n",
    "    'chronic Lung Disease': [3],\n",
    "    'Balanced Diet': [7],\n",
    "    'Obesity': [4],\n",
    "    'Smoking': [6],\n",
    "    'Passive Smoker': [2],\n",
    "    'Chest Pain': [1],\n",
    "    'Coughing of Blood': [1],\n",
    "    'Fatigue': [2],\n",
    "    'Weight Loss': [1],\n",
    "    'Shortness of Breath': [3],\n",
    "    'Wheezing': [2],\n",
    "    'Swallowing Difficulty': [1],\n",
    "    'Clubbing of Finger Nails': [1],\n",
    "    'Frequent Cold': [2],\n",
    "    'Dry Cough': [1],\n",
    "    'Snoring': [3]\n",
    "})"
   ],
   "metadata": {
    "collapsed": false,
    "ExecuteTime": {
     "end_time": "2024-04-15T17:36:21.916234Z",
     "start_time": "2024-04-15T17:36:21.865666Z"
    }
   },
   "id": "58638b7021cfd63",
   "execution_count": 293
  },
  {
   "cell_type": "code",
   "outputs": [
    {
     "ename": "NameError",
     "evalue": "name 'model' is not defined",
     "output_type": "error",
     "traceback": [
      "\u001B[0;31m---------------------------------------------------------------------------\u001B[0m",
      "\u001B[0;31mNameError\u001B[0m                                 Traceback (most recent call last)",
      "Cell \u001B[0;32mIn[294], line 2\u001B[0m\n\u001B[1;32m      1\u001B[0m \u001B[38;5;66;03m# Make predictions\u001B[39;00m\n\u001B[0;32m----> 2\u001B[0m predictions \u001B[38;5;241m=\u001B[39m \u001B[43mmodel\u001B[49m\u001B[38;5;241m.\u001B[39mpredict(new_data)\n\u001B[1;32m      4\u001B[0m \u001B[38;5;66;03m# Print predictions\u001B[39;00m\n\u001B[1;32m      5\u001B[0m \u001B[38;5;28mprint\u001B[39m(\u001B[38;5;124m\"\u001B[39m\u001B[38;5;124mPredicted cancer levels for new data:\u001B[39m\u001B[38;5;124m\"\u001B[39m, predictions)\n",
      "\u001B[0;31mNameError\u001B[0m: name 'model' is not defined"
     ]
    }
   ],
   "source": [
    "# Make predictions\n",
    "predictions = model.predict(new_data)\n",
    "\n",
    "# Print predictions\n",
    "print(\"Predicted cancer levels for new data:\", predictions)\n",
    "\n",
    "# Load the dataset\n",
    "data = pd.read_excel('Project_Data/cancer patient data sets.xlsx')\n",
    "\n",
    "# Assuming 'Level' is not used for clustering\n",
    "X = data.drop(['Patient Id', 'Level'], axis=1)\n",
    "\n",
    "# Standardize the features\n",
    "scaler = StandardScaler()\n",
    "X_scaled = scaler.fit_transform(X)\n",
    "\n",
    "# Perform hierarchical clustering\n",
    "Z = hierarchy.linkage(X_scaled, method='ward')\n",
    "\n",
    "# Plot the dendrogram\n",
    "plt.figure(figsize=(12, 6))\n",
    "plt.title('Hierarchical Clustering Dendrogram')\n",
    "plt.xlabel('Sample Index')\n",
    "plt.ylabel('Distance')\n",
    "dendrogram(\n",
    "    Z,\n",
    "    leaf_rotation=90,  # rotates the x axis labels\n",
    "    leaf_font_size=8,  # font size for the x axis labels\n",
    ")\n",
    "plt.show()\n",
    "\n",
    "# You can also use a heatmap to visualize the clusters\n",
    "plt.figure(figsize=(10, 8))\n",
    "sns.heatmap(X_scaled[np.argsort(Z[:, 2])], cmap='viridis', yticklabels=False)\n",
    "plt.title('Hierarchical Clustering Heatmap')\n",
    "plt.xlabel('Features')\n",
    "plt.ylabel('Samples (sorted by linkage)')\n",
    "plt.show()\n"
   ],
   "metadata": {
    "collapsed": false,
    "ExecuteTime": {
     "end_time": "2024-04-15T17:36:21.942600Z",
     "start_time": "2024-04-15T17:36:21.920184Z"
    }
   },
   "id": "35cf4c6211ea3957",
   "execution_count": 294
  },
  {
   "cell_type": "markdown",
   "source": [
    "### Step 2: Data preprocessing"
   ],
   "metadata": {
    "collapsed": false
   },
   "id": "b9d9682b1f5da889"
  },
  {
   "cell_type": "code",
   "outputs": [
    {
     "ename": "NameError",
     "evalue": "name 'data' is not defined",
     "output_type": "error",
     "traceback": [
      "\u001B[0;31m---------------------------------------------------------------------------\u001B[0m",
      "\u001B[0;31mNameError\u001B[0m                                 Traceback (most recent call last)",
      "Cell \u001B[0;32mIn[295], line 2\u001B[0m\n\u001B[1;32m      1\u001B[0m \u001B[38;5;66;03m# Assuming 'Level' is the target variable\u001B[39;00m\n\u001B[0;32m----> 2\u001B[0m X \u001B[38;5;241m=\u001B[39m \u001B[43mdata\u001B[49m\u001B[38;5;241m.\u001B[39mdrop([\u001B[38;5;124m'\u001B[39m\u001B[38;5;124mPatient Id\u001B[39m\u001B[38;5;124m'\u001B[39m, \u001B[38;5;124m'\u001B[39m\u001B[38;5;124mLevel\u001B[39m\u001B[38;5;124m'\u001B[39m], axis\u001B[38;5;241m=\u001B[39m\u001B[38;5;241m1\u001B[39m)  \u001B[38;5;66;03m# Features\u001B[39;00m\n\u001B[1;32m      3\u001B[0m y \u001B[38;5;241m=\u001B[39m data[\u001B[38;5;124m'\u001B[39m\u001B[38;5;124mLevel\u001B[39m\u001B[38;5;124m'\u001B[39m]  \u001B[38;5;66;03m# Target\u001B[39;00m\n\u001B[1;32m      5\u001B[0m \u001B[38;5;66;03m# First, split the data into training and temporary (remaining) data\u001B[39;00m\n",
      "\u001B[0;31mNameError\u001B[0m: name 'data' is not defined"
     ]
    }
   ],
   "source": [
    "# Assuming 'Level' is the target variable\n",
    "X = data.drop(['Patient Id', 'Level'], axis=1)  # Features\n",
    "y = data['Level']  # Target\n",
    "\n",
    "# First, split the data into training and temporary (remaining) data\n",
    "X_train, X_remaining, y_train, y_remaining = train_test_split(X, y, test_size=0.7, random_state=42)\n",
    "\n",
    "# Then, split the remaining data into validation and test sets\n",
    "X_valid, X_test, y_valid, y_test = train_test_split(X_remaining, y_remaining, test_size=0.5, random_state=42)\n",
    "\n",
    "# Define models for cross-validation\n",
    "log_reg = LogisticRegression(random_state=42)\n",
    "dec_tree = DecisionTreeClassifier(random_state=42)\n",
    "rand_forest = RandomForestClassifier(random_state=42)\n",
    "naive_bayes = GaussianNB()\n",
    "\n",
    "# Perform cross-validation with 5 folds\n",
    "models = [('Logistic Regression', log_reg), \n",
    "          ('Decision Tree', dec_tree), \n",
    "          ('Random Forest', rand_forest), \n",
    "          ('Naive Bayes', naive_bayes)]\n",
    "\n",
    "for name, model in models:\n",
    "    scores = cross_val_score(model, X_train, y_train, cv=5, scoring='accuracy')\n",
    "    print(f'{name}: Mean Accuracy: {scores.mean():.4f}, Standard Deviation: {scores.std():.4f}')\n",
    "\n",
    "# Build ensemble predictor\n",
    "ensemble = VotingClassifier(estimators=models, voting='hard')\n",
    "\n",
    "# Train ensemble predictor on the entire training data\n",
    "ensemble.fit(X_train, y_train)\n",
    "\n",
    "# Evaluate ensemble predictor on the validation data\n",
    "ensemble_accuracy = ensemble.score(X_valid, y_valid)\n",
    "print(f'Ensemble Predictor Accuracy on Validation Data: {ensemble_accuracy:.4f}')\n",
    "\n",
    "# Train a Decision Tree classifier\n",
    "dt_classifier = DecisionTreeClassifier(random_state=42)\n",
    "dt_classifier.fit(X_train, y_train)\n",
    "\n",
    "# Get feature importances\n",
    "importances = dt_classifier.feature_importances_\n",
    "\n",
    "# Create a DataFrame to store feature importances\n",
    "feature_importance_df = pd.DataFrame({'Feature': X_train.columns, 'Importance': importances})\n",
    "feature_importance_df = feature_importance_df.sort_values(by='Importance', ascending=False)\n",
    "\n",
    "# Plot the feature importances\n",
    "plt.figure(figsize=(10, 6))\n",
    "plt.barh(feature_importance_df['Feature'], feature_importance_df['Importance'])\n",
    "plt.xlabel('Importance')\n",
    "plt.ylabel('Feature')\n",
    "plt.title('Feature Importances from Decision Tree Model')\n",
    "plt.show()\n",
    "\n",
    "# Display the feature importances\n",
    "print(feature_importance_df)\n",
    "\n",
    "# Define the variables (features) you want to include\n",
    "selected_features = ['Air Pollution', 'Wheezing', 'Obesity', 'Snoring', 'Coughing of Blood', 'Clubbing of Finger Nails']\n",
    "\n",
    "# Subset the dataset to include only the selected features and the target variable\n",
    "subset_data = data[selected_features + ['Level']]\n",
    "\n",
    "# Split the dataset into training and testing sets\n",
    "X = subset_data.drop('Level', axis=1)  # Features\n",
    "y = subset_data['Level']  # Target\n",
    "# First, split the data into training and temporary (remaining) data\n",
    "X_train, X_remaining, y_train, y_remaining = train_test_split(X, y, test_size=0.8, random_state=42)\n",
    "\n",
    "# Then, split the remaining data into validation and test sets\n",
    "X_valid, X_test_more, y_valid, y_test_more = train_test_split(X_remaining, y_remaining, test_size=0.5, random_state=42)\n",
    "\n",
    "X_train1, X_train_remaining, y_train1, y_train_remaining = train_test_split(X_train, y_train, test_size=0.25, random_state=42)\n",
    "\n",
    "X_train2, X_train_remaining, y_train2, y_train_remaining = train_test_split(X_train_remaining, y_train_remaining, test_size=0.333, random_state=42)\n",
    "\n",
    "X_train3, X_train4, y_train3, y_train4 = train_test_split(X_train_remaining, y_train_remaining, test_size=0.5, random_state=42)\n",
    "\n",
    "# Train the machine learning model\n",
    "dt_classifier.fit(X_train1, y_train1)\n",
    "dt_classifier.fit(X_train2, y_train2)\n",
    "dt_classifier.fit(X_train3, y_train3)\n",
    "dt_classifier.fit(X_train4, y_train4)\n",
    "\n",
    "# Make predictions on the test set\n",
    "y_pred_more = dt_classifier.predict(X_test_more)\n",
    "\n",
    "# Evaluate the model\n",
    "accuracy = accuracy_score(y_test_more, y_pred_more)\n",
    "print(\"Accuracy on test data:\", accuracy)\n",
    "\n",
    "dt_classifier_accuracy = dt_classifier.score(X_valid, y_valid)\n",
    "print(f'{dt_classifier}: Accuracy on validation: {dt_classifier_accuracy:.4f}')\n",
    "\n",
    "\n",
    "# Get feature importances\n",
    "importances = dt_classifier.feature_importances_\n",
    "\n",
    "# Create a DataFrame to store feature importances\n",
    "feature_importance_df = pd.DataFrame({'Feature': X_train.columns, 'Importance': importances})\n",
    "feature_importance_df = feature_importance_df.sort_values(by='Importance', ascending=False)\n",
    "\n",
    "# Plot the feature importances\n",
    "plt.figure(figsize=(10, 6))\n",
    "plt.barh(feature_importance_df['Feature'], feature_importance_df['Importance'])\n",
    "plt.xlabel('Importance')\n",
    "plt.ylabel('Feature')\n",
    "plt.title('Feature Importances from Decision Tree Model')\n",
    "plt.show()\n",
    "\n",
    "# Display the feature importances\n",
    "print(feature_importance_df)"
   ],
   "metadata": {
    "collapsed": false,
    "ExecuteTime": {
     "end_time": "2024-04-15T17:36:22.205843Z",
     "start_time": "2024-04-15T17:36:22.165136Z"
    }
   },
   "id": "885be87573e09f55",
   "execution_count": 295
  },
  {
   "cell_type": "markdown",
   "source": [
    "# Fairness\n",
    "**In this section, the Fairness tools will be looked at**\n",
    "\n",
    "the category used for the fairness tools will be the severity of cancer. \n",
    "this category is called 'level' and is divided in low - medium - high. \n",
    "because Aequitas needs a binary variable low will be grouped as 0 and\n",
    "medium and high will be grouped together as 1. "
   ],
   "metadata": {
    "collapsed": false
   },
   "id": "6b18531984653a88"
  },
  {
   "cell_type": "code",
   "outputs": [
    {
     "ename": "NameError",
     "evalue": "name 'X_test' is not defined",
     "output_type": "error",
     "traceback": [
      "\u001B[0;31m---------------------------------------------------------------------------\u001B[0m",
      "\u001B[0;31mNameError\u001B[0m                                 Traceback (most recent call last)",
      "Cell \u001B[0;32mIn[296], line 2\u001B[0m\n\u001B[1;32m      1\u001B[0m \u001B[38;5;66;03m#Using the test data generated in the predictive approach, first take a look at the data\u001B[39;00m\n\u001B[0;32m----> 2\u001B[0m \u001B[38;5;28mprint\u001B[39m(\u001B[38;5;124mf\u001B[39m\u001B[38;5;124m'\u001B[39m\u001B[38;5;124m this is X_test:\u001B[39m\u001B[38;5;132;01m{\u001B[39;00mX_test\u001B[38;5;132;01m}\u001B[39;00m\u001B[38;5;124m'\u001B[39m)\n\u001B[1;32m      3\u001B[0m \u001B[38;5;28mprint\u001B[39m(\u001B[38;5;124mf\u001B[39m\u001B[38;5;124m'\u001B[39m\u001B[38;5;124m this is y_test: \u001B[39m\u001B[38;5;132;01m{\u001B[39;00my_test\u001B[38;5;132;01m}\u001B[39;00m\u001B[38;5;124m'\u001B[39m)\n\u001B[1;32m      4\u001B[0m \u001B[38;5;28mprint\u001B[39m(\u001B[38;5;124mf\u001B[39m\u001B[38;5;124m'\u001B[39m\u001B[38;5;124m this is y_pred: \u001B[39m\u001B[38;5;132;01m{\u001B[39;00my_pred\u001B[38;5;132;01m}\u001B[39;00m\u001B[38;5;124m'\u001B[39m)\n",
      "\u001B[0;31mNameError\u001B[0m: name 'X_test' is not defined"
     ]
    }
   ],
   "source": [
    "#Using the test data generated in the predictive approach, first take a look at the data\n",
    "print(f' this is X_test:{X_test}')\n",
    "print(f' this is y_test: {y_test}')\n",
    "print(f' this is y_pred: {y_pred}')"
   ],
   "metadata": {
    "collapsed": false,
    "ExecuteTime": {
     "end_time": "2024-04-15T17:36:22.389735Z",
     "start_time": "2024-04-15T17:36:22.373887Z"
    }
   },
   "id": "47e0a6dcfb82e74d",
   "execution_count": 296
  },
  {
   "cell_type": "code",
   "outputs": [
    {
     "ename": "NameError",
     "evalue": "name 'y_pred' is not defined",
     "output_type": "error",
     "traceback": [
      "\u001B[0;31m---------------------------------------------------------------------------\u001B[0m",
      "\u001B[0;31mNameError\u001B[0m                                 Traceback (most recent call last)",
      "Cell \u001B[0;32mIn[297], line 2\u001B[0m\n\u001B[1;32m      1\u001B[0m \u001B[38;5;66;03m#To be able to form one dataframe the types will be investigated\u001B[39;00m\n\u001B[0;32m----> 2\u001B[0m \u001B[38;5;28mprint\u001B[39m(\u001B[38;5;28mtype\u001B[39m(\u001B[43my_pred\u001B[49m))\n\u001B[1;32m      3\u001B[0m \u001B[38;5;28mprint\u001B[39m(\u001B[38;5;28mtype\u001B[39m(y_test))\n\u001B[1;32m      4\u001B[0m \u001B[38;5;28mprint\u001B[39m(\u001B[38;5;28mtype\u001B[39m(X_test))\n",
      "\u001B[0;31mNameError\u001B[0m: name 'y_pred' is not defined"
     ]
    }
   ],
   "source": [
    "#To be able to form one dataframe the types will be investigated\n",
    "print(type(y_pred))\n",
    "print(type(y_test))\n",
    "print(type(X_test))"
   ],
   "metadata": {
    "collapsed": false,
    "ExecuteTime": {
     "end_time": "2024-04-15T17:36:22.467142Z",
     "start_time": "2024-04-15T17:36:22.449748Z"
    }
   },
   "id": "4238e8c43880dca5",
   "execution_count": 297
  },
  {
   "cell_type": "code",
   "outputs": [
    {
     "ename": "NameError",
     "evalue": "name 'y_pred' is not defined",
     "output_type": "error",
     "traceback": [
      "\u001B[0;31m---------------------------------------------------------------------------\u001B[0m",
      "\u001B[0;31mNameError\u001B[0m                                 Traceback (most recent call last)",
      "Cell \u001B[0;32mIn[298], line 2\u001B[0m\n\u001B[1;32m      1\u001B[0m \u001B[38;5;66;03m#Also, to ensure that the rows have equal amounts in the dataframe and thus can align, the number of rows will be shown\u001B[39;00m\n\u001B[0;32m----> 2\u001B[0m num_rows \u001B[38;5;241m=\u001B[39m \u001B[38;5;28mlen\u001B[39m(\u001B[43my_pred\u001B[49m)\n\u001B[1;32m      3\u001B[0m \u001B[38;5;28mprint\u001B[39m(\u001B[38;5;124m\"\u001B[39m\u001B[38;5;124mNumber of rows:\u001B[39m\u001B[38;5;124m\"\u001B[39m, num_rows)\n\u001B[1;32m      5\u001B[0m num_rows \u001B[38;5;241m=\u001B[39m \u001B[38;5;28mlen\u001B[39m(y_test)\n",
      "\u001B[0;31mNameError\u001B[0m: name 'y_pred' is not defined"
     ]
    }
   ],
   "source": [
    "#Also, to ensure that the rows have equal amounts in the dataframe and thus can align, the number of rows will be shown\n",
    "num_rows = len(y_pred)\n",
    "print(\"Number of rows:\", num_rows)\n",
    "\n",
    "num_rows = len(y_test)\n",
    "print(\"Number of rows:\", num_rows)\n",
    "\n",
    "num_rows2 = len(X_test)\n",
    "print('Number of rows X_test:', num_rows2)"
   ],
   "metadata": {
    "collapsed": false,
    "ExecuteTime": {
     "end_time": "2024-04-15T17:36:22.704676Z",
     "start_time": "2024-04-15T17:36:22.687923Z"
    }
   },
   "id": "cc0b2f4203640ac3",
   "execution_count": 298
  },
  {
   "cell_type": "code",
   "outputs": [
    {
     "ename": "NameError",
     "evalue": "name 'X_test' is not defined",
     "output_type": "error",
     "traceback": [
      "\u001B[0;31m---------------------------------------------------------------------------\u001B[0m",
      "\u001B[0;31mNameError\u001B[0m                                 Traceback (most recent call last)",
      "Cell \u001B[0;32mIn[299], line 3\u001B[0m\n\u001B[1;32m      1\u001B[0m \u001B[38;5;66;03m# Here the y_test will be added to the X_test already existing dataframe\u001B[39;00m\n\u001B[1;32m      2\u001B[0m \u001B[38;5;66;03m# Extra check if the lengths match\u001B[39;00m\n\u001B[0;32m----> 3\u001B[0m \u001B[38;5;28;01mif\u001B[39;00m \u001B[38;5;28mlen\u001B[39m(\u001B[43mX_test\u001B[49m) \u001B[38;5;241m==\u001B[39m \u001B[38;5;28mlen\u001B[39m(y_test):\n\u001B[1;32m      4\u001B[0m     \u001B[38;5;66;03m# Add the Series as a new column to the DataFrame\u001B[39;00m\n\u001B[1;32m      5\u001B[0m     X_test[\u001B[38;5;124m'\u001B[39m\u001B[38;5;124my_test\u001B[39m\u001B[38;5;124m'\u001B[39m] \u001B[38;5;241m=\u001B[39m y_test\u001B[38;5;241m.\u001B[39mvalues\n\u001B[1;32m      6\u001B[0m     \u001B[38;5;66;03m# Print the DataFrame to verify the changes\u001B[39;00m\n",
      "\u001B[0;31mNameError\u001B[0m: name 'X_test' is not defined"
     ]
    }
   ],
   "source": [
    "# Here the y_test will be added to the X_test already existing dataframe\n",
    "# Extra check if the lengths match\n",
    "if len(X_test) == len(y_test):\n",
    "    # Add the Series as a new column to the DataFrame\n",
    "    X_test['y_test'] = y_test.values\n",
    "    # Print the DataFrame to verify the changes\n",
    "    print(X_test)\n",
    "else:\n",
    "    print(\"Lengths of DataFrame and Series do not match.\")"
   ],
   "metadata": {
    "collapsed": false,
    "ExecuteTime": {
     "end_time": "2024-04-15T17:36:22.792938Z",
     "start_time": "2024-04-15T17:36:22.774560Z"
    }
   },
   "id": "be313304ff43db4c",
   "execution_count": 299
  },
  {
   "cell_type": "code",
   "outputs": [
    {
     "ename": "NameError",
     "evalue": "name 'X_test' is not defined",
     "output_type": "error",
     "traceback": [
      "\u001B[0;31m---------------------------------------------------------------------------\u001B[0m",
      "\u001B[0;31mNameError\u001B[0m                                 Traceback (most recent call last)",
      "Cell \u001B[0;32mIn[300], line 3\u001B[0m\n\u001B[1;32m      1\u001B[0m \u001B[38;5;66;03m# Here the y_pred will be added to the X_test already existing dataframe\u001B[39;00m\n\u001B[1;32m      2\u001B[0m \u001B[38;5;66;03m# Check if the lengths match\u001B[39;00m\n\u001B[0;32m----> 3\u001B[0m \u001B[38;5;28;01mif\u001B[39;00m \u001B[38;5;28mlen\u001B[39m(\u001B[43mX_test\u001B[49m) \u001B[38;5;241m==\u001B[39m \u001B[38;5;28mlen\u001B[39m(y_pred):\n\u001B[1;32m      4\u001B[0m     \u001B[38;5;66;03m# Add the NumPy array as a new column to the DataFrame\u001B[39;00m\n\u001B[1;32m      5\u001B[0m     X_test[\u001B[38;5;124m'\u001B[39m\u001B[38;5;124my_pred\u001B[39m\u001B[38;5;124m'\u001B[39m] \u001B[38;5;241m=\u001B[39m y_pred\n\u001B[1;32m      6\u001B[0m     \u001B[38;5;66;03m# Print the DataFrame to verify the changes\u001B[39;00m\n",
      "\u001B[0;31mNameError\u001B[0m: name 'X_test' is not defined"
     ]
    }
   ],
   "source": [
    "# Here the y_pred will be added to the X_test already existing dataframe\n",
    "# Check if the lengths match\n",
    "if len(X_test) == len(y_pred):\n",
    "    # Add the NumPy array as a new column to the DataFrame\n",
    "    X_test['y_pred'] = y_pred\n",
    "    # Print the DataFrame to verify the changes\n",
    "    print(X_test)\n",
    "else:\n",
    "    print(\"Lengths of DataFrame and NumPy array do not match.\")"
   ],
   "metadata": {
    "collapsed": false,
    "ExecuteTime": {
     "end_time": "2024-04-15T17:36:22.980017Z",
     "start_time": "2024-04-15T17:36:22.963Z"
    }
   },
   "id": "293dc01476d3055a",
   "execution_count": 300
  },
  {
   "cell_type": "code",
   "outputs": [
    {
     "ename": "NameError",
     "evalue": "name 'X_test' is not defined",
     "output_type": "error",
     "traceback": [
      "\u001B[0;31m---------------------------------------------------------------------------\u001B[0m",
      "\u001B[0;31mNameError\u001B[0m                                 Traceback (most recent call last)",
      "Cell \u001B[0;32mIn[301], line 2\u001B[0m\n\u001B[1;32m      1\u001B[0m \u001B[38;5;66;03m# Rename the DataFrame\u001B[39;00m\n\u001B[0;32m----> 2\u001B[0m dfbias \u001B[38;5;241m=\u001B[39m \u001B[43mX_test\u001B[49m\u001B[38;5;241m.\u001B[39mcopy()\n\u001B[1;32m      4\u001B[0m \u001B[38;5;66;03m# Print the DataFrame to verify the changes\u001B[39;00m\n\u001B[1;32m      5\u001B[0m \u001B[38;5;28mprint\u001B[39m(dfbias)\n",
      "\u001B[0;31mNameError\u001B[0m: name 'X_test' is not defined"
     ]
    }
   ],
   "source": [
    "# Rename the DataFrame\n",
    "dfbias = X_test.copy()\n",
    "\n",
    "# Print the DataFrame to verify the changes\n",
    "print(dfbias)"
   ],
   "metadata": {
    "collapsed": false,
    "ExecuteTime": {
     "end_time": "2024-04-15T17:36:23.050314Z",
     "start_time": "2024-04-15T17:36:23.032496Z"
    }
   },
   "id": "1bad731c3c6e42a6",
   "execution_count": 301
  },
  {
   "cell_type": "code",
   "outputs": [
    {
     "ename": "NameError",
     "evalue": "name 'dfbias' is not defined",
     "output_type": "error",
     "traceback": [
      "\u001B[0;31m---------------------------------------------------------------------------\u001B[0m",
      "\u001B[0;31mNameError\u001B[0m                                 Traceback (most recent call last)",
      "Cell \u001B[0;32mIn[302], line 3\u001B[0m\n\u001B[1;32m      1\u001B[0m \u001B[38;5;66;03m#change the last columns name, the predictions column to 'Prediction'\u001B[39;00m\n\u001B[1;32m      2\u001B[0m \u001B[38;5;66;03m# Rename the column from '0' to 'Prediction'\u001B[39;00m\n\u001B[0;32m----> 3\u001B[0m dfbias \u001B[38;5;241m=\u001B[39m \u001B[43mdfbias\u001B[49m\u001B[38;5;241m.\u001B[39mrename(columns\u001B[38;5;241m=\u001B[39m{\u001B[38;5;124m'\u001B[39m\u001B[38;5;124my_pred\u001B[39m\u001B[38;5;124m'\u001B[39m: \u001B[38;5;124m'\u001B[39m\u001B[38;5;124mPrediction\u001B[39m\u001B[38;5;124m'\u001B[39m})\n\u001B[1;32m      5\u001B[0m \u001B[38;5;66;03m# Print the DataFrame with the renamed column\u001B[39;00m\n\u001B[1;32m      7\u001B[0m dfbias\n",
      "\u001B[0;31mNameError\u001B[0m: name 'dfbias' is not defined"
     ]
    }
   ],
   "source": [
    "#change the last columns name, the predictions column to 'Prediction'\n",
    "# Rename the column from '0' to 'Prediction'\n",
    "dfbias = dfbias.rename(columns={'y_pred': 'Prediction'})\n",
    "\n",
    "# Print the DataFrame with the renamed column\n",
    "\n",
    "dfbias"
   ],
   "metadata": {
    "collapsed": false,
    "ExecuteTime": {
     "end_time": "2024-04-15T17:36:23.357484Z",
     "start_time": "2024-04-15T17:36:23.334994Z"
    }
   },
   "id": "a0302c86fd0405b7",
   "execution_count": 302
  },
  {
   "cell_type": "code",
   "outputs": [
    {
     "ename": "NameError",
     "evalue": "name 'dfbias' is not defined",
     "output_type": "error",
     "traceback": [
      "\u001B[0;31m---------------------------------------------------------------------------\u001B[0m",
      "\u001B[0;31mNameError\u001B[0m                                 Traceback (most recent call last)",
      "Cell \u001B[0;32mIn[303], line 4\u001B[0m\n\u001B[1;32m      1\u001B[0m \u001B[38;5;66;03m#Possibly removing of rows with missing data\u001B[39;00m\n\u001B[1;32m      2\u001B[0m \n\u001B[1;32m      3\u001B[0m \u001B[38;5;66;03m# Remove rows with missing data (NaN values)\u001B[39;00m\n\u001B[0;32m----> 4\u001B[0m dfbias_clean \u001B[38;5;241m=\u001B[39m \u001B[43mdfbias\u001B[49m\u001B[38;5;241m.\u001B[39mdropna()\n\u001B[1;32m      6\u001B[0m \u001B[38;5;66;03m# Print the cleaned DataFrame\u001B[39;00m\n\u001B[1;32m      7\u001B[0m \u001B[38;5;28mprint\u001B[39m(dfbias_clean)\n",
      "\u001B[0;31mNameError\u001B[0m: name 'dfbias' is not defined"
     ]
    }
   ],
   "source": [
    "#Possibly removing of rows with missing data\n",
    "\n",
    "# Remove rows with missing data (NaN values)\n",
    "dfbias_clean = dfbias.dropna()\n",
    "\n",
    "# Print the cleaned DataFrame\n",
    "print(dfbias_clean)"
   ],
   "metadata": {
    "collapsed": false,
    "ExecuteTime": {
     "end_time": "2024-04-15T17:36:23.469652Z",
     "start_time": "2024-04-15T17:36:23.449118Z"
    }
   },
   "id": "79396e4b9b5a24d5",
   "execution_count": 303
  },
  {
   "cell_type": "markdown",
   "source": [
    "Now to decide what we use as sensitive data:\n",
    "\n",
    "The columns that will be used are:\n",
    "'Age', 'Gender', 'OccuPational Hazards', 'Weight Loss' and 'Level'"
   ],
   "metadata": {
    "collapsed": false
   },
   "id": "9c50a59ebd7d4fff"
  },
  {
   "cell_type": "code",
   "outputs": [
    {
     "ename": "NameError",
     "evalue": "name 'dfbias_clean' is not defined",
     "output_type": "error",
     "traceback": [
      "\u001B[0;31m---------------------------------------------------------------------------\u001B[0m",
      "\u001B[0;31mNameError\u001B[0m                                 Traceback (most recent call last)",
      "Cell \u001B[0;32mIn[304], line 4\u001B[0m\n\u001B[1;32m      1\u001B[0m \u001B[38;5;66;03m#Change 'y_test' column values of Low = 0 and Medium and High = 1\u001B[39;00m\n\u001B[1;32m      2\u001B[0m \n\u001B[1;32m      3\u001B[0m \u001B[38;5;66;03m#Make a copy of the dataframe\u001B[39;00m\n\u001B[0;32m----> 4\u001B[0m dfbias_clean_copy \u001B[38;5;241m=\u001B[39m \u001B[43mdfbias_clean\u001B[49m\u001B[38;5;241m.\u001B[39mcopy()\n\u001B[1;32m      6\u001B[0m \u001B[38;5;28mprint\u001B[39m(dfbias_clean_copy)\n\u001B[1;32m      8\u001B[0m mapping \u001B[38;5;241m=\u001B[39m {\u001B[38;5;124m'\u001B[39m\u001B[38;5;124mLow\u001B[39m\u001B[38;5;124m'\u001B[39m: \u001B[38;5;241m0\u001B[39m, \u001B[38;5;124m'\u001B[39m\u001B[38;5;124mMedium\u001B[39m\u001B[38;5;124m'\u001B[39m: \u001B[38;5;241m1\u001B[39m, \u001B[38;5;124m'\u001B[39m\u001B[38;5;124mHigh\u001B[39m\u001B[38;5;124m'\u001B[39m: \u001B[38;5;241m1\u001B[39m}\n",
      "\u001B[0;31mNameError\u001B[0m: name 'dfbias_clean' is not defined"
     ]
    }
   ],
   "source": [
    "#Change 'y_test' column values of Low = 0 and Medium and High = 1\n",
    "\n",
    "#Make a copy of the dataframe\n",
    "dfbias_clean_copy = dfbias_clean.copy()\n",
    "\n",
    "print(dfbias_clean_copy)\n",
    "\n",
    "mapping = {'Low': 0, 'Medium': 1, 'High': 1}\n",
    "\n",
    "# Replace values in the 'Level' column using the mapping dictionary\n",
    "dfbias_clean_copy['Prediction'] = dfbias_clean_copy['Prediction'].replace(mapping)\n",
    "\n",
    "# Print the DataFrame to verify the changes\n",
    "print(dfbias_clean_copy)"
   ],
   "metadata": {
    "collapsed": false,
    "ExecuteTime": {
     "end_time": "2024-04-15T17:36:23.686815Z",
     "start_time": "2024-04-15T17:36:23.662155Z"
    }
   },
   "id": "5f5052e03412a36f",
   "execution_count": 304
  },
  {
   "cell_type": "code",
   "outputs": [
    {
     "ename": "NameError",
     "evalue": "name 'dfbias_clean_copy' is not defined",
     "output_type": "error",
     "traceback": [
      "\u001B[0;31m---------------------------------------------------------------------------\u001B[0m",
      "\u001B[0;31mNameError\u001B[0m                                 Traceback (most recent call last)",
      "Cell \u001B[0;32mIn[305], line 4\u001B[0m\n\u001B[1;32m      1\u001B[0m \u001B[38;5;66;03m#First Age\u001B[39;00m\n\u001B[1;32m      2\u001B[0m \n\u001B[1;32m      3\u001B[0m \u001B[38;5;66;03m# Extract unique values \u001B[39;00m\n\u001B[0;32m----> 4\u001B[0m Age_values \u001B[38;5;241m=\u001B[39m \u001B[43mdfbias_clean_copy\u001B[49m[\u001B[38;5;124m'\u001B[39m\u001B[38;5;124mAge\u001B[39m\u001B[38;5;124m'\u001B[39m]\u001B[38;5;241m.\u001B[39munique()\n\u001B[1;32m      5\u001B[0m \u001B[38;5;66;03m#order the values \u001B[39;00m\n\u001B[1;32m      6\u001B[0m Age_values_sorted \u001B[38;5;241m=\u001B[39m \u001B[38;5;28msorted\u001B[39m(Age_values)\n",
      "\u001B[0;31mNameError\u001B[0m: name 'dfbias_clean_copy' is not defined"
     ]
    }
   ],
   "source": [
    "#First Age\n",
    "\n",
    "# Extract unique values \n",
    "Age_values = dfbias_clean_copy['Age'].unique()\n",
    "#order the values \n",
    "Age_values_sorted = sorted(Age_values)\n",
    "print(f\"The unique values of age are: {Age_values_sorted}\")\n",
    "\n",
    "# Adding labels and title\n",
    "plt.xlabel('Age')\n",
    "plt.ylabel('Count')\n",
    "plt.title('Distribution of Age in Cancer Data')\n",
    "\n",
    "# Plot with hue='Level'\n",
    "sns.countplot(x='Age', data=dfbias_clean_copy, hue='y_test')\n",
    "\n",
    "# Rotate x-axis labels for better readability\n",
    "plt.xticks(rotation=90)  # Adjust the rotation angle as needed\n",
    "# Show the plot\n",
    "plt.show()"
   ],
   "metadata": {
    "collapsed": false,
    "ExecuteTime": {
     "end_time": "2024-04-15T17:36:24.037750Z",
     "start_time": "2024-04-15T17:36:24.018449Z"
    }
   },
   "id": "6bd08b1aeb7fe610",
   "execution_count": 305
  },
  {
   "cell_type": "code",
   "outputs": [
    {
     "ename": "NameError",
     "evalue": "name 'dfbias_clean_copy' is not defined",
     "output_type": "error",
     "traceback": [
      "\u001B[0;31m---------------------------------------------------------------------------\u001B[0m",
      "\u001B[0;31mNameError\u001B[0m                                 Traceback (most recent call last)",
      "Cell \u001B[0;32mIn[306], line 4\u001B[0m\n\u001B[1;32m      1\u001B[0m \u001B[38;5;66;03m#Second Gender\u001B[39;00m\n\u001B[1;32m      2\u001B[0m \n\u001B[1;32m      3\u001B[0m \u001B[38;5;66;03m# Extract unique values \u001B[39;00m\n\u001B[0;32m----> 4\u001B[0m Gender_values \u001B[38;5;241m=\u001B[39m \u001B[43mdfbias_clean_copy\u001B[49m[\u001B[38;5;124m'\u001B[39m\u001B[38;5;124mGender\u001B[39m\u001B[38;5;124m'\u001B[39m]\u001B[38;5;241m.\u001B[39munique()\n\u001B[1;32m      5\u001B[0m Gender_values_sorted \u001B[38;5;241m=\u001B[39m \u001B[38;5;28msorted\u001B[39m(Gender_values)\n\u001B[1;32m      6\u001B[0m \u001B[38;5;28mprint\u001B[39m(\u001B[38;5;124mf\u001B[39m\u001B[38;5;124m\"\u001B[39m\u001B[38;5;124mThe unique values of gender are: \u001B[39m\u001B[38;5;132;01m{\u001B[39;00mGender_values_sorted\u001B[38;5;132;01m}\u001B[39;00m\u001B[38;5;124m\"\u001B[39m)\n",
      "\u001B[0;31mNameError\u001B[0m: name 'dfbias_clean_copy' is not defined"
     ]
    }
   ],
   "source": [
    "#Second Gender\n",
    "\n",
    "# Extract unique values \n",
    "Gender_values = dfbias_clean_copy['Gender'].unique()\n",
    "Gender_values_sorted = sorted(Gender_values)\n",
    "print(f\"The unique values of gender are: {Gender_values_sorted}\")\n",
    "\n",
    "# Adding labels and title\n",
    "plt.xlabel('Gender')\n",
    "plt.ylabel('Count')\n",
    "plt.title('Distribution of Gender in Cancer Data')\n",
    "\n",
    "# Plot with hue='Level'\n",
    "sns.countplot(x='Gender', data=dfbias_clean_copy, hue='y_test')\n",
    "\n",
    "# Rotate x-axis labels for better readability\n",
    "plt.xticks(rotation=45)  # Adjust the rotation angle as needed\n",
    "\n",
    "# Show the plot\n",
    "plt.show()"
   ],
   "metadata": {
    "collapsed": false,
    "ExecuteTime": {
     "end_time": "2024-04-15T17:36:24.130894Z",
     "start_time": "2024-04-15T17:36:24.112776Z"
    }
   },
   "id": "a820257ce4d2e1ff",
   "execution_count": 306
  },
  {
   "cell_type": "code",
   "outputs": [
    {
     "ename": "NameError",
     "evalue": "name 'dfbias_clean_copy' is not defined",
     "output_type": "error",
     "traceback": [
      "\u001B[0;31m---------------------------------------------------------------------------\u001B[0m",
      "\u001B[0;31mNameError\u001B[0m                                 Traceback (most recent call last)",
      "Cell \u001B[0;32mIn[307], line 3\u001B[0m\n\u001B[1;32m      1\u001B[0m \u001B[38;5;66;03m#Third OccuPational Hazards\u001B[39;00m\n\u001B[1;32m      2\u001B[0m \u001B[38;5;66;03m# Extract unique values \u001B[39;00m\n\u001B[0;32m----> 3\u001B[0m Occ_values \u001B[38;5;241m=\u001B[39m \u001B[43mdfbias_clean_copy\u001B[49m[\u001B[38;5;124m'\u001B[39m\u001B[38;5;124mOccuPational Hazards\u001B[39m\u001B[38;5;124m'\u001B[39m]\u001B[38;5;241m.\u001B[39munique()\n\u001B[1;32m      4\u001B[0m \u001B[38;5;66;03m#order the values \u001B[39;00m\n\u001B[1;32m      5\u001B[0m Occ_values_sorted \u001B[38;5;241m=\u001B[39m \u001B[38;5;28msorted\u001B[39m(Occ_values)\n",
      "\u001B[0;31mNameError\u001B[0m: name 'dfbias_clean_copy' is not defined"
     ]
    }
   ],
   "source": [
    "#Third OccuPational Hazards\n",
    "# Extract unique values \n",
    "Occ_values = dfbias_clean_copy['OccuPational Hazards'].unique()\n",
    "#order the values \n",
    "Occ_values_sorted = sorted(Occ_values)\n",
    "print(f\"The unique values of Occupational Hazards are: {Occ_values_sorted}\")\n",
    "\n",
    "# Adding labels and title\n",
    "plt.xlabel('Occ. Hazard')\n",
    "plt.ylabel('Count')\n",
    "plt.title('Distribution of Occupational Hazards in Cancer Data')\n",
    "\n",
    "# Plot with hue='Level'\n",
    "sns.countplot(x='OccuPational Hazards', data=dfbias_clean_copy, hue='y_test')\n",
    "\n",
    "# Rotate x-axis labels for better readability\n",
    "plt.xticks(rotation=45)  # Adjust the rotation angle as needed\n",
    "\n",
    "# Show the plot\n",
    "plt.show()"
   ],
   "metadata": {
    "collapsed": false,
    "ExecuteTime": {
     "end_time": "2024-04-15T17:36:24.344360Z",
     "start_time": "2024-04-15T17:36:24.326762Z"
    }
   },
   "id": "f5000396049ca529",
   "execution_count": 307
  },
  {
   "cell_type": "code",
   "outputs": [
    {
     "ename": "NameError",
     "evalue": "name 'dfbias_clean_copy' is not defined",
     "output_type": "error",
     "traceback": [
      "\u001B[0;31m---------------------------------------------------------------------------\u001B[0m",
      "\u001B[0;31mNameError\u001B[0m                                 Traceback (most recent call last)",
      "Cell \u001B[0;32mIn[308], line 3\u001B[0m\n\u001B[1;32m      1\u001B[0m \u001B[38;5;66;03m#Fourth Weight Loss\u001B[39;00m\n\u001B[0;32m----> 3\u001B[0m Weight_values \u001B[38;5;241m=\u001B[39m \u001B[43mdfbias_clean_copy\u001B[49m[\u001B[38;5;124m'\u001B[39m\u001B[38;5;124mWeight Loss\u001B[39m\u001B[38;5;124m'\u001B[39m]\u001B[38;5;241m.\u001B[39munique()\n\u001B[1;32m      4\u001B[0m \u001B[38;5;66;03m#order the values \u001B[39;00m\n\u001B[1;32m      5\u001B[0m Weight_values_sorted \u001B[38;5;241m=\u001B[39m \u001B[38;5;28msorted\u001B[39m(Weight_values)\n",
      "\u001B[0;31mNameError\u001B[0m: name 'dfbias_clean_copy' is not defined"
     ]
    }
   ],
   "source": [
    "#Fourth Weight Loss\n",
    "\n",
    "Weight_values = dfbias_clean_copy['Weight Loss'].unique()\n",
    "#order the values \n",
    "Weight_values_sorted = sorted(Weight_values)\n",
    "print(f\"The unique values of Weight are: {Weight_values_sorted}\")\n",
    "\n",
    "# Adding labels and title\n",
    "plt.xlabel('Weight')\n",
    "plt.ylabel('Count')\n",
    "plt.title('Distribution of Weight in Cancer Data')\n",
    "\n",
    "# Plot with hue='Level'\n",
    "sns.countplot(x='Weight Loss', data=dfbias_clean_copy, hue='y_test')\n",
    "\n",
    "# Rotate x-axis labels for better readability\n",
    "plt.xticks(rotation=45)  # Adjust the rotation angle as needed\n",
    "\n",
    "\n",
    "# Show the plot\n",
    "plt.show()\n"
   ],
   "metadata": {
    "collapsed": false,
    "ExecuteTime": {
     "end_time": "2024-04-15T17:36:24.455838Z",
     "start_time": "2024-04-15T17:36:24.434531Z"
    }
   },
   "id": "6f7fd306f2a710d2",
   "execution_count": 308
  },
  {
   "cell_type": "code",
   "outputs": [
    {
     "ename": "NameError",
     "evalue": "name 'dfbias_clean_copy' is not defined",
     "output_type": "error",
     "traceback": [
      "\u001B[0;31m---------------------------------------------------------------------------\u001B[0m",
      "\u001B[0;31mNameError\u001B[0m                                 Traceback (most recent call last)",
      "Cell \u001B[0;32mIn[309], line 6\u001B[0m\n\u001B[1;32m      1\u001B[0m \u001B[38;5;66;03m#change the column names from 'Predictive' to 'Score' and change the values of medium and high to 1, low to 0\u001B[39;00m\n\u001B[1;32m      2\u001B[0m \u001B[38;5;66;03m#change 'y_test' to 'label_value'\u001B[39;00m\n\u001B[1;32m      3\u001B[0m \n\u001B[1;32m      4\u001B[0m \u001B[38;5;66;03m# Change the column names\u001B[39;00m\n\u001B[1;32m      5\u001B[0m \u001B[38;5;66;03m# Rename the columns\u001B[39;00m\n\u001B[0;32m----> 6\u001B[0m \u001B[43mdfbias_clean_copy\u001B[49m\u001B[38;5;241m.\u001B[39mrename(columns\u001B[38;5;241m=\u001B[39m{\u001B[38;5;124m'\u001B[39m\u001B[38;5;124my_test\u001B[39m\u001B[38;5;124m'\u001B[39m: \u001B[38;5;124m'\u001B[39m\u001B[38;5;124mlabel_value\u001B[39m\u001B[38;5;124m'\u001B[39m, \u001B[38;5;124m'\u001B[39m\u001B[38;5;124mPrediction\u001B[39m\u001B[38;5;124m'\u001B[39m: \u001B[38;5;124m'\u001B[39m\u001B[38;5;124mscore\u001B[39m\u001B[38;5;124m'\u001B[39m}, inplace\u001B[38;5;241m=\u001B[39m\u001B[38;5;28;01mTrue\u001B[39;00m)\n\u001B[1;32m      8\u001B[0m \u001B[38;5;66;03m# Print the DataFrame to verify the changes\u001B[39;00m\n\u001B[1;32m      9\u001B[0m \u001B[38;5;28mprint\u001B[39m(dfbias_clean_copy)\n",
      "\u001B[0;31mNameError\u001B[0m: name 'dfbias_clean_copy' is not defined"
     ]
    }
   ],
   "source": [
    "#change the column names from 'Predictive' to 'Score' and change the values of medium and high to 1, low to 0\n",
    "#change 'y_test' to 'label_value'\n",
    "\n",
    "# Change the column names\n",
    "# Rename the columns\n",
    "dfbias_clean_copy.rename(columns={'y_test': 'label_value', 'Prediction': 'score'}, inplace=True)\n",
    "\n",
    "# Print the DataFrame to verify the changes\n",
    "print(dfbias_clean_copy)"
   ],
   "metadata": {
    "collapsed": false,
    "ExecuteTime": {
     "end_time": "2024-04-15T17:36:24.622709Z",
     "start_time": "2024-04-15T17:36:24.605422Z"
    }
   },
   "id": "c290f30ee729dfb0",
   "execution_count": 309
  },
  {
   "cell_type": "code",
   "outputs": [
    {
     "ename": "NameError",
     "evalue": "name 'dfbias_clean_copy' is not defined",
     "output_type": "error",
     "traceback": [
      "\u001B[0;31m---------------------------------------------------------------------------\u001B[0m",
      "\u001B[0;31mNameError\u001B[0m                                 Traceback (most recent call last)",
      "Cell \u001B[0;32mIn[310], line 7\u001B[0m\n\u001B[1;32m      4\u001B[0m mapping \u001B[38;5;241m=\u001B[39m {\u001B[38;5;124m'\u001B[39m\u001B[38;5;124mLow\u001B[39m\u001B[38;5;124m'\u001B[39m: \u001B[38;5;241m0\u001B[39m, \u001B[38;5;124m'\u001B[39m\u001B[38;5;124mMedium\u001B[39m\u001B[38;5;124m'\u001B[39m: \u001B[38;5;241m1\u001B[39m, \u001B[38;5;124m'\u001B[39m\u001B[38;5;124mHigh\u001B[39m\u001B[38;5;124m'\u001B[39m: \u001B[38;5;241m1\u001B[39m}\n\u001B[1;32m      6\u001B[0m \u001B[38;5;66;03m# Replace values in the 'score' column using the mapping dictionary\u001B[39;00m\n\u001B[0;32m----> 7\u001B[0m dfbias_clean_copy[\u001B[38;5;124m'\u001B[39m\u001B[38;5;124mscore\u001B[39m\u001B[38;5;124m'\u001B[39m] \u001B[38;5;241m=\u001B[39m \u001B[43mdfbias_clean_copy\u001B[49m[\u001B[38;5;124m'\u001B[39m\u001B[38;5;124mscore\u001B[39m\u001B[38;5;124m'\u001B[39m]\u001B[38;5;241m.\u001B[39mreplace(mapping)\n\u001B[1;32m      9\u001B[0m \u001B[38;5;66;03m# Print the DataFrame to verify the changes\u001B[39;00m\n\u001B[1;32m     10\u001B[0m \u001B[38;5;28mprint\u001B[39m(dfbias_clean_copy)\n",
      "\u001B[0;31mNameError\u001B[0m: name 'dfbias_clean_copy' is not defined"
     ]
    }
   ],
   "source": [
    "#Change the values of Low = 0 and Medium and High = 1, for the column score\n",
    "\n",
    "# Define the mapping dictionary\n",
    "mapping = {'Low': 0, 'Medium': 1, 'High': 1}\n",
    "\n",
    "# Replace values in the 'score' column using the mapping dictionary\n",
    "dfbias_clean_copy['score'] = dfbias_clean_copy['score'].replace(mapping)\n",
    "\n",
    "# Print the DataFrame to verify the changes\n",
    "print(dfbias_clean_copy)"
   ],
   "metadata": {
    "collapsed": false,
    "ExecuteTime": {
     "end_time": "2024-04-15T17:36:24.732655Z",
     "start_time": "2024-04-15T17:36:24.714881Z"
    }
   },
   "id": "1d1969c2075a031c",
   "execution_count": 310
  },
  {
   "cell_type": "code",
   "outputs": [],
   "source": [
    "#Next test it with the score and the label_value column"
   ],
   "metadata": {
    "collapsed": false,
    "ExecuteTime": {
     "end_time": "2024-04-15T17:36:24.875234Z",
     "start_time": "2024-04-15T17:36:24.871621Z"
    }
   },
   "id": "a71a0b12657d30f9",
   "execution_count": 311
  },
  {
   "cell_type": "code",
   "outputs": [
    {
     "ename": "NameError",
     "evalue": "name 'dfbias_clean_copy' is not defined",
     "output_type": "error",
     "traceback": [
      "\u001B[0;31m---------------------------------------------------------------------------\u001B[0m",
      "\u001B[0;31mNameError\u001B[0m                                 Traceback (most recent call last)",
      "Cell \u001B[0;32mIn[312], line 2\u001B[0m\n\u001B[1;32m      1\u001B[0m \u001B[38;5;66;03m# Create a copy of dfbias_clean_copy to work with\u001B[39;00m\n\u001B[0;32m----> 2\u001B[0m dfSTR \u001B[38;5;241m=\u001B[39m \u001B[43mdfbias_clean_copy\u001B[49m\u001B[38;5;241m.\u001B[39mcopy()\n\u001B[1;32m      4\u001B[0m \u001B[38;5;66;03m# List of columns to exclude from conversion\u001B[39;00m\n\u001B[1;32m      5\u001B[0m exclude_columns \u001B[38;5;241m=\u001B[39m [\u001B[38;5;124m'\u001B[39m\u001B[38;5;124mlabel_value\u001B[39m\u001B[38;5;124m'\u001B[39m, \u001B[38;5;124m'\u001B[39m\u001B[38;5;124mscore\u001B[39m\u001B[38;5;124m'\u001B[39m]\n",
      "\u001B[0;31mNameError\u001B[0m: name 'dfbias_clean_copy' is not defined"
     ]
    }
   ],
   "source": [
    "# Create a copy of dfbias_clean_copy to work with\n",
    "dfSTR = dfbias_clean_copy.copy()\n",
    "\n",
    "# List of columns to exclude from conversion\n",
    "exclude_columns = ['label_value', 'score']\n",
    "\n",
    "# Convert all columns except 'label_value' and 'score' to string type (To make sure it is compatible)\n",
    "for column in dfSTR.columns:\n",
    "    if column not in exclude_columns:\n",
    "        dfSTR[column] = dfSTR[column].astype(str)\n",
    "\n",
    "# Print the new DataFrame dfSTR\n",
    "print(dfSTR.dtypes)"
   ],
   "metadata": {
    "collapsed": false,
    "ExecuteTime": {
     "end_time": "2024-04-15T17:36:25.103928Z",
     "start_time": "2024-04-15T17:36:25.085646Z"
    }
   },
   "id": "abd774b7d6e20595",
   "execution_count": 312
  },
  {
   "cell_type": "code",
   "outputs": [
    {
     "ename": "NameError",
     "evalue": "name 'Group' is not defined",
     "output_type": "error",
     "traceback": [
      "\u001B[0;31m---------------------------------------------------------------------------\u001B[0m",
      "\u001B[0;31mNameError\u001B[0m                                 Traceback (most recent call last)",
      "Cell \u001B[0;32mIn[313], line 1\u001B[0m\n\u001B[0;32m----> 1\u001B[0m group \u001B[38;5;241m=\u001B[39m \u001B[43mGroup\u001B[49m()\n\u001B[1;32m      2\u001B[0m xtab, _ \u001B[38;5;241m=\u001B[39m group\u001B[38;5;241m.\u001B[39mget_crosstabs(dfSTR)\n",
      "\u001B[0;31mNameError\u001B[0m: name 'Group' is not defined"
     ]
    }
   ],
   "source": [
    "group = Group()\n",
    "xtab, _ = group.get_crosstabs(dfSTR)"
   ],
   "metadata": {
    "collapsed": false,
    "ExecuteTime": {
     "end_time": "2024-04-15T17:36:25.198784Z",
     "start_time": "2024-04-15T17:36:25.182198Z"
    }
   },
   "id": "a9777b87030d2c9a",
   "execution_count": 313
  },
  {
   "cell_type": "code",
   "outputs": [
    {
     "ename": "NameError",
     "evalue": "name 'group' is not defined",
     "output_type": "error",
     "traceback": [
      "\u001B[0;31m---------------------------------------------------------------------------\u001B[0m",
      "\u001B[0;31mNameError\u001B[0m                                 Traceback (most recent call last)",
      "Cell \u001B[0;32mIn[314], line 1\u001B[0m\n\u001B[0;32m----> 1\u001B[0m absolute_metrics \u001B[38;5;241m=\u001B[39m \u001B[43mgroup\u001B[49m\u001B[38;5;241m.\u001B[39mlist_absolute_metrics(xtab)\n",
      "\u001B[0;31mNameError\u001B[0m: name 'group' is not defined"
     ]
    }
   ],
   "source": [
    "absolute_metrics = group.list_absolute_metrics(xtab)"
   ],
   "metadata": {
    "collapsed": false,
    "ExecuteTime": {
     "end_time": "2024-04-15T17:36:25.361076Z",
     "start_time": "2024-04-15T17:36:25.345779Z"
    }
   },
   "id": "1bd63e8c851b02f9",
   "execution_count": 314
  },
  {
   "cell_type": "code",
   "outputs": [
    {
     "ename": "NameError",
     "evalue": "name 'xtab' is not defined",
     "output_type": "error",
     "traceback": [
      "\u001B[0;31m---------------------------------------------------------------------------\u001B[0m",
      "\u001B[0;31mNameError\u001B[0m                                 Traceback (most recent call last)",
      "Cell \u001B[0;32mIn[315], line 1\u001B[0m\n\u001B[0;32m----> 1\u001B[0m \u001B[43mxtab\u001B[49m[[col \u001B[38;5;28;01mfor\u001B[39;00m col \u001B[38;5;129;01min\u001B[39;00m xtab\u001B[38;5;241m.\u001B[39mcolumns \u001B[38;5;28;01mif\u001B[39;00m col \u001B[38;5;129;01mnot\u001B[39;00m \u001B[38;5;129;01min\u001B[39;00m absolute_metrics]]\n",
      "\u001B[0;31mNameError\u001B[0m: name 'xtab' is not defined"
     ]
    }
   ],
   "source": [
    "xtab[[col for col in xtab.columns if col not in absolute_metrics]]"
   ],
   "metadata": {
    "collapsed": false,
    "ExecuteTime": {
     "end_time": "2024-04-15T17:36:25.493263Z",
     "start_time": "2024-04-15T17:36:25.476984Z"
    }
   },
   "id": "5f49f455b5ada08b",
   "execution_count": 315
  },
  {
   "cell_type": "code",
   "outputs": [
    {
     "ename": "NameError",
     "evalue": "name 'xtab' is not defined",
     "output_type": "error",
     "traceback": [
      "\u001B[0;31m---------------------------------------------------------------------------\u001B[0m",
      "\u001B[0;31mNameError\u001B[0m                                 Traceback (most recent call last)",
      "Cell \u001B[0;32mIn[316], line 1\u001B[0m\n\u001B[0;32m----> 1\u001B[0m \u001B[43mxtab\u001B[49m[[\u001B[38;5;124m'\u001B[39m\u001B[38;5;124mattribute_name\u001B[39m\u001B[38;5;124m'\u001B[39m, \u001B[38;5;124m'\u001B[39m\u001B[38;5;124mattribute_value\u001B[39m\u001B[38;5;124m'\u001B[39m] \u001B[38;5;241m+\u001B[39m absolute_metrics]\u001B[38;5;241m.\u001B[39mround(\u001B[38;5;241m2\u001B[39m)\n",
      "\u001B[0;31mNameError\u001B[0m: name 'xtab' is not defined"
     ]
    }
   ],
   "source": [
    "xtab[['attribute_name', 'attribute_value'] + absolute_metrics].round(2)"
   ],
   "metadata": {
    "collapsed": false,
    "ExecuteTime": {
     "end_time": "2024-04-15T17:36:25.621786Z",
     "start_time": "2024-04-15T17:36:25.604827Z"
    }
   },
   "id": "8514bf711923187d",
   "execution_count": 316
  },
  {
   "cell_type": "code",
   "outputs": [
    {
     "ename": "NameError",
     "evalue": "name 'dfbias_clean_copy' is not defined",
     "output_type": "error",
     "traceback": [
      "\u001B[0;31m---------------------------------------------------------------------------\u001B[0m",
      "\u001B[0;31mNameError\u001B[0m                                 Traceback (most recent call last)",
      "Cell \u001B[0;32mIn[317], line 5\u001B[0m\n\u001B[1;32m      1\u001B[0m \u001B[38;5;66;03m# Since almost everything is in levels of 8, there will be categories made per attribute. These will be in the form of low, medium, high, where low will be the categories 1,2,3 medium 3, 4, 5 and high 6, 7, 8 \u001B[39;00m\n\u001B[1;32m      2\u001B[0m \n\u001B[1;32m      3\u001B[0m \u001B[38;5;66;03m#create a new dataframe a copy of the previous one to make categories, using df bias_clean_copy because here the types are still integers\u001B[39;00m\n\u001B[1;32m      4\u001B[0m \u001B[38;5;66;03m#show types\u001B[39;00m\n\u001B[0;32m----> 5\u001B[0m \u001B[38;5;28mprint\u001B[39m(\u001B[43mdfbias_clean_copy\u001B[49m\u001B[38;5;241m.\u001B[39mdtypes)\n\u001B[1;32m      7\u001B[0m \u001B[38;5;66;03m#create a new dataframe\u001B[39;00m\n\u001B[1;32m      8\u001B[0m catdf \u001B[38;5;241m=\u001B[39m dfbias_clean_copy\u001B[38;5;241m.\u001B[39mcopy()\n",
      "\u001B[0;31mNameError\u001B[0m: name 'dfbias_clean_copy' is not defined"
     ]
    }
   ],
   "source": [
    "# Since almost everything is in levels of 8, there will be categories made per attribute. These will be in the form of low, medium, high, where low will be the categories 1,2,3 medium 3, 4, 5 and high 6, 7, 8 \n",
    "\n",
    "#create a new dataframe a copy of the previous one to make categories, using df bias_clean_copy because here the types are still integers\n",
    "#show types\n",
    "print(dfbias_clean_copy.dtypes)\n",
    "\n",
    "#create a new dataframe\n",
    "catdf = dfbias_clean_copy.copy()\n",
    "catdf"
   ],
   "metadata": {
    "collapsed": false,
    "ExecuteTime": {
     "end_time": "2024-04-15T17:36:25.787017Z",
     "start_time": "2024-04-15T17:36:25.769026Z"
    }
   },
   "id": "38665e17a6c54383",
   "execution_count": 317
  },
  {
   "cell_type": "code",
   "outputs": [
    {
     "ename": "NameError",
     "evalue": "name 'catdf' is not defined",
     "output_type": "error",
     "traceback": [
      "\u001B[0;31m---------------------------------------------------------------------------\u001B[0m",
      "\u001B[0;31mNameError\u001B[0m                                 Traceback (most recent call last)",
      "Cell \u001B[0;32mIn[318], line 3\u001B[0m\n\u001B[1;32m      1\u001B[0m \u001B[38;5;66;03m#As mentioned before, not all columns will be used for this analysis, therefore other columns have to be dropped, the columns that will stay are, Age, Gender, OccuPational Hazards and Weight Loss\u001B[39;00m\n\u001B[0;32m----> 3\u001B[0m \u001B[43mcatdf\u001B[49m\u001B[38;5;241m.\u001B[39mdrop(columns\u001B[38;5;241m=\u001B[39m[\u001B[38;5;124m'\u001B[39m\u001B[38;5;124mAir Pollution\u001B[39m\u001B[38;5;124m'\u001B[39m, \u001B[38;5;124m'\u001B[39m\u001B[38;5;124mAlcohol use\u001B[39m\u001B[38;5;124m'\u001B[39m, \u001B[38;5;124m'\u001B[39m\u001B[38;5;124mDust Allergy\u001B[39m\u001B[38;5;124m'\u001B[39m, \u001B[38;5;124m'\u001B[39m\u001B[38;5;124mGenetic Risk\u001B[39m\u001B[38;5;124m'\u001B[39m, \u001B[38;5;124m'\u001B[39m\u001B[38;5;124mchronic Lung Disease\u001B[39m\u001B[38;5;124m'\u001B[39m, \u001B[38;5;124m'\u001B[39m\u001B[38;5;124mBalanced Diet\u001B[39m\u001B[38;5;124m'\u001B[39m, \u001B[38;5;124m'\u001B[39m\u001B[38;5;124mObesity\u001B[39m\u001B[38;5;124m'\u001B[39m, \u001B[38;5;124m'\u001B[39m\u001B[38;5;124mSmoking\u001B[39m\u001B[38;5;124m'\u001B[39m, \u001B[38;5;124m'\u001B[39m\u001B[38;5;124mPassive Smoker\u001B[39m\u001B[38;5;124m'\u001B[39m, \u001B[38;5;124m'\u001B[39m\u001B[38;5;124mChest Pain\u001B[39m\u001B[38;5;124m'\u001B[39m, \u001B[38;5;124m'\u001B[39m\u001B[38;5;124mCoughing of Blood\u001B[39m\u001B[38;5;124m'\u001B[39m, \u001B[38;5;124m'\u001B[39m\u001B[38;5;124mFatigue\u001B[39m\u001B[38;5;124m'\u001B[39m, \u001B[38;5;124m'\u001B[39m\u001B[38;5;124mShortness of Breath\u001B[39m\u001B[38;5;124m'\u001B[39m, \u001B[38;5;124m'\u001B[39m\u001B[38;5;124mWheezing\u001B[39m\u001B[38;5;124m'\u001B[39m, \u001B[38;5;124m'\u001B[39m\u001B[38;5;124mSwallowing Difficulty\u001B[39m\u001B[38;5;124m'\u001B[39m, \u001B[38;5;124m'\u001B[39m\u001B[38;5;124mClubbing of Finger Nails\u001B[39m\u001B[38;5;124m'\u001B[39m, \u001B[38;5;124m'\u001B[39m\u001B[38;5;124mFrequent Cold\u001B[39m\u001B[38;5;124m'\u001B[39m, \u001B[38;5;124m'\u001B[39m\u001B[38;5;124mDry Cough\u001B[39m\u001B[38;5;124m'\u001B[39m, \u001B[38;5;124m'\u001B[39m\u001B[38;5;124mSnoring\u001B[39m\u001B[38;5;124m'\u001B[39m, ], inplace\u001B[38;5;241m=\u001B[39m\u001B[38;5;28;01mTrue\u001B[39;00m)\n\u001B[1;32m      5\u001B[0m \u001B[38;5;28mprint\u001B[39m(catdf)\n",
      "\u001B[0;31mNameError\u001B[0m: name 'catdf' is not defined"
     ]
    }
   ],
   "source": [
    "#As mentioned before, not all columns will be used for this analysis, therefore other columns have to be dropped, the columns that will stay are, Age, Gender, OccuPational Hazards and Weight Loss\n",
    "\n",
    "catdf.drop(columns=['Air Pollution', 'Alcohol use', 'Dust Allergy', 'Genetic Risk', 'chronic Lung Disease', 'Balanced Diet', 'Obesity', 'Smoking', 'Passive Smoker', 'Chest Pain', 'Coughing of Blood', 'Fatigue', 'Shortness of Breath', 'Wheezing', 'Swallowing Difficulty', 'Clubbing of Finger Nails', 'Frequent Cold', 'Dry Cough', 'Snoring', ], inplace=True)\n",
    "\n",
    "print(catdf)"
   ],
   "metadata": {
    "collapsed": false,
    "ExecuteTime": {
     "end_time": "2024-04-15T17:36:25.887068Z",
     "start_time": "2024-04-15T17:36:25.868775Z"
    }
   },
   "id": "d7baac504194b2cd",
   "execution_count": 318
  },
  {
   "cell_type": "code",
   "outputs": [
    {
     "ename": "NameError",
     "evalue": "name 'catdf' is not defined",
     "output_type": "error",
     "traceback": [
      "\u001B[0;31m---------------------------------------------------------------------------\u001B[0m",
      "\u001B[0;31mNameError\u001B[0m                                 Traceback (most recent call last)",
      "Cell \u001B[0;32mIn[319], line 2\u001B[0m\n\u001B[1;32m      1\u001B[0m \u001B[38;5;66;03m# Find the minimum values of all columns\u001B[39;00m\n\u001B[0;32m----> 2\u001B[0m min_values \u001B[38;5;241m=\u001B[39m \u001B[43mcatdf\u001B[49m\u001B[38;5;241m.\u001B[39mmin()\n\u001B[1;32m      4\u001B[0m \u001B[38;5;66;03m# Find the maximum values of all columns\u001B[39;00m\n\u001B[1;32m      5\u001B[0m max_values \u001B[38;5;241m=\u001B[39m catdf\u001B[38;5;241m.\u001B[39mmax()\n",
      "\u001B[0;31mNameError\u001B[0m: name 'catdf' is not defined"
     ]
    }
   ],
   "source": [
    "# Find the minimum values of all columns\n",
    "min_values = catdf.min()\n",
    "\n",
    "# Find the maximum values of all columns\n",
    "max_values = catdf.max()\n",
    "\n",
    "# Print the minimum and maximum values of all columns\n",
    "print(\"Minimum values:\")\n",
    "print(min_values)\n",
    "print(\"Maximum values:\")\n",
    "print(max_values)\n"
   ],
   "metadata": {
    "collapsed": false,
    "ExecuteTime": {
     "end_time": "2024-04-15T17:36:26.041876Z",
     "start_time": "2024-04-15T17:36:26.025275Z"
    }
   },
   "id": "b893d9836322f49d",
   "execution_count": 319
  },
  {
   "cell_type": "code",
   "outputs": [
    {
     "ename": "NameError",
     "evalue": "name 'pd' is not defined",
     "output_type": "error",
     "traceback": [
      "\u001B[0;31m---------------------------------------------------------------------------\u001B[0m",
      "\u001B[0;31mNameError\u001B[0m                                 Traceback (most recent call last)",
      "Cell \u001B[0;32mIn[320], line 6\u001B[0m\n\u001B[1;32m      3\u001B[0m labels \u001B[38;5;241m=\u001B[39m [\u001B[38;5;124m'\u001B[39m\u001B[38;5;124mLowAge\u001B[39m\u001B[38;5;124m'\u001B[39m, \u001B[38;5;124m'\u001B[39m\u001B[38;5;124mMediumAge\u001B[39m\u001B[38;5;124m'\u001B[39m, \u001B[38;5;124m'\u001B[39m\u001B[38;5;124mHighAge\u001B[39m\u001B[38;5;124m'\u001B[39m]\n\u001B[1;32m      5\u001B[0m \u001B[38;5;66;03m# Use pd.cut() to categorize the ages into bins\u001B[39;00m\n\u001B[0;32m----> 6\u001B[0m catdf[\u001B[38;5;124m'\u001B[39m\u001B[38;5;124mAge_Category\u001B[39m\u001B[38;5;124m'\u001B[39m] \u001B[38;5;241m=\u001B[39m \u001B[43mpd\u001B[49m\u001B[38;5;241m.\u001B[39mcut(catdf[\u001B[38;5;124m'\u001B[39m\u001B[38;5;124mAge\u001B[39m\u001B[38;5;124m'\u001B[39m], bins\u001B[38;5;241m=\u001B[39mbins, labels\u001B[38;5;241m=\u001B[39mlabels, right\u001B[38;5;241m=\u001B[39m\u001B[38;5;28;01mFalse\u001B[39;00m)\n\u001B[1;32m      8\u001B[0m \u001B[38;5;66;03m#and remove the Age column\u001B[39;00m\n\u001B[1;32m      9\u001B[0m catdf\u001B[38;5;241m.\u001B[39mdrop(columns\u001B[38;5;241m=\u001B[39m[\u001B[38;5;124m'\u001B[39m\u001B[38;5;124mAge\u001B[39m\u001B[38;5;124m'\u001B[39m], inplace\u001B[38;5;241m=\u001B[39m\u001B[38;5;28;01mTrue\u001B[39;00m)\n",
      "\u001B[0;31mNameError\u001B[0m: name 'pd' is not defined"
     ]
    }
   ],
   "source": [
    "# Define the bins and labels for the Age column, create 3 categories for ages below 33, between 33 and 44 and higher than 44, respectively in 'LowAge', 'MediumAge', 'HighAge'\n",
    "bins = [-float('inf'), 33, 44, float('inf')]\n",
    "labels = ['LowAge', 'MediumAge', 'HighAge']\n",
    "\n",
    "# Use pd.cut() to categorize the ages into bins\n",
    "catdf['Age_Category'] = pd.cut(catdf['Age'], bins=bins, labels=labels, right=False)\n",
    "\n",
    "#and remove the Age column\n",
    "catdf.drop(columns=['Age'], inplace=True)\n",
    "\n",
    "# Print the DataFrame to verify the changes\n",
    "print(catdf)"
   ],
   "metadata": {
    "collapsed": false,
    "ExecuteTime": {
     "end_time": "2024-04-15T17:36:26.250953Z",
     "start_time": "2024-04-15T17:36:26.232613Z"
    }
   },
   "id": "8d8b947287fbaa7e",
   "execution_count": 320
  },
  {
   "cell_type": "code",
   "outputs": [
    {
     "ename": "NameError",
     "evalue": "name 'catdf' is not defined",
     "output_type": "error",
     "traceback": [
      "\u001B[0;31m---------------------------------------------------------------------------\u001B[0m",
      "\u001B[0;31mNameError\u001B[0m                                 Traceback (most recent call last)",
      "Cell \u001B[0;32mIn[321], line 7\u001B[0m\n\u001B[1;32m      2\u001B[0m mapping \u001B[38;5;241m=\u001B[39m {\u001B[38;5;241m1\u001B[39m: \u001B[38;5;124m'\u001B[39m\u001B[38;5;124mLowOHaz\u001B[39m\u001B[38;5;124m'\u001B[39m, \u001B[38;5;241m2\u001B[39m: \u001B[38;5;124m'\u001B[39m\u001B[38;5;124mLowOHaz\u001B[39m\u001B[38;5;124m'\u001B[39m, \u001B[38;5;241m3\u001B[39m: \u001B[38;5;124m'\u001B[39m\u001B[38;5;124mLowOHaz\u001B[39m\u001B[38;5;124m'\u001B[39m,\n\u001B[1;32m      3\u001B[0m            \u001B[38;5;241m4\u001B[39m: \u001B[38;5;124m'\u001B[39m\u001B[38;5;124mMedOHaz\u001B[39m\u001B[38;5;124m'\u001B[39m, \u001B[38;5;241m5\u001B[39m: \u001B[38;5;124m'\u001B[39m\u001B[38;5;124mMedOHaz\u001B[39m\u001B[38;5;124m'\u001B[39m,\n\u001B[1;32m      4\u001B[0m            \u001B[38;5;241m6\u001B[39m: \u001B[38;5;124m'\u001B[39m\u001B[38;5;124mHighOHaz\u001B[39m\u001B[38;5;124m'\u001B[39m, \u001B[38;5;241m7\u001B[39m: \u001B[38;5;124m'\u001B[39m\u001B[38;5;124mHighOHaz\u001B[39m\u001B[38;5;124m'\u001B[39m, \u001B[38;5;241m8\u001B[39m: \u001B[38;5;124m'\u001B[39m\u001B[38;5;124mHighOHaz\u001B[39m\u001B[38;5;124m'\u001B[39m}\n\u001B[1;32m      6\u001B[0m \u001B[38;5;66;03m# Replace values in the 'Occupational Hazards' column using the mapping dictionary\u001B[39;00m\n\u001B[0;32m----> 7\u001B[0m catdf[\u001B[38;5;124m'\u001B[39m\u001B[38;5;124mOccuPational Hazards\u001B[39m\u001B[38;5;124m'\u001B[39m] \u001B[38;5;241m=\u001B[39m \u001B[43mcatdf\u001B[49m[\u001B[38;5;124m'\u001B[39m\u001B[38;5;124mOccuPational Hazards\u001B[39m\u001B[38;5;124m'\u001B[39m]\u001B[38;5;241m.\u001B[39mreplace(mapping)\n\u001B[1;32m      9\u001B[0m \u001B[38;5;66;03m# Print the DataFrame to verify the changes\u001B[39;00m\n\u001B[1;32m     10\u001B[0m \u001B[38;5;28mprint\u001B[39m(catdf)\n",
      "\u001B[0;31mNameError\u001B[0m: name 'catdf' is not defined"
     ]
    }
   ],
   "source": [
    "# Define the mapping dictionary\n",
    "mapping = {1: 'LowOHaz', 2: 'LowOHaz', 3: 'LowOHaz',\n",
    "           4: 'MedOHaz', 5: 'MedOHaz',\n",
    "           6: 'HighOHaz', 7: 'HighOHaz', 8: 'HighOHaz'}\n",
    "\n",
    "# Replace values in the 'Occupational Hazards' column using the mapping dictionary\n",
    "catdf['OccuPational Hazards'] = catdf['OccuPational Hazards'].replace(mapping)\n",
    "\n",
    "# Print the DataFrame to verify the changes\n",
    "print(catdf)"
   ],
   "metadata": {
    "collapsed": false,
    "ExecuteTime": {
     "end_time": "2024-04-15T17:36:26.359223Z",
     "start_time": "2024-04-15T17:36:26.341125Z"
    }
   },
   "id": "3b2f38baaf9e7793",
   "execution_count": 321
  },
  {
   "cell_type": "code",
   "outputs": [
    {
     "ename": "NameError",
     "evalue": "name 'catdf' is not defined",
     "output_type": "error",
     "traceback": [
      "\u001B[0;31m---------------------------------------------------------------------------\u001B[0m",
      "\u001B[0;31mNameError\u001B[0m                                 Traceback (most recent call last)",
      "Cell \u001B[0;32mIn[322], line 7\u001B[0m\n\u001B[1;32m      2\u001B[0m mappingWeight \u001B[38;5;241m=\u001B[39m {\u001B[38;5;241m1\u001B[39m: \u001B[38;5;124m'\u001B[39m\u001B[38;5;124mLowWeightLoss\u001B[39m\u001B[38;5;124m'\u001B[39m, \u001B[38;5;241m2\u001B[39m: \u001B[38;5;124m'\u001B[39m\u001B[38;5;124mLowWeightLoss\u001B[39m\u001B[38;5;124m'\u001B[39m, \u001B[38;5;241m3\u001B[39m: \u001B[38;5;124m'\u001B[39m\u001B[38;5;124mLowWeightLoss\u001B[39m\u001B[38;5;124m'\u001B[39m,\n\u001B[1;32m      3\u001B[0m            \u001B[38;5;241m4\u001B[39m: \u001B[38;5;124m'\u001B[39m\u001B[38;5;124mMedWeightLoss\u001B[39m\u001B[38;5;124m'\u001B[39m, \u001B[38;5;241m5\u001B[39m: \u001B[38;5;124m'\u001B[39m\u001B[38;5;124mMedWeightLoss\u001B[39m\u001B[38;5;124m'\u001B[39m,\n\u001B[1;32m      4\u001B[0m            \u001B[38;5;241m6\u001B[39m: \u001B[38;5;124m'\u001B[39m\u001B[38;5;124mHighWeightLoss\u001B[39m\u001B[38;5;124m'\u001B[39m, \u001B[38;5;241m7\u001B[39m: \u001B[38;5;124m'\u001B[39m\u001B[38;5;124mHighWeightLoss\u001B[39m\u001B[38;5;124m'\u001B[39m, \u001B[38;5;241m8\u001B[39m: \u001B[38;5;124m'\u001B[39m\u001B[38;5;124mHighWeightLoss\u001B[39m\u001B[38;5;124m'\u001B[39m}\n\u001B[1;32m      6\u001B[0m \u001B[38;5;66;03m# Replace values in the 'Occupational Hazards' column using the mapping dictionary\u001B[39;00m\n\u001B[0;32m----> 7\u001B[0m catdf[\u001B[38;5;124m'\u001B[39m\u001B[38;5;124mWeight Loss\u001B[39m\u001B[38;5;124m'\u001B[39m] \u001B[38;5;241m=\u001B[39m \u001B[43mcatdf\u001B[49m[\u001B[38;5;124m'\u001B[39m\u001B[38;5;124mWeight Loss\u001B[39m\u001B[38;5;124m'\u001B[39m]\u001B[38;5;241m.\u001B[39mreplace(mappingWeight)\n\u001B[1;32m      9\u001B[0m \u001B[38;5;66;03m# Print the DataFrame to verify the changes\u001B[39;00m\n\u001B[1;32m     10\u001B[0m \u001B[38;5;28mprint\u001B[39m(catdf)\n",
      "\u001B[0;31mNameError\u001B[0m: name 'catdf' is not defined"
     ]
    }
   ],
   "source": [
    "# Define the mapping dictionary\n",
    "mappingWeight = {1: 'LowWeightLoss', 2: 'LowWeightLoss', 3: 'LowWeightLoss',\n",
    "           4: 'MedWeightLoss', 5: 'MedWeightLoss',\n",
    "           6: 'HighWeightLoss', 7: 'HighWeightLoss', 8: 'HighWeightLoss'}\n",
    "\n",
    "# Replace values in the 'Occupational Hazards' column using the mapping dictionary\n",
    "catdf['Weight Loss'] = catdf['Weight Loss'].replace(mappingWeight)\n",
    "\n",
    "# Print the DataFrame to verify the changes\n",
    "print(catdf)"
   ],
   "metadata": {
    "collapsed": false,
    "ExecuteTime": {
     "end_time": "2024-04-15T17:36:26.512902Z",
     "start_time": "2024-04-15T17:36:26.495512Z"
    }
   },
   "id": "18cbb52e2d428395",
   "execution_count": 322
  },
  {
   "cell_type": "code",
   "outputs": [
    {
     "ename": "NameError",
     "evalue": "name 'catdf' is not defined",
     "output_type": "error",
     "traceback": [
      "\u001B[0;31m---------------------------------------------------------------------------\u001B[0m",
      "\u001B[0;31mNameError\u001B[0m                                 Traceback (most recent call last)",
      "Cell \u001B[0;32mIn[323], line 2\u001B[0m\n\u001B[1;32m      1\u001B[0m \u001B[38;5;66;03m#Check the types of the dataframe\u001B[39;00m\n\u001B[0;32m----> 2\u001B[0m \u001B[38;5;28mprint\u001B[39m(\u001B[43mcatdf\u001B[49m\u001B[38;5;241m.\u001B[39mdtypes)\n",
      "\u001B[0;31mNameError\u001B[0m: name 'catdf' is not defined"
     ]
    }
   ],
   "source": [
    "#Check the types of the dataframe\n",
    "print(catdf.dtypes)\n"
   ],
   "metadata": {
    "collapsed": false,
    "ExecuteTime": {
     "end_time": "2024-04-15T17:36:26.667150Z",
     "start_time": "2024-04-15T17:36:26.651665Z"
    }
   },
   "id": "d5e1b9b5c655d91c",
   "execution_count": 323
  },
  {
   "cell_type": "code",
   "outputs": [
    {
     "ename": "NameError",
     "evalue": "name 'catdf' is not defined",
     "output_type": "error",
     "traceback": [
      "\u001B[0;31m---------------------------------------------------------------------------\u001B[0m",
      "\u001B[0;31mNameError\u001B[0m                                 Traceback (most recent call last)",
      "Cell \u001B[0;32mIn[324], line 5\u001B[0m\n\u001B[1;32m      1\u001B[0m \u001B[38;5;66;03m#Now do the analysis for these categories: \u001B[39;00m\n\u001B[1;32m      2\u001B[0m \u001B[38;5;66;03m#Change it to string\u001B[39;00m\n\u001B[1;32m      3\u001B[0m \n\u001B[1;32m      4\u001B[0m \u001B[38;5;66;03m# Create a copy of dfbias_clean_copy to work with\u001B[39;00m\n\u001B[0;32m----> 5\u001B[0m catSTR \u001B[38;5;241m=\u001B[39m \u001B[43mcatdf\u001B[49m\u001B[38;5;241m.\u001B[39mcopy()\n\u001B[1;32m      7\u001B[0m \u001B[38;5;66;03m# List of columns to exclude from conversion\u001B[39;00m\n\u001B[1;32m      8\u001B[0m exclude_columns \u001B[38;5;241m=\u001B[39m [\u001B[38;5;124m'\u001B[39m\u001B[38;5;124mlabel_value\u001B[39m\u001B[38;5;124m'\u001B[39m, \u001B[38;5;124m'\u001B[39m\u001B[38;5;124mscore\u001B[39m\u001B[38;5;124m'\u001B[39m]\n",
      "\u001B[0;31mNameError\u001B[0m: name 'catdf' is not defined"
     ]
    }
   ],
   "source": [
    "#Now do the analysis for these categories: \n",
    "#Change it to string\n",
    "\n",
    "# Create a copy of dfbias_clean_copy to work with\n",
    "catSTR = catdf.copy()\n",
    "\n",
    "# List of columns to exclude from conversion\n",
    "exclude_columns = ['label_value', 'score']\n",
    "\n",
    "# Convert all columns except 'label_value' and 'score' to string type (To make sure it is compatible)\n",
    "for column in catSTR.columns:\n",
    "    if column not in exclude_columns:\n",
    "        catSTR[column] = catSTR[column].astype(str)\n",
    "\n",
    "# Print the new DataFrame dfSTR\n",
    "print(catSTR.dtypes)"
   ],
   "metadata": {
    "collapsed": false,
    "ExecuteTime": {
     "end_time": "2024-04-15T17:36:26.799740Z",
     "start_time": "2024-04-15T17:36:26.781467Z"
    }
   },
   "id": "e74a2845e153685",
   "execution_count": 324
  },
  {
   "cell_type": "code",
   "outputs": [
    {
     "ename": "NameError",
     "evalue": "name 'dfbias_clean' is not defined",
     "output_type": "error",
     "traceback": [
      "\u001B[0;31m---------------------------------------------------------------------------\u001B[0m",
      "\u001B[0;31mNameError\u001B[0m                                 Traceback (most recent call last)",
      "Cell \u001B[0;32mIn[325], line 7\u001B[0m\n\u001B[1;32m      4\u001B[0m mapping \u001B[38;5;241m=\u001B[39m {\u001B[38;5;124m'\u001B[39m\u001B[38;5;124mLow\u001B[39m\u001B[38;5;124m'\u001B[39m: \u001B[38;5;241m0\u001B[39m, \u001B[38;5;124m'\u001B[39m\u001B[38;5;124mMedium\u001B[39m\u001B[38;5;124m'\u001B[39m: \u001B[38;5;241m1\u001B[39m, \u001B[38;5;124m'\u001B[39m\u001B[38;5;124mHigh\u001B[39m\u001B[38;5;124m'\u001B[39m: \u001B[38;5;241m1\u001B[39m}\n\u001B[1;32m      6\u001B[0m \u001B[38;5;66;03m# Map values in the 'label_value' column\u001B[39;00m\n\u001B[0;32m----> 7\u001B[0m dfbias_clean[\u001B[38;5;124m'\u001B[39m\u001B[38;5;124mlabel_value\u001B[39m\u001B[38;5;124m'\u001B[39m] \u001B[38;5;241m=\u001B[39m \u001B[43mdfbias_clean\u001B[49m[\u001B[38;5;124m'\u001B[39m\u001B[38;5;124mlabel_value\u001B[39m\u001B[38;5;124m'\u001B[39m]\u001B[38;5;241m.\u001B[39mmap(mapping)\n\u001B[1;32m      9\u001B[0m \u001B[38;5;66;03m# Print the DataFrame with updated values\u001B[39;00m\n\u001B[1;32m     10\u001B[0m \u001B[38;5;28mprint\u001B[39m(dfbias_clean)\n",
      "\u001B[0;31mNameError\u001B[0m: name 'dfbias_clean' is not defined"
     ]
    }
   ],
   "source": [
    "#Change the values of Low = 0 and Medium and High = 1\n",
    "\n",
    "# Define mapping dictionary\n",
    "mapping = {'Low': 0, 'Medium': 1, 'High': 1}\n",
    "\n",
    "# Map values in the 'label_value' column\n",
    "dfbias_clean['label_value'] = dfbias_clean['label_value'].map(mapping)\n",
    "\n",
    "# Print the DataFrame with updated values\n",
    "print(dfbias_clean)\n"
   ],
   "metadata": {
    "collapsed": false,
    "ExecuteTime": {
     "end_time": "2024-04-15T17:36:27.002489Z",
     "start_time": "2024-04-15T17:36:26.982906Z"
    }
   },
   "id": "102a7b5b2b562793",
   "execution_count": 325
  },
  {
   "cell_type": "code",
   "outputs": [
    {
     "ename": "NameError",
     "evalue": "name 'Group' is not defined",
     "output_type": "error",
     "traceback": [
      "\u001B[0;31m---------------------------------------------------------------------------\u001B[0m",
      "\u001B[0;31mNameError\u001B[0m                                 Traceback (most recent call last)",
      "Cell \u001B[0;32mIn[326], line 1\u001B[0m\n\u001B[0;32m----> 1\u001B[0m group \u001B[38;5;241m=\u001B[39m \u001B[43mGroup\u001B[49m()\n\u001B[1;32m      2\u001B[0m xtab, _ \u001B[38;5;241m=\u001B[39m group\u001B[38;5;241m.\u001B[39mget_crosstabs(catSTR)\n",
      "\u001B[0;31mNameError\u001B[0m: name 'Group' is not defined"
     ]
    }
   ],
   "source": [
    "group = Group()\n",
    "xtab, _ = group.get_crosstabs(catSTR)"
   ],
   "metadata": {
    "collapsed": false,
    "ExecuteTime": {
     "end_time": "2024-04-15T17:36:27.081070Z",
     "start_time": "2024-04-15T17:36:27.065135Z"
    }
   },
   "id": "af808be161f5ab90",
   "execution_count": 326
  },
  {
   "cell_type": "code",
   "outputs": [
    {
     "ename": "NameError",
     "evalue": "name 'group' is not defined",
     "output_type": "error",
     "traceback": [
      "\u001B[0;31m---------------------------------------------------------------------------\u001B[0m",
      "\u001B[0;31mNameError\u001B[0m                                 Traceback (most recent call last)",
      "Cell \u001B[0;32mIn[327], line 1\u001B[0m\n\u001B[0;32m----> 1\u001B[0m absolute_metrics \u001B[38;5;241m=\u001B[39m \u001B[43mgroup\u001B[49m\u001B[38;5;241m.\u001B[39mlist_absolute_metrics(xtab)\n",
      "\u001B[0;31mNameError\u001B[0m: name 'group' is not defined"
     ]
    }
   ],
   "source": [
    "absolute_metrics = group.list_absolute_metrics(xtab)"
   ],
   "metadata": {
    "collapsed": false,
    "ExecuteTime": {
     "end_time": "2024-04-15T17:36:27.256686Z",
     "start_time": "2024-04-15T17:36:27.240666Z"
    }
   },
   "id": "caf8918ed75a7923",
   "execution_count": 327
  },
  {
   "cell_type": "code",
   "outputs": [
    {
     "ename": "NameError",
     "evalue": "name 'xtab' is not defined",
     "output_type": "error",
     "traceback": [
      "\u001B[0;31m---------------------------------------------------------------------------\u001B[0m",
      "\u001B[0;31mNameError\u001B[0m                                 Traceback (most recent call last)",
      "Cell \u001B[0;32mIn[328], line 1\u001B[0m\n\u001B[0;32m----> 1\u001B[0m \u001B[43mxtab\u001B[49m[[col \u001B[38;5;28;01mfor\u001B[39;00m col \u001B[38;5;129;01min\u001B[39;00m xtab\u001B[38;5;241m.\u001B[39mcolumns \u001B[38;5;28;01mif\u001B[39;00m col \u001B[38;5;129;01mnot\u001B[39;00m \u001B[38;5;129;01min\u001B[39;00m absolute_metrics]]\n",
      "\u001B[0;31mNameError\u001B[0m: name 'xtab' is not defined"
     ]
    }
   ],
   "source": [
    "xtab[[col for col in xtab.columns if col not in absolute_metrics]]"
   ],
   "metadata": {
    "collapsed": false,
    "ExecuteTime": {
     "end_time": "2024-04-15T17:36:27.484650Z",
     "start_time": "2024-04-15T17:36:27.467959Z"
    }
   },
   "id": "1aa2f246a295f4ae",
   "execution_count": 328
  },
  {
   "cell_type": "code",
   "outputs": [
    {
     "ename": "NameError",
     "evalue": "name 'xtab' is not defined",
     "output_type": "error",
     "traceback": [
      "\u001B[0;31m---------------------------------------------------------------------------\u001B[0m",
      "\u001B[0;31mNameError\u001B[0m                                 Traceback (most recent call last)",
      "Cell \u001B[0;32mIn[329], line 1\u001B[0m\n\u001B[0;32m----> 1\u001B[0m \u001B[43mxtab\u001B[49m[[\u001B[38;5;124m'\u001B[39m\u001B[38;5;124mattribute_name\u001B[39m\u001B[38;5;124m'\u001B[39m, \u001B[38;5;124m'\u001B[39m\u001B[38;5;124mattribute_value\u001B[39m\u001B[38;5;124m'\u001B[39m] \u001B[38;5;241m+\u001B[39m absolute_metrics]\u001B[38;5;241m.\u001B[39mround(\u001B[38;5;241m2\u001B[39m)\n",
      "\u001B[0;31mNameError\u001B[0m: name 'xtab' is not defined"
     ]
    }
   ],
   "source": [
    "xtab[['attribute_name', 'attribute_value'] + absolute_metrics].round(2)"
   ],
   "metadata": {
    "collapsed": false,
    "ExecuteTime": {
     "end_time": "2024-04-15T17:36:27.552902Z",
     "start_time": "2024-04-15T17:36:27.535671Z"
    }
   },
   "id": "f14102b16bb815f8",
   "execution_count": 329
  },
  {
   "cell_type": "code",
   "outputs": [],
   "source": [
    "#Explanation \n",
    "#the true positive rate and the true negative rates are both 1 for all the variables. This means that the prediction is equal to the actual data. This is seems good, but it can raise some questions. Because data is collected, especially this data that has an anonymous or at least not ... source, you do not expect perfect data, perfect data is something that is non-existent. It therefore raises questions about the quality of the data and the way the data was collected. We should keep an eye on the conclusion that will be done from this data since it could be that there is only a certain amount of data, or that the data has been altered.\n",
    "\n",
    "#Since this is the case it doesn't work to compare different groups between each other since there are no differences. "
   ],
   "metadata": {
    "collapsed": false,
    "ExecuteTime": {
     "end_time": "2024-04-15T17:36:27.737092Z",
     "start_time": "2024-04-15T17:36:27.734263Z"
    }
   },
   "id": "418e6c52114584b7",
   "execution_count": 330
  },
  {
   "cell_type": "code",
   "outputs": [
    {
     "ename": "NameError",
     "evalue": "name 'Bias' is not defined",
     "output_type": "error",
     "traceback": [
      "\u001B[0;31m---------------------------------------------------------------------------\u001B[0m",
      "\u001B[0;31mNameError\u001B[0m                                 Traceback (most recent call last)",
      "Cell \u001B[0;32mIn[331], line 1\u001B[0m\n\u001B[0;32m----> 1\u001B[0m bias \u001B[38;5;241m=\u001B[39m \u001B[43mBias\u001B[49m()\n",
      "\u001B[0;31mNameError\u001B[0m: name 'Bias' is not defined"
     ]
    }
   ],
   "source": [
    "bias = Bias()\n"
   ],
   "metadata": {
    "collapsed": false,
    "ExecuteTime": {
     "end_time": "2024-04-15T17:36:27.819332Z",
     "start_time": "2024-04-15T17:36:27.803576Z"
    }
   },
   "id": "502454e96048375f",
   "execution_count": 331
  },
  {
   "cell_type": "code",
   "outputs": [
    {
     "ename": "NameError",
     "evalue": "name 'bias' is not defined",
     "output_type": "error",
     "traceback": [
      "\u001B[0;31m---------------------------------------------------------------------------\u001B[0m",
      "\u001B[0;31mNameError\u001B[0m                                 Traceback (most recent call last)",
      "Cell \u001B[0;32mIn[332], line 1\u001B[0m\n\u001B[0;32m----> 1\u001B[0m bias_df \u001B[38;5;241m=\u001B[39m \u001B[43mbias\u001B[49m\u001B[38;5;241m.\u001B[39mget_disparity_predefined_groups(xtab, original_df\u001B[38;5;241m=\u001B[39mcatSTR, \n\u001B[1;32m      2\u001B[0m                                         ref_groups_dict\u001B[38;5;241m=\u001B[39m{\u001B[38;5;124m'\u001B[39m\u001B[38;5;124mGender\u001B[39m\u001B[38;5;124m'\u001B[39m:\u001B[38;5;124m'\u001B[39m\u001B[38;5;124m1\u001B[39m\u001B[38;5;124m'\u001B[39m, \u001B[38;5;124m'\u001B[39m\u001B[38;5;124mOccuPational Hazards\u001B[39m\u001B[38;5;124m'\u001B[39m:\u001B[38;5;124m'\u001B[39m\u001B[38;5;124mLowOHaz\u001B[39m\u001B[38;5;124m'\u001B[39m, \u001B[38;5;124m'\u001B[39m\u001B[38;5;124mWeight Loss\u001B[39m\u001B[38;5;124m'\u001B[39m:\u001B[38;5;124m'\u001B[39m\u001B[38;5;124mMedWeightLoss\u001B[39m\u001B[38;5;124m'\u001B[39m, \u001B[38;5;124m'\u001B[39m\u001B[38;5;124mAge_Category\u001B[39m\u001B[38;5;124m'\u001B[39m:\u001B[38;5;124m'\u001B[39m\u001B[38;5;124mMediumAge\u001B[39m\u001B[38;5;124m'\u001B[39m}, \n\u001B[1;32m      3\u001B[0m                                         alpha\u001B[38;5;241m=\u001B[39m\u001B[38;5;241m0.05\u001B[39m, check_significance\u001B[38;5;241m=\u001B[39m\u001B[38;5;28;01mTrue\u001B[39;00m, \n\u001B[1;32m      4\u001B[0m                                         mask_significance\u001B[38;5;241m=\u001B[39m\u001B[38;5;28;01mTrue\u001B[39;00m)\n\u001B[1;32m      5\u001B[0m bias_df\u001B[38;5;241m.\u001B[39mstyle\n",
      "\u001B[0;31mNameError\u001B[0m: name 'bias' is not defined"
     ]
    }
   ],
   "source": [
    "bias_df = bias.get_disparity_predefined_groups(xtab, original_df=catSTR, \n",
    "                                        ref_groups_dict={'Gender':'1', 'OccuPational Hazards':'LowOHaz', 'Weight Loss':'MedWeightLoss', 'Age_Category':'MediumAge'}, \n",
    "                                        alpha=0.05, check_significance=True, \n",
    "                                        mask_significance=True)\n",
    "bias_df.style"
   ],
   "metadata": {
    "collapsed": false,
    "ExecuteTime": {
     "end_time": "2024-04-15T17:36:28.001354Z",
     "start_time": "2024-04-15T17:36:27.984028Z"
    }
   },
   "id": "31cd4416e5f1f263",
   "execution_count": 332
  },
  {
   "cell_type": "markdown",
   "source": [
    "The warning message above is not surprising since there are division by 0 while many values take the value of 0 "
   ],
   "metadata": {
    "collapsed": false
   },
   "id": "15468784b8973a2d"
  },
  {
   "cell_type": "code",
   "outputs": [
    {
     "ename": "NameError",
     "evalue": "name 'bias_df' is not defined",
     "output_type": "error",
     "traceback": [
      "\u001B[0;31m---------------------------------------------------------------------------\u001B[0m",
      "\u001B[0;31mNameError\u001B[0m                                 Traceback (most recent call last)",
      "Cell \u001B[0;32mIn[333], line 2\u001B[0m\n\u001B[1;32m      1\u001B[0m \u001B[38;5;66;03m# View disparity metrics added to dataframe\u001B[39;00m\n\u001B[0;32m----> 2\u001B[0m \u001B[43mbias_df\u001B[49m[[\u001B[38;5;124m'\u001B[39m\u001B[38;5;124mattribute_name\u001B[39m\u001B[38;5;124m'\u001B[39m, \u001B[38;5;124m'\u001B[39m\u001B[38;5;124mattribute_value\u001B[39m\u001B[38;5;124m'\u001B[39m] \u001B[38;5;241m+\u001B[39m\n\u001B[1;32m      3\u001B[0m      bias\u001B[38;5;241m.\u001B[39mlist_disparities(bias_df) \u001B[38;5;241m+\u001B[39m bias\u001B[38;5;241m.\u001B[39mlist_significance(bias_df)]\u001B[38;5;241m.\u001B[39mstyle\n",
      "\u001B[0;31mNameError\u001B[0m: name 'bias_df' is not defined"
     ]
    }
   ],
   "source": [
    "# View disparity metrics added to dataframe\n",
    "bias_df[['attribute_name', 'attribute_value'] +\n",
    "     bias.list_disparities(bias_df) + bias.list_significance(bias_df)].style"
   ],
   "metadata": {
    "collapsed": false,
    "ExecuteTime": {
     "end_time": "2024-04-15T17:36:28.100622Z",
     "start_time": "2024-04-15T17:36:28.084357Z"
    }
   },
   "id": "7398bcebe7595089",
   "execution_count": 333
  },
  {
   "cell_type": "code",
   "outputs": [],
   "source": [
    "metrics = ['fpr','fdr']\n",
    "disparity_tolerance = 1.25"
   ],
   "metadata": {
    "collapsed": false,
    "ExecuteTime": {
     "end_time": "2024-04-15T17:36:28.269358Z",
     "start_time": "2024-04-15T17:36:28.266539Z"
    }
   },
   "id": "baddb1c795d48d05",
   "execution_count": 334
  },
  {
   "cell_type": "code",
   "outputs": [
    {
     "ename": "NameError",
     "evalue": "name 'ap' is not defined",
     "output_type": "error",
     "traceback": [
      "\u001B[0;31m---------------------------------------------------------------------------\u001B[0m",
      "\u001B[0;31mNameError\u001B[0m                                 Traceback (most recent call last)",
      "Cell \u001B[0;32mIn[335], line 1\u001B[0m\n\u001B[0;32m----> 1\u001B[0m \u001B[43map\u001B[49m\u001B[38;5;241m.\u001B[39msummary(bias_df, metrics, fairness_threshold \u001B[38;5;241m=\u001B[39m disparity_tolerance)\n",
      "\u001B[0;31mNameError\u001B[0m: name 'ap' is not defined"
     ]
    }
   ],
   "source": [
    "ap.summary(bias_df, metrics, fairness_threshold = disparity_tolerance)"
   ],
   "metadata": {
    "collapsed": false,
    "ExecuteTime": {
     "end_time": "2024-04-15T17:36:28.373735Z",
     "start_time": "2024-04-15T17:36:28.356724Z"
    }
   },
   "id": "df38d11e628b5172",
   "execution_count": 335
  },
  {
   "cell_type": "code",
   "outputs": [
    {
     "ename": "NameError",
     "evalue": "name 'ap' is not defined",
     "output_type": "error",
     "traceback": [
      "\u001B[0;31m---------------------------------------------------------------------------\u001B[0m",
      "\u001B[0;31mNameError\u001B[0m                                 Traceback (most recent call last)",
      "Cell \u001B[0;32mIn[336], line 1\u001B[0m\n\u001B[0;32m----> 1\u001B[0m \u001B[43map\u001B[49m\u001B[38;5;241m.\u001B[39mdisparity(bias_df, metrics, \u001B[38;5;124m'\u001B[39m\u001B[38;5;124mGender\u001B[39m\u001B[38;5;124m'\u001B[39m, fairness_threshold \u001B[38;5;241m=\u001B[39m disparity_tolerance)\n",
      "\u001B[0;31mNameError\u001B[0m: name 'ap' is not defined"
     ]
    }
   ],
   "source": [
    "ap.disparity(bias_df, metrics, 'Gender', fairness_threshold = disparity_tolerance)"
   ],
   "metadata": {
    "collapsed": false,
    "ExecuteTime": {
     "end_time": "2024-04-15T17:36:28.555935Z",
     "start_time": "2024-04-15T17:36:28.540254Z"
    }
   },
   "id": "33cfbb5af31dcbae",
   "execution_count": 336
  },
  {
   "cell_type": "code",
   "outputs": [
    {
     "ename": "NameError",
     "evalue": "name 'ap' is not defined",
     "output_type": "error",
     "traceback": [
      "\u001B[0;31m---------------------------------------------------------------------------\u001B[0m",
      "\u001B[0;31mNameError\u001B[0m                                 Traceback (most recent call last)",
      "Cell \u001B[0;32mIn[337], line 1\u001B[0m\n\u001B[0;32m----> 1\u001B[0m \u001B[43map\u001B[49m\u001B[38;5;241m.\u001B[39mdisparity(bias_df, metrics, \u001B[38;5;124m'\u001B[39m\u001B[38;5;124mOccuPational Hazards\u001B[39m\u001B[38;5;124m'\u001B[39m, fairness_threshold \u001B[38;5;241m=\u001B[39m disparity_tolerance)\n",
      "\u001B[0;31mNameError\u001B[0m: name 'ap' is not defined"
     ]
    }
   ],
   "source": [
    "ap.disparity(bias_df, metrics, 'OccuPational Hazards', fairness_threshold = disparity_tolerance)"
   ],
   "metadata": {
    "collapsed": false,
    "ExecuteTime": {
     "end_time": "2024-04-15T17:36:28.660702Z",
     "start_time": "2024-04-15T17:36:28.644511Z"
    }
   },
   "id": "7849e04b10b6a1e6",
   "execution_count": 337
  },
  {
   "cell_type": "code",
   "outputs": [
    {
     "ename": "NameError",
     "evalue": "name 'ap' is not defined",
     "output_type": "error",
     "traceback": [
      "\u001B[0;31m---------------------------------------------------------------------------\u001B[0m",
      "\u001B[0;31mNameError\u001B[0m                                 Traceback (most recent call last)",
      "Cell \u001B[0;32mIn[338], line 1\u001B[0m\n\u001B[0;32m----> 1\u001B[0m \u001B[43map\u001B[49m\u001B[38;5;241m.\u001B[39mdisparity(bias_df, metrics, \u001B[38;5;124m'\u001B[39m\u001B[38;5;124mWeight Loss\u001B[39m\u001B[38;5;124m'\u001B[39m, fairness_threshold \u001B[38;5;241m=\u001B[39m disparity_tolerance)\n",
      "\u001B[0;31mNameError\u001B[0m: name 'ap' is not defined"
     ]
    }
   ],
   "source": [
    "ap.disparity(bias_df, metrics, 'Weight Loss', fairness_threshold = disparity_tolerance)"
   ],
   "metadata": {
    "collapsed": false,
    "ExecuteTime": {
     "end_time": "2024-04-15T17:36:28.808375Z",
     "start_time": "2024-04-15T17:36:28.791976Z"
    }
   },
   "id": "194a0fe4efdecd1c",
   "execution_count": 338
  },
  {
   "cell_type": "code",
   "outputs": [
    {
     "ename": "NameError",
     "evalue": "name 'ap' is not defined",
     "output_type": "error",
     "traceback": [
      "\u001B[0;31m---------------------------------------------------------------------------\u001B[0m",
      "\u001B[0;31mNameError\u001B[0m                                 Traceback (most recent call last)",
      "Cell \u001B[0;32mIn[339], line 1\u001B[0m\n\u001B[0;32m----> 1\u001B[0m \u001B[43map\u001B[49m\u001B[38;5;241m.\u001B[39mdisparity(bias_df, metrics, \u001B[38;5;124m'\u001B[39m\u001B[38;5;124mAge_Category\u001B[39m\u001B[38;5;124m'\u001B[39m, fairness_threshold \u001B[38;5;241m=\u001B[39m disparity_tolerance)\n",
      "\u001B[0;31mNameError\u001B[0m: name 'ap' is not defined"
     ]
    }
   ],
   "source": [
    "ap.disparity(bias_df, metrics, 'Age_Category', fairness_threshold = disparity_tolerance)"
   ],
   "metadata": {
    "collapsed": false,
    "ExecuteTime": {
     "end_time": "2024-04-15T17:36:28.884606Z",
     "start_time": "2024-04-15T17:36:28.868145Z"
    }
   },
   "id": "4865c12d6f369859",
   "execution_count": 339
  },
  {
   "cell_type": "markdown",
   "source": [
    "Because of the NaN value the part above cannot be performed. "
   ],
   "metadata": {
    "collapsed": false
   },
   "id": "4f9479f5dda31cd5"
  },
  {
   "cell_type": "markdown",
   "source": [
    "### Historical Biases\n",
    "\n",
    "**Historical biases**"
   ],
   "metadata": {
    "collapsed": false
   },
   "id": "35154d26608c315f"
  },
  {
   "cell_type": "markdown",
   "source": [
    "It is seen that the older people get the more likely they will have cancer. (https://www.webmd.com/cancer/cancer-incidence-age)\n",
    "Lastly, men are more likely to get cancer in general than women. (https://www.wcrf.org/cancer-trends/worldwide-cancer-data/)"
   ],
   "metadata": {
    "collapsed": false
   },
   "id": "649448d05d90417f"
  },
  {
   "cell_type": "code",
   "outputs": [
    {
     "ename": "NameError",
     "evalue": "name 'Bdf' is not defined",
     "output_type": "error",
     "traceback": [
      "\u001B[0;31m---------------------------------------------------------------------------\u001B[0m",
      "\u001B[0;31mNameError\u001B[0m                                 Traceback (most recent call last)",
      "Cell \u001B[0;32mIn[340], line 10\u001B[0m\n\u001B[1;32m      7\u001B[0m WCRF_womenP \u001B[38;5;241m=\u001B[39m WCRF_women \u001B[38;5;241m/\u001B[39m (WCRF_men \u001B[38;5;241m+\u001B[39m WCRF_women) \u001B[38;5;241m*\u001B[39m \u001B[38;5;241m100\u001B[39m\n\u001B[1;32m      9\u001B[0m \u001B[38;5;66;03m#Translate our data to percentages as well\u001B[39;00m\n\u001B[0;32m---> 10\u001B[0m Total_count_G \u001B[38;5;241m=\u001B[39m \u001B[43mBdf\u001B[49m[\u001B[38;5;124m'\u001B[39m\u001B[38;5;124mGender\u001B[39m\u001B[38;5;124m'\u001B[39m]\u001B[38;5;241m.\u001B[39mvalue_counts()\n\u001B[1;32m     11\u001B[0m \u001B[38;5;28mprint\u001B[39m(Total_count_G)\n\u001B[1;32m     14\u001B[0m \u001B[38;5;66;03m# Get the count of 1 and 2\u001B[39;00m\n",
      "\u001B[0;31mNameError\u001B[0m: name 'Bdf' is not defined"
     ]
    }
   ],
   "source": [
    "#Amount of new cancer cases for men in 2020 with cancer according to WCRF.org\n",
    "WCRF_men = 9342957\n",
    "#Amount of new cancer cases for men in 2020 with cancer according to WCRF.org\n",
    "WCRF_women = 8751759\n",
    "#Translate it into percentages because then it is easier to compare to the data in our dataset\n",
    "WCRF_menP = WCRF_men / (WCRF_men + WCRF_women) * 100 \n",
    "WCRF_womenP = WCRF_women / (WCRF_men + WCRF_women) * 100\n",
    "\n",
    "#Translate our data to percentages as well\n",
    "Total_count_G = Bdf['Gender'].value_counts()\n",
    "print(Total_count_G)\n",
    "\n",
    "\n",
    "# Get the count of 1 and 2\n",
    "Count_G_1 = Total_count_G.get(1, 0)  # If 1 doesn't exist, default to 0\n",
    "Count_G_2 = Total_count_G.get(2, 0)  # If 2 doesn't exist, default to 0\n",
    "\n",
    "#As discussed before, 1 is for males and 2 is for females\n",
    "print(\"Count of Males in 'Gender':\", Count_G_1)\n",
    "print(\"Count of Females in 'Gender':\", Count_G_2)\n",
    "\n",
    "Count_G_1P = Count_G_1 / (Count_G_1 + Count_G_2) * 100 \n",
    "Count_G_2P = Count_G_2 / (Count_G_1 + Count_G_2) * 100"
   ],
   "metadata": {
    "collapsed": false,
    "ExecuteTime": {
     "end_time": "2024-04-15T17:36:29.044163Z",
     "start_time": "2024-04-15T17:36:29.025126Z"
    }
   },
   "id": "14040222b0f67cec",
   "execution_count": 340
  },
  {
   "cell_type": "code",
   "outputs": [
    {
     "ename": "NameError",
     "evalue": "name 'Count_G_1P' is not defined",
     "output_type": "error",
     "traceback": [
      "\u001B[0;31m---------------------------------------------------------------------------\u001B[0m",
      "\u001B[0;31mNameError\u001B[0m                                 Traceback (most recent call last)",
      "Cell \u001B[0;32mIn[341], line 5\u001B[0m\n\u001B[1;32m      1\u001B[0m \u001B[38;5;66;03m#plot the percentages in a metric, with  our data as barplots and the reallife data as dots in the bar plot\u001B[39;00m\n\u001B[1;32m      2\u001B[0m \n\u001B[1;32m      3\u001B[0m \u001B[38;5;66;03m# Create bar plot\u001B[39;00m\n\u001B[1;32m      4\u001B[0m labels \u001B[38;5;241m=\u001B[39m [\u001B[38;5;124m'\u001B[39m\u001B[38;5;124mmales\u001B[39m\u001B[38;5;124m'\u001B[39m, \u001B[38;5;124m'\u001B[39m\u001B[38;5;124mfemales\u001B[39m\u001B[38;5;124m'\u001B[39m]\n\u001B[0;32m----> 5\u001B[0m values \u001B[38;5;241m=\u001B[39m [\u001B[43mCount_G_1P\u001B[49m, Count_G_2P]\n\u001B[1;32m      6\u001B[0m colors \u001B[38;5;241m=\u001B[39m [\u001B[38;5;124m'\u001B[39m\u001B[38;5;124mblue\u001B[39m\u001B[38;5;124m'\u001B[39m, \u001B[38;5;124m'\u001B[39m\u001B[38;5;124mgreen\u001B[39m\u001B[38;5;124m'\u001B[39m]\n\u001B[1;32m      8\u001B[0m plt\u001B[38;5;241m.\u001B[39mbar(labels, values, color\u001B[38;5;241m=\u001B[39mcolors)\n",
      "\u001B[0;31mNameError\u001B[0m: name 'Count_G_1P' is not defined"
     ]
    }
   ],
   "source": [
    "#plot the percentages in a metric, with  our data as barplots and the reallife data as dots in the bar plot\n",
    "\n",
    "# Create bar plot\n",
    "labels = ['males', 'females']\n",
    "values = [Count_G_1P, Count_G_2P]\n",
    "colors = ['blue', 'green']\n",
    "\n",
    "plt.bar(labels, values, color=colors)\n",
    "\n",
    "# Add big red dots\n",
    "plt.scatter(labels[0], WCRF_menP, color='red', s=200, label='real life distribution new cancer cases 2020 (Males)')\n",
    "plt.scatter(labels[1], WCRF_womenP, color='purple', s=200, label='real life distribution new cancer cases in 2020 (Females)')\n",
    "\n",
    "# Add legend\n",
    "plt.legend()\n",
    "\n",
    "# Add labels and title\n",
    "plt.xlabel('Gender')\n",
    "plt.ylabel('Percentage')\n",
    "plt.title('Bar plot of Count_G_1P and Count_G_2P')\n",
    "\n",
    "# Add more space to the top of the plot\n",
    "plt.ylim(0, 80)  # Adjust the upper limit of the y-axis\n",
    "\n",
    "# Show plot\n",
    "plt.show()\n",
    "\n",
    "#This shows that there are more cancer counts in the data, which might be a bias. BEcause men are seen to have cancer more often. "
   ],
   "metadata": {
    "collapsed": false,
    "ExecuteTime": {
     "end_time": "2024-04-15T17:36:29.256938Z",
     "start_time": "2024-04-15T17:36:29.236459Z"
    }
   },
   "id": "d658139b9ea47f10",
   "execution_count": 341
  },
  {
   "cell_type": "code",
   "outputs": [
    {
     "name": "stdout",
     "output_type": "stream",
     "text": [
      "Under 20: 1%\n",
      "20-34: 3%\n",
      "35-44: 5%\n",
      "45-54: 14%\n",
      "55-64: 24%\n",
      "65-74: 25%\n",
      "75-84: 20%\n",
      "85 and over: 8%\n"
     ]
    }
   ],
   "source": [
    "#Under 20: 1%, 20-34: 3%, 35-44: 5%, 45-54: 14%, 55-64: 24%, 65-74: 25%, 75-84: 20%, 85 and over: 8% from https://www.webmd.com/cancer/cancer-incidence-age, the cancer cases by age groups in the US\n",
    "\n",
    "#To change them into useable variables\n",
    "# Define age distribution percentages\n",
    "age_distribution = {\n",
    "    'Under 20': 1,\n",
    "    '20-34': 3,\n",
    "    '35-44': 5,\n",
    "    '45-54': 14,\n",
    "    '55-64': 24,\n",
    "    '65-74': 25,\n",
    "    '75-84': 20,\n",
    "    '85 and over': 8\n",
    "}\n",
    "\n",
    "# Test: Output the age distribution percentages\n",
    "for age_range, percentage in age_distribution.items():\n",
    "    print(f\"{age_range}: {percentage}%\")"
   ],
   "metadata": {
    "collapsed": false,
    "ExecuteTime": {
     "end_time": "2024-04-15T17:36:29.323939Z",
     "start_time": "2024-04-15T17:36:29.319420Z"
    }
   },
   "id": "eeb4af21f2d05bf6",
   "execution_count": 342
  },
  {
   "cell_type": "code",
   "outputs": [
    {
     "ename": "NameError",
     "evalue": "name 'pd' is not defined",
     "output_type": "error",
     "traceback": [
      "\u001B[0;31m---------------------------------------------------------------------------\u001B[0m",
      "\u001B[0;31mNameError\u001B[0m                                 Traceback (most recent call last)",
      "Cell \u001B[0;32mIn[343], line 14\u001B[0m\n\u001B[1;32m      2\u001B[0m age_groups \u001B[38;5;241m=\u001B[39m {\n\u001B[1;32m      3\u001B[0m     \u001B[38;5;124m'\u001B[39m\u001B[38;5;124mUnder 20 D\u001B[39m\u001B[38;5;124m'\u001B[39m: (\u001B[38;5;241m0\u001B[39m, \u001B[38;5;241m20\u001B[39m),\n\u001B[1;32m      4\u001B[0m     \u001B[38;5;124m'\u001B[39m\u001B[38;5;124m20-34 D\u001B[39m\u001B[38;5;124m'\u001B[39m: (\u001B[38;5;241m20\u001B[39m, \u001B[38;5;241m35\u001B[39m),\n\u001B[0;32m   (...)\u001B[0m\n\u001B[1;32m     10\u001B[0m     \u001B[38;5;124m'\u001B[39m\u001B[38;5;124m85 and over D\u001B[39m\u001B[38;5;124m'\u001B[39m: (\u001B[38;5;241m85\u001B[39m, \u001B[38;5;28mfloat\u001B[39m(\u001B[38;5;124m'\u001B[39m\u001B[38;5;124minf\u001B[39m\u001B[38;5;124m'\u001B[39m))  \u001B[38;5;66;03m# Use 'inf' for infinity\u001B[39;00m\n\u001B[1;32m     11\u001B[0m }\n\u001B[1;32m     13\u001B[0m \u001B[38;5;66;03m# Bin the 'Age' column into the defined age groups\u001B[39;00m\n\u001B[0;32m---> 14\u001B[0m Bdf[\u001B[38;5;124m'\u001B[39m\u001B[38;5;124mAge Group\u001B[39m\u001B[38;5;124m'\u001B[39m] \u001B[38;5;241m=\u001B[39m \u001B[43mpd\u001B[49m\u001B[38;5;241m.\u001B[39mcut(Bdf[\u001B[38;5;124m'\u001B[39m\u001B[38;5;124mAge\u001B[39m\u001B[38;5;124m'\u001B[39m], bins\u001B[38;5;241m=\u001B[39m[age_range[\u001B[38;5;241m0\u001B[39m] \u001B[38;5;28;01mfor\u001B[39;00m age_range \u001B[38;5;129;01min\u001B[39;00m age_groups\u001B[38;5;241m.\u001B[39mvalues()] \u001B[38;5;241m+\u001B[39m [\u001B[38;5;28mfloat\u001B[39m(\u001B[38;5;124m'\u001B[39m\u001B[38;5;124minf\u001B[39m\u001B[38;5;124m'\u001B[39m)],\n\u001B[1;32m     15\u001B[0m                           labels\u001B[38;5;241m=\u001B[39mage_groups\u001B[38;5;241m.\u001B[39mkeys(), right\u001B[38;5;241m=\u001B[39m\u001B[38;5;28;01mFalse\u001B[39;00m)\n\u001B[1;32m     17\u001B[0m \u001B[38;5;66;03m# Count the occurrences of each age group\u001B[39;00m\n\u001B[1;32m     18\u001B[0m age_group_counts \u001B[38;5;241m=\u001B[39m Bdf[\u001B[38;5;124m'\u001B[39m\u001B[38;5;124mAge Group\u001B[39m\u001B[38;5;124m'\u001B[39m]\u001B[38;5;241m.\u001B[39mvalue_counts()\n",
      "\u001B[0;31mNameError\u001B[0m: name 'pd' is not defined"
     ]
    }
   ],
   "source": [
    "# Define age groups and their corresponding ranges\n",
    "age_groups = {\n",
    "    'Under 20 D': (0, 20),\n",
    "    '20-34 D': (20, 35),\n",
    "    '35-44 D': (35, 45),\n",
    "    '45-54 D': (45, 55),\n",
    "    '55-64 D': (55, 65),\n",
    "    '65-74 D': (65, 75),\n",
    "    '75-84 D': (75, 85),\n",
    "    '85 and over D': (85, float('inf'))  # Use 'inf' for infinity\n",
    "}\n",
    "\n",
    "# Bin the 'Age' column into the defined age groups\n",
    "Bdf['Age Group'] = pd.cut(Bdf['Age'], bins=[age_range[0] for age_range in age_groups.values()] + [float('inf')],\n",
    "                          labels=age_groups.keys(), right=False)\n",
    "\n",
    "# Count the occurrences of each age group\n",
    "age_group_counts = Bdf['Age Group'].value_counts()\n",
    "\n",
    "# Calculate the percentage of each age group relative to the total number of rows\n",
    "total_rows = len(Bdf)\n",
    "age_group_percentages = (age_group_counts / total_rows) * 100\n",
    "\n",
    "# Display the percentage of each age group\n",
    "print(\"Percentage of each age group relative to the whole dataframe:\")\n",
    "print(age_group_percentages)"
   ],
   "metadata": {
    "collapsed": false,
    "ExecuteTime": {
     "end_time": "2024-04-15T17:36:29.521612Z",
     "start_time": "2024-04-15T17:36:29.500333Z"
    }
   },
   "id": "6f0494097895616",
   "execution_count": 343
  },
  {
   "cell_type": "code",
   "outputs": [
    {
     "ename": "NameError",
     "evalue": "name 'pd' is not defined",
     "output_type": "error",
     "traceback": [
      "\u001B[0;31m---------------------------------------------------------------------------\u001B[0m",
      "\u001B[0;31mNameError\u001B[0m                                 Traceback (most recent call last)",
      "Cell \u001B[0;32mIn[344], line 14\u001B[0m\n\u001B[1;32m      2\u001B[0m age_distribution \u001B[38;5;241m=\u001B[39m {\n\u001B[1;32m      3\u001B[0m     \u001B[38;5;124m'\u001B[39m\u001B[38;5;124mUnder 20\u001B[39m\u001B[38;5;124m'\u001B[39m: \u001B[38;5;241m1\u001B[39m,\n\u001B[1;32m      4\u001B[0m     \u001B[38;5;124m'\u001B[39m\u001B[38;5;124m20-34\u001B[39m\u001B[38;5;124m'\u001B[39m: \u001B[38;5;241m3\u001B[39m,\n\u001B[0;32m   (...)\u001B[0m\n\u001B[1;32m     10\u001B[0m     \u001B[38;5;124m'\u001B[39m\u001B[38;5;124m85 and over\u001B[39m\u001B[38;5;124m'\u001B[39m: \u001B[38;5;241m8\u001B[39m\n\u001B[1;32m     11\u001B[0m }\n\u001B[1;32m     13\u001B[0m \u001B[38;5;66;03m# Sample data (replace this with your actual data)\u001B[39;00m\n\u001B[0;32m---> 14\u001B[0m age_group_percentages \u001B[38;5;241m=\u001B[39m \u001B[43mpd\u001B[49m\u001B[38;5;241m.\u001B[39mSeries({\n\u001B[1;32m     15\u001B[0m     \u001B[38;5;124m'\u001B[39m\u001B[38;5;124m19 and under D\u001B[39m\u001B[38;5;124m'\u001B[39m: \u001B[38;5;241m10\u001B[39m,\n\u001B[1;32m     16\u001B[0m     \u001B[38;5;124m'\u001B[39m\u001B[38;5;124m20-34 D\u001B[39m\u001B[38;5;124m'\u001B[39m: \u001B[38;5;241m15\u001B[39m,\n\u001B[1;32m     17\u001B[0m     \u001B[38;5;124m'\u001B[39m\u001B[38;5;124m35-44 D\u001B[39m\u001B[38;5;124m'\u001B[39m: \u001B[38;5;241m20\u001B[39m,\n\u001B[1;32m     18\u001B[0m     \u001B[38;5;124m'\u001B[39m\u001B[38;5;124m45-54 D\u001B[39m\u001B[38;5;124m'\u001B[39m: \u001B[38;5;241m25\u001B[39m,\n\u001B[1;32m     19\u001B[0m     \u001B[38;5;124m'\u001B[39m\u001B[38;5;124m55-64 D\u001B[39m\u001B[38;5;124m'\u001B[39m: \u001B[38;5;241m18\u001B[39m,\n\u001B[1;32m     20\u001B[0m     \u001B[38;5;124m'\u001B[39m\u001B[38;5;124m65-74 D\u001B[39m\u001B[38;5;124m'\u001B[39m: \u001B[38;5;241m8\u001B[39m,\n\u001B[1;32m     21\u001B[0m     \u001B[38;5;124m'\u001B[39m\u001B[38;5;124m75-84 D\u001B[39m\u001B[38;5;124m'\u001B[39m: \u001B[38;5;241m3\u001B[39m,\n\u001B[1;32m     22\u001B[0m     \u001B[38;5;124m'\u001B[39m\u001B[38;5;124m85 and over D\u001B[39m\u001B[38;5;124m'\u001B[39m: \u001B[38;5;241m1\u001B[39m\n\u001B[1;32m     23\u001B[0m })\n\u001B[1;32m     25\u001B[0m \u001B[38;5;66;03m# Sort the age_group_percentages Series by index (which are the age group labels)\u001B[39;00m\n\u001B[1;32m     26\u001B[0m age_group_percentages_sorted \u001B[38;5;241m=\u001B[39m age_group_percentages\u001B[38;5;241m.\u001B[39msort_index()\n",
      "\u001B[0;31mNameError\u001B[0m: name 'pd' is not defined"
     ]
    }
   ],
   "source": [
    "# Additional data, to add the comparison with the real life data\n",
    "age_distribution = {\n",
    "    'Under 20': 1,\n",
    "    '20-34': 3,\n",
    "    '35-44': 5,\n",
    "    '45-54': 14,\n",
    "    '55-64': 24,\n",
    "    '65-74': 25,\n",
    "    '75-84': 20,\n",
    "    '85 and over': 8\n",
    "}\n",
    "\n",
    "# Sample data (replace this with your actual data)\n",
    "age_group_percentages = pd.Series({\n",
    "    '19 and under D': 10,\n",
    "    '20-34 D': 15,\n",
    "    '35-44 D': 20,\n",
    "    '45-54 D': 25,\n",
    "    '55-64 D': 18,\n",
    "    '65-74 D': 8,\n",
    "    '75-84 D': 3,\n",
    "    '85 and over D': 1\n",
    "})\n",
    "\n",
    "# Sort the age_group_percentages Series by index (which are the age group labels)\n",
    "age_group_percentages_sorted = age_group_percentages.sort_index()\n",
    "\n",
    "# Plot the percentages\n",
    "plt.figure(figsize=(10, 6))  # Adjust the figure size\n",
    "\n",
    "# Plot the bar chart\n",
    "age_group_percentages_sorted.plot(kind='bar', color='skyblue', label='Percentage from data')\n",
    "\n",
    "# Add labels and title\n",
    "plt.xlabel('Age Group')\n",
    "plt.ylabel('Percentage')\n",
    "plt.title('Percentage of Each Age Group')\n",
    "\n",
    "# Rotate x-axis labels for better readability\n",
    "plt.xticks(rotation=45, ha='right')\n",
    "\n",
    "# Add data labels\n",
    "for i, v in enumerate(age_group_percentages_sorted):\n",
    "    plt.text(i, v + 0.5, f\"{v}%\", ha='center', va='bottom')\n",
    "\n",
    "# Add legend with one dot for the red dot\n",
    "plt.legend(handles=[plt.scatter([], [], color='red', s=100)], labels=['The real value of cancer cases in the UK'])\n",
    "\n",
    "# Add big red dots for the additional data\n",
    "for i, (age_range, percentage) in enumerate(age_distribution.items()):\n",
    "    plt.scatter(i, percentage, color='red', s=100, zorder=5)\n",
    "\n",
    "# Show plot\n",
    "plt.tight_layout()  # Adjust layout to prevent overlapping labels\n",
    "plt.show()\n"
   ],
   "metadata": {
    "collapsed": false,
    "ExecuteTime": {
     "end_time": "2024-04-15T17:36:29.774148Z",
     "start_time": "2024-04-15T17:36:29.743151Z"
    }
   },
   "id": "cd1fcc439cd4024e",
   "execution_count": 344
  },
  {
   "cell_type": "markdown",
   "source": [
    "This is a very interesting graph as it show a clear opposite of what is expected."
   ],
   "metadata": {
    "collapsed": false
   },
   "id": "75aade32f35d8bb8"
  },
  {
   "cell_type": "markdown",
   "source": [
    "# Model Explainability\n",
    "The model explainablity serves as a good way to investigate which features in the data are truly impactful. There are two ways of doing so. For simpler models, instrinsic explainations suffice. For a more sophisticated approach there are post-hoc explainability tools that serve this function. \n",
    "\n",
    "### Intrinsic Explainability\n",
    "Here we look at the instrinsic properties of a tree model to study and discover the more important attributes. "
   ],
   "metadata": {
    "collapsed": false
   },
   "id": "3e640bc86a8bbd9"
  },
  {
   "cell_type": "code",
   "execution_count": 345,
   "outputs": [
    {
     "ename": "NameError",
     "evalue": "name 'cancer_df' is not defined",
     "output_type": "error",
     "traceback": [
      "\u001B[0;31m---------------------------------------------------------------------------\u001B[0m",
      "\u001B[0;31mNameError\u001B[0m                                 Traceback (most recent call last)",
      "Cell \u001B[0;32mIn[345], line 2\u001B[0m\n\u001B[1;32m      1\u001B[0m \u001B[38;5;66;03m# The original dataframe is copied, because for this part we recode and drop some attributes\u001B[39;00m\n\u001B[0;32m----> 2\u001B[0m cancer_df_explain \u001B[38;5;241m=\u001B[39m \u001B[43mcancer_df\u001B[49m\u001B[38;5;241m.\u001B[39mcopy()\n\u001B[1;32m      3\u001B[0m \u001B[38;5;66;03m# The patient ID is dropped and the level attributes are recoded, because these explanation models function on binary decision-making.\u001B[39;00m\n\u001B[1;32m      4\u001B[0m cancer_df_explain\u001B[38;5;241m.\u001B[39mdrop([\u001B[38;5;124m'\u001B[39m\u001B[38;5;124mPatient Id\u001B[39m\u001B[38;5;124m'\u001B[39m], axis\u001B[38;5;241m=\u001B[39m\u001B[38;5;241m1\u001B[39m, inplace\u001B[38;5;241m=\u001B[39m\u001B[38;5;28;01mTrue\u001B[39;00m)\n",
      "\u001B[0;31mNameError\u001B[0m: name 'cancer_df' is not defined"
     ]
    }
   ],
   "source": [
    "# The original dataframe is copied, because for this part we recode and drop some attributes\n",
    "cancer_df_explain = cancer_df.copy()\n",
    "# The patient ID is dropped and the level attributes are recoded, because these explanation models function on binary decision-making.\n",
    "cancer_df_explain.drop(['Patient Id'], axis=1, inplace=True)\n",
    "cancer_df_explain['Level'].replace(1, 0,inplace=True)\n",
    "cancer_df_explain['Level'].replace(2, 0,inplace=True)\n",
    "cancer_df_explain['Level'].replace(3, 1,inplace=True)\n",
    "cancer_df_explain"
   ],
   "metadata": {
    "collapsed": false,
    "ExecuteTime": {
     "end_time": "2024-04-15T17:36:29.840606Z",
     "start_time": "2024-04-15T17:36:29.822151Z"
    }
   },
   "id": "1ab67202473c655a"
  },
  {
   "cell_type": "code",
   "execution_count": 346,
   "outputs": [
    {
     "ename": "NameError",
     "evalue": "name 'cancer_df_explain' is not defined",
     "output_type": "error",
     "traceback": [
      "\u001B[0;31m---------------------------------------------------------------------------\u001B[0m",
      "\u001B[0;31mNameError\u001B[0m                                 Traceback (most recent call last)",
      "Cell \u001B[0;32mIn[346], line 2\u001B[0m\n\u001B[1;32m      1\u001B[0m \u001B[38;5;66;03m# The feature names are taken from the dataframe.\u001B[39;00m\n\u001B[0;32m----> 2\u001B[0m feature_names \u001B[38;5;241m=\u001B[39m \u001B[43mcancer_df_explain\u001B[49m\u001B[38;5;241m.\u001B[39mcolumns[:\u001B[38;5;241m-\u001B[39m\u001B[38;5;241m1\u001B[39m]\n\u001B[1;32m      3\u001B[0m feature_names\n",
      "\u001B[0;31mNameError\u001B[0m: name 'cancer_df_explain' is not defined"
     ]
    }
   ],
   "source": [
    "# The feature names are taken from the dataframe.\n",
    "feature_names = cancer_df_explain.columns[:-1]\n",
    "feature_names"
   ],
   "metadata": {
    "collapsed": false,
    "ExecuteTime": {
     "end_time": "2024-04-15T17:36:30.039375Z",
     "start_time": "2024-04-15T17:36:30.023158Z"
    }
   },
   "id": "995cae04c01bded1"
  },
  {
   "cell_type": "code",
   "execution_count": 347,
   "outputs": [
    {
     "ename": "NameError",
     "evalue": "name 'cancer_df_explain' is not defined",
     "output_type": "error",
     "traceback": [
      "\u001B[0;31m---------------------------------------------------------------------------\u001B[0m",
      "\u001B[0;31mNameError\u001B[0m                                 Traceback (most recent call last)",
      "Cell \u001B[0;32mIn[347], line 2\u001B[0m\n\u001B[1;32m      1\u001B[0m \u001B[38;5;66;03m# Mark labels and encode them using sklearn. This is mainly done to ensure that the labels are sensical.\u001B[39;00m\n\u001B[0;32m----> 2\u001B[0m labels \u001B[38;5;241m=\u001B[39m \u001B[43mcancer_df_explain\u001B[49m\u001B[38;5;241m.\u001B[39miloc[:, \u001B[38;5;241m-\u001B[39m\u001B[38;5;241m1\u001B[39m]\n\u001B[1;32m      3\u001B[0m le \u001B[38;5;241m=\u001B[39m sklearn\u001B[38;5;241m.\u001B[39mpreprocessing\u001B[38;5;241m.\u001B[39mLabelEncoder()\n\u001B[1;32m      4\u001B[0m le\u001B[38;5;241m.\u001B[39mfit(labels)\n",
      "\u001B[0;31mNameError\u001B[0m: name 'cancer_df_explain' is not defined"
     ]
    }
   ],
   "source": [
    "# Mark labels and encode them using sklearn. This is mainly done to ensure that the labels are sensical.\n",
    "labels = cancer_df_explain.iloc[:, -1]\n",
    "le = sklearn.preprocessing.LabelEncoder()\n",
    "le.fit(labels)\n",
    "labels_intrinsic = le.transform(labels)\n",
    "class_names = le.classes_\n",
    "data_intrinsic = cancer_df_explain.iloc[:, :-1]\n",
    "le_label_mapping = dict(zip(le.classes_, le.transform(le.classes_)))\n",
    "print(\"Class names: \", class_names)\n",
    "print(\"Label mapping: \", le_label_mapping)\n",
    "# Check if there are categorical varibles that we need to make dummies for\n",
    "print(data_intrinsic.dtypes)"
   ],
   "metadata": {
    "collapsed": false,
    "ExecuteTime": {
     "end_time": "2024-04-15T17:36:30.302861Z",
     "start_time": "2024-04-15T17:36:30.283617Z"
    }
   },
   "id": "3d6f9811e89d12fe"
  },
  {
   "cell_type": "code",
   "execution_count": 348,
   "outputs": [
    {
     "ename": "NameError",
     "evalue": "name 'sklearn' is not defined",
     "output_type": "error",
     "traceback": [
      "\u001B[0;31m---------------------------------------------------------------------------\u001B[0m",
      "\u001B[0;31mNameError\u001B[0m                                 Traceback (most recent call last)",
      "Cell \u001B[0;32mIn[348], line 2\u001B[0m\n\u001B[1;32m      1\u001B[0m \u001B[38;5;66;03m# Train a model by gradient boosting for the sake of explainability.\u001B[39;00m\n\u001B[0;32m----> 2\u001B[0m train_intrinsic, test_intrinsic, labels_train_intrinsic, labels_test_intrinsic\u001B[38;5;241m=\u001B[39m \u001B[43msklearn\u001B[49m\u001B[38;5;241m.\u001B[39mmodel_selection\u001B[38;5;241m.\u001B[39mtrain_test_split(data_intrinsic, labels_intrinsic, train_size\u001B[38;5;241m=\u001B[39m\u001B[38;5;241m0.80\u001B[39m, random_state\u001B[38;5;241m=\u001B[39m\u001B[38;5;241m10\u001B[39m)\n\u001B[1;32m      3\u001B[0m \u001B[38;5;28mprint\u001B[39m(\u001B[38;5;124m\"\u001B[39m\u001B[38;5;124mTrain shape: \u001B[39m\u001B[38;5;124m\"\u001B[39m, train_intrinsic\u001B[38;5;241m.\u001B[39mshape)\n\u001B[1;32m      4\u001B[0m \u001B[38;5;28mprint\u001B[39m(\u001B[38;5;124m\"\u001B[39m\u001B[38;5;124mTest shape: \u001B[39m\u001B[38;5;124m\"\u001B[39m, test_intrinsic\u001B[38;5;241m.\u001B[39mshape)\n",
      "\u001B[0;31mNameError\u001B[0m: name 'sklearn' is not defined"
     ]
    }
   ],
   "source": [
    "# Train a model by gradient boosting for the sake of explainability.\n",
    "train_intrinsic, test_intrinsic, labels_train_intrinsic, labels_test_intrinsic= sklearn.model_selection.train_test_split(data_intrinsic, labels_intrinsic, train_size=0.80, random_state=10)\n",
    "print(\"Train shape: \", train_intrinsic.shape)\n",
    "print(\"Test shape: \", test_intrinsic.shape)"
   ],
   "metadata": {
    "collapsed": false,
    "ExecuteTime": {
     "end_time": "2024-04-15T17:36:30.376433Z",
     "start_time": "2024-04-15T17:36:30.359654Z"
    }
   },
   "id": "d83cb4a7b8757d6c"
  },
  {
   "cell_type": "code",
   "execution_count": 349,
   "outputs": [
    {
     "ename": "NameError",
     "evalue": "name 'xgboost' is not defined",
     "output_type": "error",
     "traceback": [
      "\u001B[0;31m---------------------------------------------------------------------------\u001B[0m",
      "\u001B[0;31mNameError\u001B[0m                                 Traceback (most recent call last)",
      "Cell \u001B[0;32mIn[349], line 2\u001B[0m\n\u001B[1;32m      1\u001B[0m \u001B[38;5;66;03m# Fit the gradient boosted model.\u001B[39;00m\n\u001B[0;32m----> 2\u001B[0m gbtree_intrinsic \u001B[38;5;241m=\u001B[39m \u001B[43mxgboost\u001B[49m\u001B[38;5;241m.\u001B[39mXGBClassifier(n_estimators\u001B[38;5;241m=\u001B[39m\u001B[38;5;241m200\u001B[39m, max_depth\u001B[38;5;241m=\u001B[39m\u001B[38;5;241m5\u001B[39m)\n\u001B[1;32m      3\u001B[0m gbtree_intrinsic\u001B[38;5;241m.\u001B[39mfit(train_intrinsic, labels_train_intrinsic)\n",
      "\u001B[0;31mNameError\u001B[0m: name 'xgboost' is not defined"
     ]
    }
   ],
   "source": [
    "# Fit the gradient boosted model.\n",
    "gbtree_intrinsic = xgboost.XGBClassifier(n_estimators=200, max_depth=5)\n",
    "gbtree_intrinsic.fit(train_intrinsic, labels_train_intrinsic)"
   ],
   "metadata": {
    "collapsed": false,
    "ExecuteTime": {
     "end_time": "2024-04-15T17:36:30.560016Z",
     "start_time": "2024-04-15T17:36:30.543275Z"
    }
   },
   "id": "48837f109cba2e29"
  },
  {
   "cell_type": "code",
   "execution_count": 350,
   "outputs": [
    {
     "ename": "NameError",
     "evalue": "name 'gbtree_intrinsic' is not defined",
     "output_type": "error",
     "traceback": [
      "\u001B[0;31m---------------------------------------------------------------------------\u001B[0m",
      "\u001B[0;31mNameError\u001B[0m                                 Traceback (most recent call last)",
      "Cell \u001B[0;32mIn[350], line 2\u001B[0m\n\u001B[1;32m      1\u001B[0m \u001B[38;5;66;03m# Testing for predictive accuracy. \u001B[39;00m\n\u001B[0;32m----> 2\u001B[0m pred_labels_test_intrinsic \u001B[38;5;241m=\u001B[39m \u001B[43mgbtree_intrinsic\u001B[49m\u001B[38;5;241m.\u001B[39mpredict(test_intrinsic)\n\u001B[1;32m      3\u001B[0m \u001B[38;5;66;03m# Calcualte accuracy on the test set\u001B[39;00m\n\u001B[1;32m      4\u001B[0m \u001B[38;5;28mprint\u001B[39m(\u001B[38;5;124m\"\u001B[39m\u001B[38;5;124mTest set accuracy: \u001B[39m\u001B[38;5;124m\"\u001B[39m, sklearn\u001B[38;5;241m.\u001B[39mmetrics\u001B[38;5;241m.\u001B[39maccuracy_score(labels_test_intrinsic, pred_labels_test_intrinsic))\n",
      "\u001B[0;31mNameError\u001B[0m: name 'gbtree_intrinsic' is not defined"
     ]
    }
   ],
   "source": [
    "# Testing for predictive accuracy. \n",
    "pred_labels_test_intrinsic = gbtree_intrinsic.predict(test_intrinsic)\n",
    "# Calcualte accuracy on the test set\n",
    "print(\"Test set accuracy: \", sklearn.metrics.accuracy_score(labels_test_intrinsic, pred_labels_test_intrinsic))"
   ],
   "metadata": {
    "collapsed": false,
    "ExecuteTime": {
     "end_time": "2024-04-15T17:36:30.696769Z",
     "start_time": "2024-04-15T17:36:30.676760Z"
    }
   },
   "id": "b4265813cdf86589"
  },
  {
   "cell_type": "markdown",
   "source": [
    "### Prepare for the feature importance plot of the instrinsic explainability"
   ],
   "metadata": {
    "collapsed": false
   },
   "id": "904dd25f3996df28"
  },
  {
   "cell_type": "code",
   "execution_count": 351,
   "outputs": [
    {
     "ename": "NameError",
     "evalue": "name 'gbtree_intrinsic' is not defined",
     "output_type": "error",
     "traceback": [
      "\u001B[0;31m---------------------------------------------------------------------------\u001B[0m",
      "\u001B[0;31mNameError\u001B[0m                                 Traceback (most recent call last)",
      "Cell \u001B[0;32mIn[351], line 2\u001B[0m\n\u001B[1;32m      1\u001B[0m \u001B[38;5;66;03m# Get feature names for the transformed dataset so that they'll show up on the plot \u001B[39;00m\n\u001B[0;32m----> 2\u001B[0m gbtree_features_orig \u001B[38;5;241m=\u001B[39m \u001B[43mgbtree_intrinsic\u001B[49m\u001B[38;5;241m.\u001B[39mget_booster()\u001B[38;5;241m.\u001B[39mfeature_names\n\u001B[1;32m      3\u001B[0m gbtree_features \u001B[38;5;241m=\u001B[39m []\n\u001B[1;32m      4\u001B[0m gbtree_features\u001B[38;5;241m.\u001B[39mextend([feature_names[i] \u001B[38;5;28;01mfor\u001B[39;00m i \u001B[38;5;129;01min\u001B[39;00m \u001B[38;5;28mrange\u001B[39m(\u001B[38;5;28mlen\u001B[39m(feature_names))])\n",
      "\u001B[0;31mNameError\u001B[0m: name 'gbtree_intrinsic' is not defined"
     ]
    }
   ],
   "source": [
    "# Get feature names for the transformed dataset so that they'll show up on the plot \n",
    "gbtree_features_orig = gbtree_intrinsic.get_booster().feature_names\n",
    "gbtree_features = []\n",
    "gbtree_features.extend([feature_names[i] for i in range(len(feature_names))])\n",
    "gbtree_intrinsic.get_booster().feature_names = gbtree_features"
   ],
   "metadata": {
    "collapsed": false,
    "ExecuteTime": {
     "end_time": "2024-04-15T17:36:30.942423Z",
     "start_time": "2024-04-15T17:36:30.923837Z"
    }
   },
   "id": "1fc81cb29ce4db3c"
  },
  {
   "cell_type": "code",
   "execution_count": 352,
   "outputs": [
    {
     "ename": "NameError",
     "evalue": "name 'xgboost' is not defined",
     "output_type": "error",
     "traceback": [
      "\u001B[0;31m---------------------------------------------------------------------------\u001B[0m",
      "\u001B[0;31mNameError\u001B[0m                                 Traceback (most recent call last)",
      "Cell \u001B[0;32mIn[352], line 2\u001B[0m\n\u001B[1;32m      1\u001B[0m \u001B[38;5;66;03m# The weight importance plot\u001B[39;00m\n\u001B[0;32m----> 2\u001B[0m \u001B[43mxgboost\u001B[49m\u001B[38;5;241m.\u001B[39mplot_importance(gbtree_intrinsic, importance_type\u001B[38;5;241m=\u001B[39m\u001B[38;5;124m\"\u001B[39m\u001B[38;5;124mweight\u001B[39m\u001B[38;5;124m\"\u001B[39m, max_num_features\u001B[38;5;241m=\u001B[39m\u001B[38;5;241m5\u001B[39m)\n\u001B[1;32m      3\u001B[0m plt\u001B[38;5;241m.\u001B[39mtitle(\u001B[38;5;124m\"\u001B[39m\u001B[38;5;124mFeature Importance using weight as measurement criteria\u001B[39m\u001B[38;5;124m\"\u001B[39m)\n\u001B[1;32m      4\u001B[0m plt\u001B[38;5;241m.\u001B[39mshow()\n",
      "\u001B[0;31mNameError\u001B[0m: name 'xgboost' is not defined"
     ]
    }
   ],
   "source": [
    "# The weight importance plot\n",
    "xgboost.plot_importance(gbtree_intrinsic, importance_type=\"weight\", max_num_features=5)\n",
    "plt.title(\"Feature Importance using weight as measurement criteria\")\n",
    "plt.show()"
   ],
   "metadata": {
    "collapsed": false,
    "ExecuteTime": {
     "end_time": "2024-04-15T17:36:31.029461Z",
     "start_time": "2024-04-15T17:36:31.011766Z"
    }
   },
   "id": "1f514cc94f04195c"
  },
  {
   "cell_type": "code",
   "execution_count": 353,
   "outputs": [
    {
     "ename": "NameError",
     "evalue": "name 'xgboost' is not defined",
     "output_type": "error",
     "traceback": [
      "\u001B[0;31m---------------------------------------------------------------------------\u001B[0m",
      "\u001B[0;31mNameError\u001B[0m                                 Traceback (most recent call last)",
      "Cell \u001B[0;32mIn[353], line 2\u001B[0m\n\u001B[1;32m      1\u001B[0m \u001B[38;5;66;03m# The cover importance plot\u001B[39;00m\n\u001B[0;32m----> 2\u001B[0m \u001B[43mxgboost\u001B[49m\u001B[38;5;241m.\u001B[39mplot_importance(gbtree_intrinsic, importance_type\u001B[38;5;241m=\u001B[39m\u001B[38;5;124m\"\u001B[39m\u001B[38;5;124mcover\u001B[39m\u001B[38;5;124m\"\u001B[39m, max_num_features\u001B[38;5;241m=\u001B[39m\u001B[38;5;241m5\u001B[39m)\n\u001B[1;32m      3\u001B[0m plt\u001B[38;5;241m.\u001B[39mtitle(\u001B[38;5;124m\"\u001B[39m\u001B[38;5;124mFeature Importance using cover as measurement criteria\u001B[39m\u001B[38;5;124m\"\u001B[39m)\n\u001B[1;32m      4\u001B[0m plt\u001B[38;5;241m.\u001B[39mshow()\n",
      "\u001B[0;31mNameError\u001B[0m: name 'xgboost' is not defined"
     ]
    }
   ],
   "source": [
    "# The cover importance plot\n",
    "xgboost.plot_importance(gbtree_intrinsic, importance_type=\"cover\", max_num_features=5)\n",
    "plt.title(\"Feature Importance using cover as measurement criteria\")\n",
    "plt.show()"
   ],
   "metadata": {
    "collapsed": false,
    "ExecuteTime": {
     "end_time": "2024-04-15T17:36:31.258868Z",
     "start_time": "2024-04-15T17:36:31.239548Z"
    }
   },
   "id": "59e2197d28a7d844"
  },
  {
   "cell_type": "code",
   "execution_count": 354,
   "outputs": [
    {
     "ename": "NameError",
     "evalue": "name 'xgboost' is not defined",
     "output_type": "error",
     "traceback": [
      "\u001B[0;31m---------------------------------------------------------------------------\u001B[0m",
      "\u001B[0;31mNameError\u001B[0m                                 Traceback (most recent call last)",
      "Cell \u001B[0;32mIn[354], line 2\u001B[0m\n\u001B[1;32m      1\u001B[0m \u001B[38;5;66;03m# The gain importance plot\u001B[39;00m\n\u001B[0;32m----> 2\u001B[0m \u001B[43mxgboost\u001B[49m\u001B[38;5;241m.\u001B[39mplot_importance(gbtree_intrinsic, importance_type\u001B[38;5;241m=\u001B[39m\u001B[38;5;124m\"\u001B[39m\u001B[38;5;124mgain\u001B[39m\u001B[38;5;124m\"\u001B[39m, max_num_features\u001B[38;5;241m=\u001B[39m\u001B[38;5;241m5\u001B[39m)\n\u001B[1;32m      3\u001B[0m plt\u001B[38;5;241m.\u001B[39mtitle(\u001B[38;5;124m\"\u001B[39m\u001B[38;5;124mFeature Importance using gain as measurement criteria\u001B[39m\u001B[38;5;124m\"\u001B[39m)\n\u001B[1;32m      4\u001B[0m plt\u001B[38;5;241m.\u001B[39mshow()\n",
      "\u001B[0;31mNameError\u001B[0m: name 'xgboost' is not defined"
     ]
    }
   ],
   "source": [
    "# The gain importance plot\n",
    "xgboost.plot_importance(gbtree_intrinsic, importance_type=\"gain\", max_num_features=5)\n",
    "plt.title(\"Feature Importance using gain as measurement criteria\")\n",
    "plt.show()"
   ],
   "metadata": {
    "collapsed": false,
    "ExecuteTime": {
     "end_time": "2024-04-15T17:36:31.486389Z",
     "start_time": "2024-04-15T17:36:31.470664Z"
    }
   },
   "id": "1b131cf2e6b0f31d"
  },
  {
   "cell_type": "markdown",
   "source": [
    "### Post-hoc explainability (using SHAP)\n",
    "SHAP is a sophisticated tool that uses a post-hoc explanation approach to discover the importance of features."
   ],
   "metadata": {
    "collapsed": false
   },
   "id": "757febd65e9d67c7"
  },
  {
   "cell_type": "code",
   "execution_count": 355,
   "outputs": [
    {
     "ename": "NameError",
     "evalue": "name 'train_intrinsic' is not defined",
     "output_type": "error",
     "traceback": [
      "\u001B[0;31m---------------------------------------------------------------------------\u001B[0m",
      "\u001B[0;31mNameError\u001B[0m                                 Traceback (most recent call last)",
      "Cell \u001B[0;32mIn[355], line 2\u001B[0m\n\u001B[1;32m      1\u001B[0m \u001B[38;5;66;03m# Looking at the shape of df that are going to be used.\u001B[39;00m\n\u001B[0;32m----> 2\u001B[0m \u001B[38;5;28mprint\u001B[39m(\u001B[43mtrain_intrinsic\u001B[49m\u001B[38;5;241m.\u001B[39mshape)\n\u001B[1;32m      3\u001B[0m \u001B[38;5;28mprint\u001B[39m(test_intrinsic\u001B[38;5;241m.\u001B[39mshape)\n\u001B[1;32m      4\u001B[0m \u001B[38;5;28mprint\u001B[39m(labels_train_intrinsic\u001B[38;5;241m.\u001B[39mshape)\n",
      "\u001B[0;31mNameError\u001B[0m: name 'train_intrinsic' is not defined"
     ]
    }
   ],
   "source": [
    "# Looking at the shape of df that are going to be used.\n",
    "print(train_intrinsic.shape)\n",
    "print(test_intrinsic.shape)\n",
    "print(labels_train_intrinsic.shape)\n",
    "print(labels_test_intrinsic.shape)"
   ],
   "metadata": {
    "collapsed": false,
    "ExecuteTime": {
     "end_time": "2024-04-15T17:36:31.586005Z",
     "start_time": "2024-04-15T17:36:31.570057Z"
    }
   },
   "id": "2b95679e347bbd8d"
  },
  {
   "cell_type": "code",
   "execution_count": 356,
   "outputs": [
    {
     "ename": "NameError",
     "evalue": "name 'xgboost' is not defined",
     "output_type": "error",
     "traceback": [
      "\u001B[0;31m---------------------------------------------------------------------------\u001B[0m",
      "\u001B[0;31mNameError\u001B[0m                                 Traceback (most recent call last)",
      "Cell \u001B[0;32mIn[356], line 2\u001B[0m\n\u001B[1;32m      1\u001B[0m \u001B[38;5;66;03m# Fit the (shap) model with the variables from the intrinsic model part. It's only useful if the intrinsic model part is used here, since this one needs to be actually explained.\u001B[39;00m\n\u001B[0;32m----> 2\u001B[0m gbtree_shap \u001B[38;5;241m=\u001B[39m \u001B[43mxgboost\u001B[49m\u001B[38;5;241m.\u001B[39mXGBClassifier(n_estimators\u001B[38;5;241m=\u001B[39m\u001B[38;5;241m200\u001B[39m, max_depth\u001B[38;5;241m=\u001B[39m\u001B[38;5;241m5\u001B[39m)\n\u001B[1;32m      3\u001B[0m gbtree_shap\u001B[38;5;241m.\u001B[39mfit(train_intrinsic, labels_train_intrinsic)\n",
      "\u001B[0;31mNameError\u001B[0m: name 'xgboost' is not defined"
     ]
    }
   ],
   "source": [
    "# Fit the (shap) model with the variables from the intrinsic model part. It's only useful if the intrinsic model part is used here, since this one needs to be actually explained.\n",
    "gbtree_shap = xgboost.XGBClassifier(n_estimators=200, max_depth=5)\n",
    "gbtree_shap.fit(train_intrinsic, labels_train_intrinsic)"
   ],
   "metadata": {
    "collapsed": false,
    "ExecuteTime": {
     "end_time": "2024-04-15T17:36:31.790531Z",
     "start_time": "2024-04-15T17:36:31.773320Z"
    }
   },
   "id": "8a335d15c46ccf72"
  },
  {
   "cell_type": "code",
   "execution_count": 357,
   "outputs": [
    {
     "ename": "NameError",
     "evalue": "name 'gbtree_shap' is not defined",
     "output_type": "error",
     "traceback": [
      "\u001B[0;31m---------------------------------------------------------------------------\u001B[0m",
      "\u001B[0;31mNameError\u001B[0m                                 Traceback (most recent call last)",
      "Cell \u001B[0;32mIn[357], line 2\u001B[0m\n\u001B[1;32m      1\u001B[0m \u001B[38;5;66;03m# Make predictions and measure the accuracy again (this should be the same as the intrinsic part)\u001B[39;00m\n\u001B[0;32m----> 2\u001B[0m pred_labels_test \u001B[38;5;241m=\u001B[39m \u001B[43mgbtree_shap\u001B[49m\u001B[38;5;241m.\u001B[39mpredict(test_intrinsic)\n\u001B[1;32m      3\u001B[0m \u001B[38;5;28mprint\u001B[39m(\u001B[38;5;124m\"\u001B[39m\u001B[38;5;124mTest set accuracy: \u001B[39m\u001B[38;5;124m\"\u001B[39m, sklearn\u001B[38;5;241m.\u001B[39mmetrics\u001B[38;5;241m.\u001B[39maccuracy_score(labels_test_intrinsic, pred_labels_test))\n",
      "\u001B[0;31mNameError\u001B[0m: name 'gbtree_shap' is not defined"
     ]
    }
   ],
   "source": [
    "# Make predictions and measure the accuracy again (this should be the same as the intrinsic part)\n",
    "pred_labels_test = gbtree_shap.predict(test_intrinsic)\n",
    "print(\"Test set accuracy: \", sklearn.metrics.accuracy_score(labels_test_intrinsic, pred_labels_test))"
   ],
   "metadata": {
    "collapsed": false,
    "ExecuteTime": {
     "end_time": "2024-04-15T17:36:31.858503Z",
     "start_time": "2024-04-15T17:36:31.841497Z"
    }
   },
   "id": "5082ab521cf701bf"
  },
  {
   "cell_type": "code",
   "execution_count": 358,
   "outputs": [
    {
     "ename": "NameError",
     "evalue": "name 'shap' is not defined",
     "output_type": "error",
     "traceback": [
      "\u001B[0;31m---------------------------------------------------------------------------\u001B[0m",
      "\u001B[0;31mNameError\u001B[0m                                 Traceback (most recent call last)",
      "Cell \u001B[0;32mIn[358], line 2\u001B[0m\n\u001B[1;32m      1\u001B[0m \u001B[38;5;66;03m# Creating the post-hoc explainer with shap\u001B[39;00m\n\u001B[0;32m----> 2\u001B[0m explainer \u001B[38;5;241m=\u001B[39m \u001B[43mshap\u001B[49m\u001B[38;5;241m.\u001B[39mTreeExplainer(gbtree_shap)\n\u001B[1;32m      3\u001B[0m shap_values \u001B[38;5;241m=\u001B[39m explainer\u001B[38;5;241m.\u001B[39mshap_values(test_intrinsic)\n",
      "\u001B[0;31mNameError\u001B[0m: name 'shap' is not defined"
     ]
    }
   ],
   "source": [
    "# Creating the post-hoc explainer with shap\n",
    "explainer = shap.TreeExplainer(gbtree_shap)\n",
    "shap_values = explainer.shap_values(test_intrinsic)"
   ],
   "metadata": {
    "collapsed": false,
    "ExecuteTime": {
     "end_time": "2024-04-15T17:36:32.092030Z",
     "start_time": "2024-04-15T17:36:32.074786Z"
    }
   },
   "id": "3de15c2a8abb0dfd"
  },
  {
   "cell_type": "code",
   "execution_count": 359,
   "outputs": [
    {
     "ename": "NameError",
     "evalue": "name 'shap' is not defined",
     "output_type": "error",
     "traceback": [
      "\u001B[0;31m---------------------------------------------------------------------------\u001B[0m",
      "\u001B[0;31mNameError\u001B[0m                                 Traceback (most recent call last)",
      "Cell \u001B[0;32mIn[359], line 2\u001B[0m\n\u001B[1;32m      1\u001B[0m \u001B[38;5;66;03m# Plotting the explanation and most relevant values and features.\u001B[39;00m\n\u001B[0;32m----> 2\u001B[0m \u001B[43mshap\u001B[49m\u001B[38;5;241m.\u001B[39msummary_plot(shap_values, test_intrinsic, feature_names\u001B[38;5;241m=\u001B[39mfeature_names, plot_type\u001B[38;5;241m=\u001B[39m\u001B[38;5;124m'\u001B[39m\u001B[38;5;124mbar\u001B[39m\u001B[38;5;124m'\u001B[39m)\n",
      "\u001B[0;31mNameError\u001B[0m: name 'shap' is not defined"
     ]
    }
   ],
   "source": [
    "# Plotting the explanation and most relevant values and features.\n",
    "shap.summary_plot(shap_values, test_intrinsic, feature_names=feature_names, plot_type='bar')"
   ],
   "metadata": {
    "collapsed": false,
    "ExecuteTime": {
     "end_time": "2024-04-15T17:36:32.235063Z",
     "start_time": "2024-04-15T17:36:32.219770Z"
    }
   },
   "id": "a3f57cdc3afd0379"
  },
  {
   "cell_type": "code",
   "execution_count": 360,
   "outputs": [
    {
     "ename": "NameError",
     "evalue": "name 'shap_values' is not defined",
     "output_type": "error",
     "traceback": [
      "\u001B[0;31m---------------------------------------------------------------------------\u001B[0m",
      "\u001B[0;31mNameError\u001B[0m                                 Traceback (most recent call last)",
      "Cell \u001B[0;32mIn[360], line 2\u001B[0m\n\u001B[1;32m      1\u001B[0m \u001B[38;5;66;03m# Looking at the shapes of the data objects to fit them into the waterfall\u001B[39;00m\n\u001B[0;32m----> 2\u001B[0m \u001B[38;5;28mprint\u001B[39m(\u001B[43mshap_values\u001B[49m\u001B[38;5;241m.\u001B[39mshape)\n\u001B[1;32m      3\u001B[0m \u001B[38;5;28mprint\u001B[39m(test_intrinsic\u001B[38;5;241m.\u001B[39mshape)\n",
      "\u001B[0;31mNameError\u001B[0m: name 'shap_values' is not defined"
     ]
    }
   ],
   "source": [
    "# Looking at the shapes of the data objects to fit them into the waterfall\n",
    "print(shap_values.shape)\n",
    "print(test_intrinsic.shape)"
   ],
   "metadata": {
    "collapsed": false,
    "ExecuteTime": {
     "end_time": "2024-04-15T17:36:32.340015Z",
     "start_time": "2024-04-15T17:36:32.319827Z"
    }
   },
   "id": "6b62a105d0f0ec24"
  },
  {
   "cell_type": "code",
   "execution_count": 361,
   "outputs": [
    {
     "ename": "NameError",
     "evalue": "name '_waterfall' is not defined",
     "output_type": "error",
     "traceback": [
      "\u001B[0;31m---------------------------------------------------------------------------\u001B[0m",
      "\u001B[0;31mNameError\u001B[0m                                 Traceback (most recent call last)",
      "Cell \u001B[0;32mIn[361], line 3\u001B[0m\n\u001B[1;32m      1\u001B[0m \u001B[38;5;66;03m#i is the index of the data point of interest,(investigated i = 8 and i = 27)\u001B[39;00m\n\u001B[1;32m      2\u001B[0m i \u001B[38;5;241m=\u001B[39m \u001B[38;5;241m8\u001B[39m\n\u001B[0;32m----> 3\u001B[0m \u001B[43m_waterfall\u001B[49m\u001B[38;5;241m.\u001B[39mwaterfall_legacy(explainer\u001B[38;5;241m.\u001B[39mexpected_value, shap_values[i], test_intrinsic\u001B[38;5;241m.\u001B[39miloc[i])\n",
      "\u001B[0;31mNameError\u001B[0m: name '_waterfall' is not defined"
     ]
    }
   ],
   "source": [
    "#i is the index of the data point of interest,(investigated i = 8 and i = 27)\n",
    "i = 8\n",
    "_waterfall.waterfall_legacy(explainer.expected_value, shap_values[i], test_intrinsic.iloc[i])"
   ],
   "metadata": {
    "collapsed": false,
    "ExecuteTime": {
     "end_time": "2024-04-15T17:36:32.495973Z",
     "start_time": "2024-04-15T17:36:32.479704Z"
    }
   },
   "id": "6ad8e434c11d64b"
  },
  {
   "cell_type": "code",
   "execution_count": 362,
   "outputs": [
    {
     "ename": "NameError",
     "evalue": "name 'shap' is not defined",
     "output_type": "error",
     "traceback": [
      "\u001B[0;31m---------------------------------------------------------------------------\u001B[0m",
      "\u001B[0;31mNameError\u001B[0m                                 Traceback (most recent call last)",
      "Cell \u001B[0;32mIn[362], line 2\u001B[0m\n\u001B[1;32m      1\u001B[0m \u001B[38;5;66;03m# Studying specific points of interest (investigated i = 67 and i = 34)\u001B[39;00m\n\u001B[0;32m----> 2\u001B[0m \u001B[43mshap\u001B[49m\u001B[38;5;241m.\u001B[39minitjs()\n\u001B[1;32m      3\u001B[0m i\u001B[38;5;241m=\u001B[39m\u001B[38;5;241m34\u001B[39m\n\u001B[1;32m      4\u001B[0m shap\u001B[38;5;241m.\u001B[39mforce_plot(explainer\u001B[38;5;241m.\u001B[39mexpected_value, shap_values[i,:], X_test\u001B[38;5;241m.\u001B[39miloc[i,:], matplotlib\u001B[38;5;241m=\u001B[39m\u001B[38;5;28;01mTrue\u001B[39;00m)\n",
      "\u001B[0;31mNameError\u001B[0m: name 'shap' is not defined"
     ]
    }
   ],
   "source": [
    "# Studying specific points of interest (investigated i = 67 and i = 34)\n",
    "shap.initjs()\n",
    "i=34\n",
    "shap.force_plot(explainer.expected_value, shap_values[i,:], X_test.iloc[i,:], matplotlib=True)"
   ],
   "metadata": {
    "collapsed": false,
    "ExecuteTime": {
     "end_time": "2024-04-15T17:36:32.609143Z",
     "start_time": "2024-04-15T17:36:32.591038Z"
    }
   },
   "id": "3e0776afae9a172d"
  },
  {
   "cell_type": "code",
   "execution_count": 363,
   "outputs": [
    {
     "ename": "NameError",
     "evalue": "name 'shap' is not defined",
     "output_type": "error",
     "traceback": [
      "\u001B[0;31m---------------------------------------------------------------------------\u001B[0m",
      "\u001B[0;31mNameError\u001B[0m                                 Traceback (most recent call last)",
      "Cell \u001B[0;32mIn[363], line 2\u001B[0m\n\u001B[1;32m      1\u001B[0m \u001B[38;5;66;03m# The whole summary plot\u001B[39;00m\n\u001B[0;32m----> 2\u001B[0m \u001B[43mshap\u001B[49m\u001B[38;5;241m.\u001B[39msummary_plot(shap_values, test_intrinsic)\n",
      "\u001B[0;31mNameError\u001B[0m: name 'shap' is not defined"
     ]
    }
   ],
   "source": [
    "# The whole summary plot\n",
    "shap.summary_plot(shap_values, test_intrinsic)"
   ],
   "metadata": {
    "collapsed": false,
    "ExecuteTime": {
     "end_time": "2024-04-15T17:36:32.786495Z",
     "start_time": "2024-04-15T17:36:32.770798Z"
    }
   },
   "id": "e6c3cb6aa0358af"
  },
  {
   "cell_type": "code",
   "execution_count": 364,
   "outputs": [
    {
     "ename": "NameError",
     "evalue": "name 'shap' is not defined",
     "output_type": "error",
     "traceback": [
      "\u001B[0;31m---------------------------------------------------------------------------\u001B[0m",
      "\u001B[0;31mNameError\u001B[0m                                 Traceback (most recent call last)",
      "Cell \u001B[0;32mIn[364], line 3\u001B[0m\n\u001B[1;32m      1\u001B[0m \u001B[38;5;66;03m# Summary plots with Possibility to filter and/or create cohort plots\u001B[39;00m\n\u001B[1;32m      2\u001B[0m \u001B[38;5;66;03m# First 50\u001B[39;00m\n\u001B[0;32m----> 3\u001B[0m \u001B[43mshap\u001B[49m\u001B[38;5;241m.\u001B[39msummary_plot(shap_values[:\u001B[38;5;241m50\u001B[39m, :], test_intrinsic\u001B[38;5;241m.\u001B[39miloc[:\u001B[38;5;241m50\u001B[39m, :])\n",
      "\u001B[0;31mNameError\u001B[0m: name 'shap' is not defined"
     ]
    }
   ],
   "source": [
    "# Summary plots with Possibility to filter and/or create cohort plots\n",
    "# First 50\n",
    "shap.summary_plot(shap_values[:50, :], test_intrinsic.iloc[:50, :])"
   ],
   "metadata": {
    "collapsed": false,
    "ExecuteTime": {
     "end_time": "2024-04-15T17:36:32.948958Z",
     "start_time": "2024-04-15T17:36:32.931533Z"
    }
   },
   "id": "77fe9dd2c1748a35"
  },
  {
   "cell_type": "code",
   "outputs": [],
   "source": [],
   "metadata": {
    "collapsed": false,
    "ExecuteTime": {
     "end_time": "2024-04-15T17:36:33.003158Z",
     "start_time": "2024-04-15T17:36:33.001080Z"
    }
   },
   "id": "b30dab0c1f893268",
   "execution_count": 364
  },
  {
   "cell_type": "code",
   "outputs": [],
   "source": [],
   "metadata": {
    "collapsed": false,
    "ExecuteTime": {
     "end_time": "2024-04-15T17:36:33.220378Z",
     "start_time": "2024-04-15T17:36:33.218418Z"
    }
   },
   "id": "8d612cdb3d74e8d6",
   "execution_count": 364
  },
  {
   "cell_type": "code",
   "outputs": [],
   "source": [],
   "metadata": {
    "collapsed": false,
    "ExecuteTime": {
     "end_time": "2024-04-15T17:36:33.294873Z",
     "start_time": "2024-04-15T17:36:33.292807Z"
    }
   },
   "id": "57a628731fada2b",
   "execution_count": 364
  },
  {
   "cell_type": "code",
   "outputs": [],
   "source": [],
   "metadata": {
    "collapsed": false,
    "ExecuteTime": {
     "end_time": "2024-04-15T17:36:33.448323Z",
     "start_time": "2024-04-15T17:36:33.445601Z"
    }
   },
   "id": "63480a47a93ec0e0",
   "execution_count": 364
  },
  {
   "cell_type": "code",
   "outputs": [],
   "source": [],
   "metadata": {
    "collapsed": false,
    "ExecuteTime": {
     "end_time": "2024-04-15T17:36:33.514389Z",
     "start_time": "2024-04-15T17:36:33.512070Z"
    }
   },
   "id": "2ae285980c92d858",
   "execution_count": 364
  },
  {
   "cell_type": "code",
   "outputs": [],
   "source": [],
   "metadata": {
    "collapsed": false,
    "ExecuteTime": {
     "end_time": "2024-04-15T17:36:33.589602Z",
     "start_time": "2024-04-15T17:36:33.587101Z"
    }
   },
   "id": "74644b622cb00103",
   "execution_count": 364
  }
 ],
 "metadata": {
  "kernelspec": {
   "display_name": "Python 3",
   "language": "python",
   "name": "python3"
  },
  "language_info": {
   "codemirror_mode": {
    "name": "ipython",
    "version": 2
   },
   "file_extension": ".py",
   "mimetype": "text/x-python",
   "name": "python",
   "nbconvert_exporter": "python",
   "pygments_lexer": "ipython2",
   "version": "2.7.6"
  }
 },
 "nbformat": 4,
 "nbformat_minor": 5
}
